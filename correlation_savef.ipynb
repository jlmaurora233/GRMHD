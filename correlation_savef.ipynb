{
 "cells": [
  {
   "cell_type": "code",
   "execution_count": 1,
   "id": "7a643ea7",
   "metadata": {},
   "outputs": [],
   "source": [
    "from toolz import valmap\n",
    "\n",
    "import h5py\n",
    "import pyharm\n",
    "\n",
    "import matplotlib.pyplot as plt\n",
    "import numpy as np\n",
    "from numpy import ma\n",
    "from matplotlib import ticker, cm\n",
    "import pyharm.plots.plot_dumps as pplt\n",
    "from scipy import signal\n",
    "\n",
    "from mpl_toolkits import mplot3d"
   ]
  },
  {
   "cell_type": "code",
   "execution_count": 2,
   "id": "cc09e7f5",
   "metadata": {},
   "outputs": [],
   "source": [
    "i0 = 5010 # initial  frame\n",
    "i1 = 5061 # 1 + last frame\n",
    "\n",
    "fmt = 'torus.out0.{:05d}.h5'\n",
    "\n",
    "qualities = ['RHO', 'Pg', 'bsq', 'beta', 'Theta', 'Thetae']"
   ]
  },
  {
   "cell_type": "code",
   "execution_count": 3,
   "id": "31ebebff",
   "metadata": {},
   "outputs": [],
   "source": [
    "# some constants\n",
    "cl = 29979245800.0 # speed of light in cgs\n",
    "mp = 1.67262171e-24\n",
    "kb = 1.3806505e-16\n",
    "mu = 1."
   ]
  },
  {
   "cell_type": "code",
   "execution_count": 4,
   "id": "1e954e9c",
   "metadata": {},
   "outputs": [],
   "source": [
    "def fname(i, src): # closure on `src` and `fmt`\n",
    "    return (src+fmt).format(i)"
   ]
  },
  {
   "cell_type": "code",
   "execution_count": 5,
   "id": "01eb0aaf",
   "metadata": {},
   "outputs": [],
   "source": [
    "src_ma_10M = '/xdisk/chanc/share/GRMHD_dt10M/Ma+0.94_w5/'\n",
    "src_sa_10M = '/xdisk/chanc/share/GRMHD_dt10M/Sa+0.94_w5/'\n",
    "\n",
    "src_ma_1000M = '/xdisk/chanc/share/GRMHD_dt1000M/Ma+0.94_w5/'\n",
    "src_sa_1000M = '/xdisk/chanc/share/GRMHD_dt1000M/Sa+0.94_w5/'\n",
    "\n",
    "dump0 = pyharm.load_dump(fname(i0, src_ma_10M))\n",
    "R_low = 1.\n",
    "R_high = [1, 10, 40, 160]\n",
    "# first row of SANE model params"
   ]
  },
  {
   "cell_type": "code",
   "execution_count": 6,
   "id": "53a7a0d5",
   "metadata": {},
   "outputs": [],
   "source": [
    "def get_dumps(i0, i1, src, step=1):\n",
    "    dumps = {}\n",
    "    for i in range(i0, i1, step):\n",
    "        dumps[str(i)] = pyharm.load_dump(fname(i, src))\n",
    "    return dumps"
   ]
  },
  {
   "cell_type": "code",
   "execution_count": 7,
   "id": "85caf4b6",
   "metadata": {},
   "outputs": [],
   "source": [
    "def average(irange, dumps, keys):\n",
    "    s = {k:0 for k in keys}\n",
    "    for i in irange:\n",
    "        # print('i:', i)\n",
    "        # Because data I/O is expensive, we load the data once ...\n",
    "        d = dumps[str(i)].cache\n",
    "        # print('d:', d)\n",
    "        # ... and then sum over multiple keys\n",
    "        for k in keys:\n",
    "            s[k] += d[k] # i.e.: s[key1] = file1[key1] + file2[key1] + file3[key1] + ...\n",
    "            # print('s[k]:', s[k])\n",
    "            # print('d[k]', d[k])\n",
    "    print('finish average calculation.')\n",
    "    return valmap(lambda v: v/len(irange), s) # return an average of variables from the files read in"
   ]
  },
  {
   "cell_type": "code",
   "execution_count": 8,
   "id": "19ecf502",
   "metadata": {},
   "outputs": [],
   "source": [
    "# works; returns an array of arrays with numerical values\n",
    "def variance(irange, dumps, quality='Te'):\n",
    "    \"\"\"\n",
    "    quality: str, the physical quality whose variance values we want (e.g. 'Te' for electron temperature)\n",
    "    dumps: dictionary, all the dump files read in\n",
    "    \"\"\"\n",
    "    key = 'var' + quality\n",
    "    ss = {key: 0}\n",
    "    for i in irange:\n",
    "        d = dumps[str(i)].cache\n",
    "        ss[key] += (d[quality]-d['avg' + quality])**2\n",
    "    for i in irange:\n",
    "        dumps[str(i)].cache[key] = ss[key]\n",
    "    print('finish variance & standard deviation calculation\\'s loop.')\n",
    "    # return valmap(lambda v: v/len(irange), ss)"
   ]
  },
  {
   "cell_type": "markdown",
   "id": "b3713c92",
   "metadata": {},
   "source": [
    "$\\gamma = \\frac{4}{3}$, $x_{e} = \\frac{1}{4}$, so ions:electrons = 3:1 (y=1, z=3; $\\gamma_{i}=\\gamma=\\frac{4}{3}, \\gamma_e = \\gamma + x_{e} / (1 - x_{e})(5/3 - \\gamma) = \\frac{7}{3}$) <br> \n",
    "$Const = m_{p}(\\gamma_{e}-1)(\\gamma_{i}-1)$ <br> \n",
    "$const1 = y(\\gamma_{i}-1)$ <br>\n",
    "$const2 = z(\\gamma_{e}-1)$ <br>\n",
    "$const3 = k_{B}(\\gamma-1)$"
   ]
  },
  {
   "cell_type": "code",
   "execution_count": 9,
   "id": "c25af930",
   "metadata": {},
   "outputs": [],
   "source": [
    "def get_statistics(dumps, quality):\n",
    "    \"\"\"\n",
    "    dumps: the dumps' dictionary in the format of dumps={'5010':arr1, '5011':arr2, etc}\n",
    "    quality: string, the quality whose statistics we want \n",
    "    \"\"\"\n",
    "    print('statistics on ' + quality + ':')\n",
    "    print('max ' + quality + ':')\n",
    "    maximum = np.max(dumps[str(i0)].cache[quality])\n",
    "    print(\"{:e}\".format(maximum))\n",
    "    print('percentile on ' + quality+ ' [50%, 75%, 90%]:')\n",
    "    # percentile of the flattened grid\n",
    "    percentile = np.percentile(dumps[str(i0)].cache[quality], [50, 75, 90])\n",
    "    print(percentile)"
   ]
  },
  {
   "cell_type": "markdown",
   "id": "c78e5979",
   "metadata": {},
   "source": [
    "## Get var(Te), var($\\rho$), var(Pg), and var($P_{mag}$)"
   ]
  },
  {
   "cell_type": "markdown",
   "id": "1074b21e",
   "metadata": {},
   "source": [
    "so many calculations...memory issue"
   ]
  },
  {
   "cell_type": "code",
   "execution_count": 10,
   "id": "803d3dcb",
   "metadata": {},
   "outputs": [],
   "source": [
    "def mag_pressure(dump):\n",
    "    B2 = dump['bsq']\n",
    "    Pmag = B2/(2*mu)\n",
    "    \n",
    "    dump.cache['Pmag'] = Pmag"
   ]
  },
  {
   "cell_type": "code",
   "execution_count": 11,
   "id": "3211a77e",
   "metadata": {},
   "outputs": [],
   "source": [
    "def R(dump, Rh, Rl, Pmag):\n",
    "    Pg = dump['Pg']\n",
    "    return Rl/(Pmag**2+Pg**2)+Rh*Pg**2/(Pmag**2+Pg**2)"
   ]
  },
  {
   "cell_type": "code",
   "execution_count": 12,
   "id": "2982899e",
   "metadata": {},
   "outputs": [],
   "source": [
    "# electron temperature\n",
    "def Te(dump, Rh, Rl, gamma):\n",
    "    if gamma == 4/3:\n",
    "        y = 1\n",
    "        z = 3\n",
    "        gamma_i = 4/3\n",
    "        gamma_e = 7/3\n",
    "    if gamma == 13/9:\n",
    "        y = 1\n",
    "        z = 2\n",
    "        gamma_i = 13/9\n",
    "        gamma_e = 133/36\n",
    "    if gamma == 5/3:\n",
    "        y = 1\n",
    "        z = 1\n",
    "        gamma_i = 5/3\n",
    "        gamma_e = 5/3\n",
    "    beta = dump['beta']\n",
    "    u = dump['Pg']/(gamma-1)\n",
    "    r = R(dump, Rh, Rl)\n",
    "    numerator = mp*cl**2*u*(gamma_e-1)*(gamma_i-1)\n",
    "    denom = kb*dump['RHO']*(y*(gamma_i-1)+r*z*(gamma_e-1))\n",
    "    electron_T = numerator/ denom\n",
    "    dump.cache['Te'] = electron_T\n",
    "    return electron_T"
   ]
  },
  {
   "cell_type": "code",
   "execution_count": 13,
   "id": "c38e6bc5",
   "metadata": {},
   "outputs": [],
   "source": [
    "src_save_ma = '/home/u12/limengjiang/GRMHD/variances/MAD'\n",
    "src_save_sa = '/home/u12/limengjiang/GRMHD/variances/SANE'"
   ]
  },
  {
   "cell_type": "code",
   "execution_count": 14,
   "id": "e1877b20",
   "metadata": {},
   "outputs": [],
   "source": [
    "def save_var(dumps, src_save, Rh):\n",
    "    for key, dump in dumps.items():\n",
    "        if Rh == 1.:\n",
    "            name = fname(key, src_save+'/Rh1')\n",
    "        if Rh == 160.:\n",
    "            name = fname(key, src_save+'/Rh160')\n",
    "        hf = h5py.File(name, 'w')\n",
    "        d1 = dump.cache['varRHO']\n",
    "        d2 = dump.cache['varPg']\n",
    "        d2 = dump.cache['varPmag']\n",
    "        hf.create_dataset('varRHO', data=d1)\n",
    "        hf.create_dataset('varPg', data=d2)\n",
    "        hf.create_dataset('varPmag', data=d2)\n",
    "        hf.close()"
   ]
  },
  {
   "cell_type": "markdown",
   "id": "7f2ccb0d",
   "metadata": {},
   "source": [
    "### MAD"
   ]
  },
  {
   "cell_type": "code",
   "execution_count": 19,
   "id": "d4c28884",
   "metadata": {},
   "outputs": [],
   "source": [
    "# MAD\n",
    "dumps_ma = get_dumps(i0, i1, src_ma_10M)"
   ]
  },
  {
   "cell_type": "code",
   "execution_count": 20,
   "id": "d6bd8e38",
   "metadata": {},
   "outputs": [
    {
     "data": {
      "text/plain": [
       "dict_keys([])"
      ]
     },
     "execution_count": 20,
     "metadata": {},
     "output_type": "execute_result"
    }
   ],
   "source": [
    "dumps_ma[str(i0)].cache.keys()"
   ]
  },
  {
   "cell_type": "code",
   "execution_count": 17,
   "id": "755a6459",
   "metadata": {},
   "outputs": [],
   "source": [
    "# get ρ\n",
    "for dump in dumps_ma.values():\n",
    "    dump['RHO']"
   ]
  },
  {
   "cell_type": "code",
   "execution_count": 18,
   "id": "0e68c29a",
   "metadata": {},
   "outputs": [
    {
     "ename": "KeyError",
     "evalue": "'RHO'",
     "output_type": "error",
     "traceback": [
      "\u001b[0;31m---------------------------------------------------------------------------\u001b[0m",
      "\u001b[0;31mKeyError\u001b[0m                                  Traceback (most recent call last)",
      "Input \u001b[0;32mIn [18]\u001b[0m, in \u001b[0;36m<module>\u001b[0;34m\u001b[0m\n\u001b[1;32m      1\u001b[0m \u001b[38;5;66;03m# avgRHO\u001b[39;00m\n\u001b[0;32m----> 2\u001b[0m rho_ma_avg1 \u001b[38;5;241m=\u001b[39m \u001b[43maverage\u001b[49m\u001b[43m(\u001b[49m\u001b[38;5;28;43mrange\u001b[39;49m\u001b[43m(\u001b[49m\u001b[43mi0\u001b[49m\u001b[43m,\u001b[49m\u001b[43m \u001b[49m\u001b[43mi1\u001b[49m\u001b[43m)\u001b[49m\u001b[43m,\u001b[49m\u001b[43m \u001b[49m\u001b[43mdumps_ma\u001b[49m\u001b[43m,\u001b[49m\u001b[43m \u001b[49m\u001b[43m[\u001b[49m\u001b[38;5;124;43m'\u001b[39;49m\u001b[38;5;124;43mRHO\u001b[39;49m\u001b[38;5;124;43m'\u001b[39;49m\u001b[43m]\u001b[49m\u001b[43m)\u001b[49m\n\u001b[1;32m      3\u001b[0m \u001b[38;5;28;01mfor\u001b[39;00m dump \u001b[38;5;129;01min\u001b[39;00m dumps_ma\u001b[38;5;241m.\u001b[39mvalues():\n\u001b[1;32m      4\u001b[0m     dump\u001b[38;5;241m.\u001b[39mcache[\u001b[38;5;124m'\u001b[39m\u001b[38;5;124mavgRHO\u001b[39m\u001b[38;5;124m'\u001b[39m] \u001b[38;5;241m=\u001b[39m np\u001b[38;5;241m.\u001b[39msqueeze(np\u001b[38;5;241m.\u001b[39marray(\u001b[38;5;28mlist\u001b[39m(rho_ma_avg1\u001b[38;5;241m.\u001b[39mvalues())))\n",
      "Input \u001b[0;32mIn [7]\u001b[0m, in \u001b[0;36maverage\u001b[0;34m(irange, dumps, keys)\u001b[0m\n\u001b[1;32m      7\u001b[0m     \u001b[38;5;66;03m# print('d:', d)\u001b[39;00m\n\u001b[1;32m      8\u001b[0m     \u001b[38;5;66;03m# ... and then sum over multiple keys\u001b[39;00m\n\u001b[1;32m      9\u001b[0m     \u001b[38;5;28;01mfor\u001b[39;00m k \u001b[38;5;129;01min\u001b[39;00m keys:\n\u001b[0;32m---> 10\u001b[0m         s[k] \u001b[38;5;241m+\u001b[39m\u001b[38;5;241m=\u001b[39m \u001b[43md\u001b[49m\u001b[43m[\u001b[49m\u001b[43mk\u001b[49m\u001b[43m]\u001b[49m \u001b[38;5;66;03m# i.e.: s[key1] = file1[key1] + file2[key1] + file3[key1] + ...\u001b[39;00m\n\u001b[1;32m     11\u001b[0m         \u001b[38;5;66;03m# print('s[k]:', s[k])\u001b[39;00m\n\u001b[1;32m     12\u001b[0m         \u001b[38;5;66;03m# print('d[k]', d[k])\u001b[39;00m\n\u001b[1;32m     13\u001b[0m \u001b[38;5;28mprint\u001b[39m(\u001b[38;5;124m'\u001b[39m\u001b[38;5;124mfinish average calculation.\u001b[39m\u001b[38;5;124m'\u001b[39m)\n",
      "\u001b[0;31mKeyError\u001b[0m: 'RHO'"
     ]
    }
   ],
   "source": [
    "# avgRHO\n",
    "rho_ma_avg1 = average(range(i0, i1), dumps_ma, ['RHO'])\n",
    "for dump in dumps_ma.values():\n",
    "    dump.cache['avgRHO'] = np.squeeze(np.array(list(rho_ma_avg1.values())))"
   ]
  },
  {
   "cell_type": "code",
   "execution_count": 18,
   "id": "9c86323c",
   "metadata": {},
   "outputs": [
    {
     "ename": "KeyError",
     "evalue": "'RHO'",
     "output_type": "error",
     "traceback": [
      "\u001b[0;31m---------------------------------------------------------------------------\u001b[0m",
      "\u001b[0;31mKeyError\u001b[0m                                  Traceback (most recent call last)",
      "\u001b[0;32m<ipython-input-18-9692705cd8b6>\u001b[0m in \u001b[0;36m<module>\u001b[0;34m\u001b[0m\n\u001b[1;32m      1\u001b[0m \u001b[0;31m# var(ρ)\u001b[0m\u001b[0;34m\u001b[0m\u001b[0;34m\u001b[0m\u001b[0;34m\u001b[0m\u001b[0m\n\u001b[0;32m----> 2\u001b[0;31m \u001b[0mrho_ma_var1\u001b[0m \u001b[0;34m=\u001b[0m \u001b[0mvariance\u001b[0m\u001b[0;34m(\u001b[0m\u001b[0mrange\u001b[0m\u001b[0;34m(\u001b[0m\u001b[0mi0\u001b[0m\u001b[0;34m,\u001b[0m \u001b[0mi1\u001b[0m\u001b[0;34m)\u001b[0m\u001b[0;34m,\u001b[0m \u001b[0mdumps_ma\u001b[0m\u001b[0;34m,\u001b[0m \u001b[0;34m'RHO'\u001b[0m\u001b[0;34m)\u001b[0m\u001b[0;34m\u001b[0m\u001b[0;34m\u001b[0m\u001b[0m\n\u001b[0m\u001b[1;32m      3\u001b[0m \u001b[0;32mfor\u001b[0m \u001b[0mdump\u001b[0m \u001b[0;32min\u001b[0m \u001b[0mdumps_ma\u001b[0m\u001b[0;34m.\u001b[0m\u001b[0mvalues\u001b[0m\u001b[0;34m(\u001b[0m\u001b[0;34m)\u001b[0m\u001b[0;34m:\u001b[0m\u001b[0;34m\u001b[0m\u001b[0;34m\u001b[0m\u001b[0m\n\u001b[1;32m      4\u001b[0m     \u001b[0mdump\u001b[0m\u001b[0;34m.\u001b[0m\u001b[0mcache\u001b[0m\u001b[0;34m[\u001b[0m\u001b[0;34m'varRHO'\u001b[0m\u001b[0;34m]\u001b[0m \u001b[0;34m=\u001b[0m \u001b[0mnp\u001b[0m\u001b[0;34m.\u001b[0m\u001b[0msqueeze\u001b[0m\u001b[0;34m(\u001b[0m\u001b[0mnp\u001b[0m\u001b[0;34m.\u001b[0m\u001b[0marray\u001b[0m\u001b[0;34m(\u001b[0m\u001b[0mlist\u001b[0m\u001b[0;34m(\u001b[0m\u001b[0mrho_ma_var1\u001b[0m\u001b[0;34m.\u001b[0m\u001b[0mvalues\u001b[0m\u001b[0;34m(\u001b[0m\u001b[0;34m)\u001b[0m\u001b[0;34m)\u001b[0m\u001b[0;34m)\u001b[0m\u001b[0;34m)\u001b[0m\u001b[0;34m\u001b[0m\u001b[0;34m\u001b[0m\u001b[0m\n",
      "\u001b[0;32m<ipython-input-8-f36d8ae96da7>\u001b[0m in \u001b[0;36mvariance\u001b[0;34m(irange, dumps, quality)\u001b[0m\n\u001b[1;32m      9\u001b[0m     \u001b[0;32mfor\u001b[0m \u001b[0mi\u001b[0m \u001b[0;32min\u001b[0m \u001b[0mirange\u001b[0m\u001b[0;34m:\u001b[0m\u001b[0;34m\u001b[0m\u001b[0;34m\u001b[0m\u001b[0m\n\u001b[1;32m     10\u001b[0m         \u001b[0md\u001b[0m \u001b[0;34m=\u001b[0m \u001b[0mdumps\u001b[0m\u001b[0;34m[\u001b[0m\u001b[0mstr\u001b[0m\u001b[0;34m(\u001b[0m\u001b[0mi\u001b[0m\u001b[0;34m)\u001b[0m\u001b[0;34m]\u001b[0m\u001b[0;34m.\u001b[0m\u001b[0mcache\u001b[0m\u001b[0;34m\u001b[0m\u001b[0;34m\u001b[0m\u001b[0m\n\u001b[0;32m---> 11\u001b[0;31m         \u001b[0mss\u001b[0m\u001b[0;34m[\u001b[0m\u001b[0mkey\u001b[0m\u001b[0;34m]\u001b[0m \u001b[0;34m+=\u001b[0m \u001b[0;34m(\u001b[0m\u001b[0md\u001b[0m\u001b[0;34m[\u001b[0m\u001b[0mquality\u001b[0m\u001b[0;34m]\u001b[0m\u001b[0;34m-\u001b[0m\u001b[0md\u001b[0m\u001b[0;34m[\u001b[0m\u001b[0;34m'avg'\u001b[0m \u001b[0;34m+\u001b[0m \u001b[0mquality\u001b[0m\u001b[0;34m]\u001b[0m\u001b[0;34m)\u001b[0m\u001b[0;34m**\u001b[0m\u001b[0;36m2\u001b[0m\u001b[0;34m\u001b[0m\u001b[0;34m\u001b[0m\u001b[0m\n\u001b[0m\u001b[1;32m     12\u001b[0m     \u001b[0;32mfor\u001b[0m \u001b[0mi\u001b[0m \u001b[0;32min\u001b[0m \u001b[0mirange\u001b[0m\u001b[0;34m:\u001b[0m\u001b[0;34m\u001b[0m\u001b[0;34m\u001b[0m\u001b[0m\n\u001b[1;32m     13\u001b[0m         \u001b[0mdumps\u001b[0m\u001b[0;34m[\u001b[0m\u001b[0mstr\u001b[0m\u001b[0;34m(\u001b[0m\u001b[0mi\u001b[0m\u001b[0;34m)\u001b[0m\u001b[0;34m]\u001b[0m\u001b[0;34m.\u001b[0m\u001b[0mcache\u001b[0m\u001b[0;34m[\u001b[0m\u001b[0mkey\u001b[0m\u001b[0;34m]\u001b[0m \u001b[0;34m=\u001b[0m \u001b[0mss\u001b[0m\u001b[0;34m[\u001b[0m\u001b[0mkey\u001b[0m\u001b[0;34m]\u001b[0m\u001b[0;34m\u001b[0m\u001b[0;34m\u001b[0m\u001b[0m\n",
      "\u001b[0;31mKeyError\u001b[0m: 'RHO'"
     ]
    }
   ],
   "source": [
    "# var(ρ)\n",
    "rho_ma_var1 = variance(range(i0, i1), dumps_ma, 'RHO')\n",
    "for dump in dumps_ma.values():\n",
    "    dump.cache['varRHO'] = np.squeeze(np.array(list(rho_ma_var1.values())))"
   ]
  },
  {
   "cell_type": "code",
   "execution_count": 18,
   "id": "3a3d98dd",
   "metadata": {},
   "outputs": [],
   "source": [
    "# get Pmag\n",
    "for dump in dumps_ma.values():\n",
    "    mag_pressure(dump)"
   ]
  },
  {
   "cell_type": "code",
   "execution_count": 20,
   "id": "39c66261",
   "metadata": {},
   "outputs": [
    {
     "name": "stdout",
     "output_type": "stream",
     "text": [
      "finish average calculation.\n"
     ]
    }
   ],
   "source": [
    "# avgPmag\n",
    "Pmag_ma_avg1 = average(range(i0, i1), dumps_ma, ['Pmag'])\n",
    "for dump in dumps_ma.values():\n",
    "    dump.cache['avgPmag'] = np.squeeze(np.array(list(Pmag_ma_avg1.values())))"
   ]
  },
  {
   "cell_type": "code",
   "execution_count": 21,
   "id": "ebd24791",
   "metadata": {},
   "outputs": [
    {
     "name": "stdout",
     "output_type": "stream",
     "text": [
      "finish variance & standard deviation calculation's loop.\n"
     ]
    },
    {
     "ename": "AttributeError",
     "evalue": "'NoneType' object has no attribute 'values'",
     "output_type": "error",
     "traceback": [
      "\u001b[0;31m---------------------------------------------------------------------------\u001b[0m",
      "\u001b[0;31mAttributeError\u001b[0m                            Traceback (most recent call last)",
      "\u001b[0;32m<ipython-input-21-f33bacba8631>\u001b[0m in \u001b[0;36m<module>\u001b[0;34m\u001b[0m\n\u001b[1;32m      2\u001b[0m \u001b[0mPmag_ma_var1\u001b[0m \u001b[0;34m=\u001b[0m \u001b[0mvariance\u001b[0m\u001b[0;34m(\u001b[0m\u001b[0mrange\u001b[0m\u001b[0;34m(\u001b[0m\u001b[0mi0\u001b[0m\u001b[0;34m,\u001b[0m \u001b[0mi1\u001b[0m\u001b[0;34m)\u001b[0m\u001b[0;34m,\u001b[0m \u001b[0mdumps_ma\u001b[0m\u001b[0;34m,\u001b[0m \u001b[0;34m'Pmag'\u001b[0m\u001b[0;34m)\u001b[0m\u001b[0;34m\u001b[0m\u001b[0;34m\u001b[0m\u001b[0m\n\u001b[1;32m      3\u001b[0m \u001b[0;32mfor\u001b[0m \u001b[0mdump\u001b[0m \u001b[0;32min\u001b[0m \u001b[0mdumps_ma\u001b[0m\u001b[0;34m.\u001b[0m\u001b[0mvalues\u001b[0m\u001b[0;34m(\u001b[0m\u001b[0;34m)\u001b[0m\u001b[0;34m:\u001b[0m\u001b[0;34m\u001b[0m\u001b[0;34m\u001b[0m\u001b[0m\n\u001b[0;32m----> 4\u001b[0;31m     \u001b[0mdump\u001b[0m\u001b[0;34m.\u001b[0m\u001b[0mcache\u001b[0m\u001b[0;34m[\u001b[0m\u001b[0;34m'varPmag'\u001b[0m\u001b[0;34m]\u001b[0m \u001b[0;34m=\u001b[0m \u001b[0mnp\u001b[0m\u001b[0;34m.\u001b[0m\u001b[0msqueeze\u001b[0m\u001b[0;34m(\u001b[0m\u001b[0mnp\u001b[0m\u001b[0;34m.\u001b[0m\u001b[0marray\u001b[0m\u001b[0;34m(\u001b[0m\u001b[0mlist\u001b[0m\u001b[0;34m(\u001b[0m\u001b[0mPmag_ma_var1\u001b[0m\u001b[0;34m.\u001b[0m\u001b[0mvalues\u001b[0m\u001b[0;34m(\u001b[0m\u001b[0;34m)\u001b[0m\u001b[0;34m)\u001b[0m\u001b[0;34m)\u001b[0m\u001b[0;34m)\u001b[0m\u001b[0;34m\u001b[0m\u001b[0;34m\u001b[0m\u001b[0m\n\u001b[0m",
      "\u001b[0;31mAttributeError\u001b[0m: 'NoneType' object has no attribute 'values'"
     ]
    }
   ],
   "source": [
    "# var(Pmag)\n",
    "Pmag_ma_var1 = variance(range(i0, i1), dumps_ma, 'Pmag')\n",
    "for dump in dumps_ma.values():\n",
    "    dump.cache['varPmag'] = np.squeeze(np.array(list(Pmag_ma_var1.values())))"
   ]
  },
  {
   "cell_type": "code",
   "execution_count": null,
   "id": "35c45fc8",
   "metadata": {},
   "outputs": [],
   "source": [
    "# needed for convolution\n",
    "get_statistics(dumps_ma, 'varPmag')"
   ]
  },
  {
   "cell_type": "code",
   "execution_count": 23,
   "id": "254c6273",
   "metadata": {},
   "outputs": [
    {
     "ename": "KeyError",
     "evalue": "'Pg'",
     "output_type": "error",
     "traceback": [
      "\u001b[0;31m---------------------------------------------------------------------------\u001b[0m",
      "\u001b[0;31mKeyError\u001b[0m                                  Traceback (most recent call last)",
      "\u001b[0;32m<ipython-input-23-730e16b47bd4>\u001b[0m in \u001b[0;36m<module>\u001b[0;34m\u001b[0m\n\u001b[1;32m      1\u001b[0m \u001b[0;31m# avgPg\u001b[0m\u001b[0;34m\u001b[0m\u001b[0;34m\u001b[0m\u001b[0;34m\u001b[0m\u001b[0m\n\u001b[0;32m----> 2\u001b[0;31m \u001b[0mPg_ma_avg1\u001b[0m \u001b[0;34m=\u001b[0m \u001b[0mvariance\u001b[0m\u001b[0;34m(\u001b[0m\u001b[0mrange\u001b[0m\u001b[0;34m(\u001b[0m\u001b[0mi0\u001b[0m\u001b[0;34m,\u001b[0m \u001b[0mi1\u001b[0m\u001b[0;34m)\u001b[0m\u001b[0;34m,\u001b[0m \u001b[0mdumps_ma\u001b[0m\u001b[0;34m,\u001b[0m \u001b[0;34m'Pg'\u001b[0m\u001b[0;34m)\u001b[0m\u001b[0;34m\u001b[0m\u001b[0;34m\u001b[0m\u001b[0m\n\u001b[0m\u001b[1;32m      3\u001b[0m \u001b[0;32mfor\u001b[0m \u001b[0mdump\u001b[0m \u001b[0;32min\u001b[0m \u001b[0mdumps_ma\u001b[0m\u001b[0;34m.\u001b[0m\u001b[0mvalues\u001b[0m\u001b[0;34m(\u001b[0m\u001b[0;34m)\u001b[0m\u001b[0;34m:\u001b[0m\u001b[0;34m\u001b[0m\u001b[0;34m\u001b[0m\u001b[0m\n\u001b[1;32m      4\u001b[0m     \u001b[0mdump\u001b[0m\u001b[0;34m.\u001b[0m\u001b[0mcache\u001b[0m\u001b[0;34m[\u001b[0m\u001b[0;34m'avgPg'\u001b[0m\u001b[0;34m]\u001b[0m \u001b[0;34m=\u001b[0m \u001b[0mnp\u001b[0m\u001b[0;34m.\u001b[0m\u001b[0msqueeze\u001b[0m\u001b[0;34m(\u001b[0m\u001b[0mnp\u001b[0m\u001b[0;34m.\u001b[0m\u001b[0marray\u001b[0m\u001b[0;34m(\u001b[0m\u001b[0mlist\u001b[0m\u001b[0;34m(\u001b[0m\u001b[0mPg_ma_avg1\u001b[0m\u001b[0;34m.\u001b[0m\u001b[0mvalues\u001b[0m\u001b[0;34m(\u001b[0m\u001b[0;34m)\u001b[0m\u001b[0;34m)\u001b[0m\u001b[0;34m)\u001b[0m\u001b[0;34m)\u001b[0m\u001b[0;34m\u001b[0m\u001b[0;34m\u001b[0m\u001b[0m\n",
      "\u001b[0;32m<ipython-input-8-f36d8ae96da7>\u001b[0m in \u001b[0;36mvariance\u001b[0;34m(irange, dumps, quality)\u001b[0m\n\u001b[1;32m      9\u001b[0m     \u001b[0;32mfor\u001b[0m \u001b[0mi\u001b[0m \u001b[0;32min\u001b[0m \u001b[0mirange\u001b[0m\u001b[0;34m:\u001b[0m\u001b[0;34m\u001b[0m\u001b[0;34m\u001b[0m\u001b[0m\n\u001b[1;32m     10\u001b[0m         \u001b[0md\u001b[0m \u001b[0;34m=\u001b[0m \u001b[0mdumps\u001b[0m\u001b[0;34m[\u001b[0m\u001b[0mstr\u001b[0m\u001b[0;34m(\u001b[0m\u001b[0mi\u001b[0m\u001b[0;34m)\u001b[0m\u001b[0;34m]\u001b[0m\u001b[0;34m.\u001b[0m\u001b[0mcache\u001b[0m\u001b[0;34m\u001b[0m\u001b[0;34m\u001b[0m\u001b[0m\n\u001b[0;32m---> 11\u001b[0;31m         \u001b[0mss\u001b[0m\u001b[0;34m[\u001b[0m\u001b[0mkey\u001b[0m\u001b[0;34m]\u001b[0m \u001b[0;34m+=\u001b[0m \u001b[0;34m(\u001b[0m\u001b[0md\u001b[0m\u001b[0;34m[\u001b[0m\u001b[0mquality\u001b[0m\u001b[0;34m]\u001b[0m\u001b[0;34m-\u001b[0m\u001b[0md\u001b[0m\u001b[0;34m[\u001b[0m\u001b[0;34m'avg'\u001b[0m \u001b[0;34m+\u001b[0m \u001b[0mquality\u001b[0m\u001b[0;34m]\u001b[0m\u001b[0;34m)\u001b[0m\u001b[0;34m**\u001b[0m\u001b[0;36m2\u001b[0m\u001b[0;34m\u001b[0m\u001b[0;34m\u001b[0m\u001b[0m\n\u001b[0m\u001b[1;32m     12\u001b[0m     \u001b[0;32mfor\u001b[0m \u001b[0mi\u001b[0m \u001b[0;32min\u001b[0m \u001b[0mirange\u001b[0m\u001b[0;34m:\u001b[0m\u001b[0;34m\u001b[0m\u001b[0;34m\u001b[0m\u001b[0m\n\u001b[1;32m     13\u001b[0m         \u001b[0mdumps\u001b[0m\u001b[0;34m[\u001b[0m\u001b[0mstr\u001b[0m\u001b[0;34m(\u001b[0m\u001b[0mi\u001b[0m\u001b[0;34m)\u001b[0m\u001b[0;34m]\u001b[0m\u001b[0;34m.\u001b[0m\u001b[0mcache\u001b[0m\u001b[0;34m[\u001b[0m\u001b[0mkey\u001b[0m\u001b[0;34m]\u001b[0m \u001b[0;34m=\u001b[0m \u001b[0mss\u001b[0m\u001b[0;34m[\u001b[0m\u001b[0mkey\u001b[0m\u001b[0;34m]\u001b[0m\u001b[0;34m\u001b[0m\u001b[0;34m\u001b[0m\u001b[0m\n",
      "\u001b[0;31mKeyError\u001b[0m: 'Pg'"
     ]
    }
   ],
   "source": [
    "# avgPg\n",
    "Pg_ma_avg1 = variance(range(i0, i1), dumps_ma, 'Pg')\n",
    "for dump in dumps_ma.values():\n",
    "    dump.cache['avgPg'] = np.squeeze(np.array(list(Pg_ma_avg1.values())))"
   ]
  },
  {
   "cell_type": "code",
   "execution_count": null,
   "id": "cf6bc526",
   "metadata": {},
   "outputs": [],
   "source": [
    "# var(Pg)\n",
    "Pg_ma_var1 = variance(range(i0, i1), dumps_ma, 'Pg')\n",
    "for dump in dumps_ma.values():\n",
    "    dump.cache['varPg'] = np.squeeze(np.array(list(Pg_ma_var1.values())))"
   ]
  },
  {
   "cell_type": "markdown",
   "id": "b59ba25f",
   "metadata": {},
   "source": [
    "$R_{high}=R_{low}=1$"
   ]
  },
  {
   "cell_type": "code",
   "execution_count": null,
   "id": "f1eeb399",
   "metadata": {},
   "outputs": [],
   "source": [
    "# get Te\n",
    "for dump in dumps_ma.values():\n",
    "    dump.cache['Te'] = Te(dump, R_high[0], Rl, gamma=4/3)"
   ]
  },
  {
   "cell_type": "code",
   "execution_count": null,
   "id": "db585fca",
   "metadata": {},
   "outputs": [],
   "source": [
    "# var(Te)\n",
    "Te_ma_var1 = variance(range(i0, i1), dumps_ma)\n",
    "for dump in dumps_ma.values():\n",
    "    dump.cache['varTe'] = np.squeeze(np.array(list(Te_ma_var1.values())))"
   ]
  },
  {
   "cell_type": "code",
   "execution_count": null,
   "id": "c1c0a8ec",
   "metadata": {},
   "outputs": [],
   "source": [
    "save_var(dumps_ma, src_save_ma, Rh=1.)"
   ]
  },
  {
   "cell_type": "markdown",
   "id": "21c20358",
   "metadata": {},
   "source": [
    "$R_{high}=160$, $R_{low}=1$"
   ]
  },
  {
   "cell_type": "code",
   "execution_count": null,
   "id": "1a2c89b0",
   "metadata": {},
   "outputs": [],
   "source": [
    "# get Te\n",
    "for dump in dumps_ma.values():\n",
    "    dump.cache['Te'] = Te(dump, R_high[3], Rl, gamma=4/3)"
   ]
  },
  {
   "cell_type": "code",
   "execution_count": null,
   "id": "86c18bcb",
   "metadata": {},
   "outputs": [],
   "source": [
    "# var(Te)\n",
    "Te_ma_var2 = variance(range(i0, i1), dumps_ma)\n",
    "for dump in dumps_ma.values():\n",
    "    dump.cache['varTe'] = np.squeeze(np.array(list(Te_ma_var2.values())))"
   ]
  },
  {
   "cell_type": "code",
   "execution_count": null,
   "id": "90f956b5",
   "metadata": {},
   "outputs": [],
   "source": [
    "save_var(dumps_ma, src_save_ma, Rh=160.)"
   ]
  },
  {
   "cell_type": "markdown",
   "id": "1bf4bab7",
   "metadata": {},
   "source": [
    "### SANE"
   ]
  },
  {
   "cell_type": "code",
   "execution_count": 18,
   "id": "d9c8ca94",
   "metadata": {},
   "outputs": [],
   "source": [
    "dumps_sa = get_dumps(i0, i1, src_sa_10M)"
   ]
  },
  {
   "cell_type": "code",
   "execution_count": 19,
   "id": "8ce4418a",
   "metadata": {},
   "outputs": [
    {
     "data": {
      "text/plain": [
       "dict_keys([])"
      ]
     },
     "execution_count": 19,
     "metadata": {},
     "output_type": "execute_result"
    }
   ],
   "source": [
    "dumps_sa[str(i0)].cache.keys()"
   ]
  },
  {
   "cell_type": "code",
   "execution_count": null,
   "id": "b89cc184",
   "metadata": {},
   "outputs": [],
   "source": [
    "# get ρ\n",
    "for dump in dumps_sa.values():\n",
    "    dump['RHO']"
   ]
  },
  {
   "cell_type": "code",
   "execution_count": null,
   "id": "a1e31c2c",
   "metadata": {},
   "outputs": [],
   "source": [
    "# avgRHO\n",
    "rho_sa_avg1 = average(range(i0, i1), dumps_sa, ['RHO'])\n",
    "for dump in dumps_sa.values():\n",
    "    dump.cache['avgRHO'] = np.squeeze(np.array(list(rho_sa_avg1.values())))"
   ]
  },
  {
   "cell_type": "code",
   "execution_count": null,
   "id": "d53e4ee0",
   "metadata": {},
   "outputs": [],
   "source": [
    "# var(ρ)\n",
    "rho_sa_var1 = variance(range(i0, i1), dumps_sa, 'RHO')\n",
    "for dump in dumps_sa.values():\n",
    "    dump.cache['varRHO'] = np.squeeze(np.array(list(rho_sa_var1.values())))"
   ]
  },
  {
   "cell_type": "code",
   "execution_count": null,
   "id": "f401eb87",
   "metadata": {},
   "outputs": [],
   "source": [
    "# get Pmag\n",
    "for dump in dumps_sa.values():\n",
    "    mag_pressure(dump)"
   ]
  },
  {
   "cell_type": "code",
   "execution_count": null,
   "id": "217af8d2",
   "metadata": {},
   "outputs": [],
   "source": [
    "# avgPmag\n",
    "Pmag_sa_avg1 = average(range(i0, i1), dumps_sa, ['Pmag'])\n",
    "for dump in dumps_sa.values():\n",
    "    dump.cache['avgPmag'] = np.squeeze(np.array(list(Pmag_sa_avg1.values())))"
   ]
  },
  {
   "cell_type": "code",
   "execution_count": null,
   "id": "27e8277b",
   "metadata": {},
   "outputs": [],
   "source": [
    "# var(Pmag)\n",
    "Pmag_sa_var1 = variance(range(i0, i1), dumps_sa, 'Pmag')\n",
    "for dump in dumps_sa.values():\n",
    "    dump.cache['varPmag'] = np.squeeze(np.array(list(Pmag_sa_var1.values())))"
   ]
  },
  {
   "cell_type": "code",
   "execution_count": null,
   "id": "19445894",
   "metadata": {},
   "outputs": [],
   "source": [
    "get_statistics(dumps_sa, 'varPmag')"
   ]
  },
  {
   "cell_type": "code",
   "execution_count": null,
   "id": "7c446aeb",
   "metadata": {},
   "outputs": [],
   "source": [
    "# avgPg\n",
    "Pg_sa_avg1 = variance(range(i0, i1), dumps_sa, 'Pg')\n",
    "for dump in dumps_sa.values():\n",
    "    dump.cache['avgPg'] = np.squeeze(np.array(list(Pg_sa_avg1.values())))"
   ]
  },
  {
   "cell_type": "code",
   "execution_count": null,
   "id": "932c4906",
   "metadata": {},
   "outputs": [],
   "source": [
    "# var(Pg)\n",
    "Pg_sa_var1 = variance(range(i0, i1), dumps_sa, 'Pg')\n",
    "for dump in dumps_sa.values():\n",
    "    dump.cache['varPg'] = np.squeeze(np.array(list(Pg_sa_var1.values())))"
   ]
  },
  {
   "cell_type": "markdown",
   "id": "1b49f9a0",
   "metadata": {},
   "source": [
    "$R_{high}=R_{low}=1$"
   ]
  },
  {
   "cell_type": "code",
   "execution_count": null,
   "id": "80dad475",
   "metadata": {},
   "outputs": [],
   "source": [
    "# get Te\n",
    "for dump in dumps_sa.values():\n",
    "    dump.cache['Te'] = Te(dump, R_high[0], Rl, gamma=4/3)"
   ]
  },
  {
   "cell_type": "code",
   "execution_count": null,
   "id": "9b6ff955",
   "metadata": {},
   "outputs": [],
   "source": [
    "# var(Te)\n",
    "Te_sa_var1 = variance(range(i0, i1), dumps_sa)\n",
    "for dump in dumps_sa.values():\n",
    "    dump.cache['varTe'] = np.squeeze(np.array(list(Te_sa_var1.values())))"
   ]
  },
  {
   "cell_type": "code",
   "execution_count": null,
   "id": "727ba695",
   "metadata": {},
   "outputs": [],
   "source": [
    "save_var(dumps_sa, src_save_sa, Rh=1.)"
   ]
  },
  {
   "cell_type": "markdown",
   "id": "5f1000f4",
   "metadata": {},
   "source": [
    "$R_{high}=160$, $R_{low}=1$"
   ]
  },
  {
   "cell_type": "code",
   "execution_count": null,
   "id": "559e9b0c",
   "metadata": {},
   "outputs": [],
   "source": [
    "# get Te\n",
    "for dump in dumps_sa.values():\n",
    "    dump.cache['Te'] = Te(dump, R_high[3], Rl, gamma=4/3)"
   ]
  },
  {
   "cell_type": "code",
   "execution_count": null,
   "id": "b1b92900",
   "metadata": {},
   "outputs": [],
   "source": [
    "# var(Te)\n",
    "Te_sa_var2 = variance(range(i0, i1), dumps_sa)\n",
    "for dump in dumps_sa.values():\n",
    "    dump.cache['varTe'] = np.squeeze(np.array(list(Te_sa_var2.values())))"
   ]
  },
  {
   "cell_type": "code",
   "execution_count": null,
   "id": "cdc91290",
   "metadata": {},
   "outputs": [],
   "source": [
    "save_var(dumps_ma, src_save_ma, Rh=160.)"
   ]
  },
  {
   "cell_type": "code",
   "execution_count": null,
   "id": "fb74ca0f",
   "metadata": {},
   "outputs": [],
   "source": []
  },
  {
   "cell_type": "code",
   "execution_count": null,
   "id": "928fe26e",
   "metadata": {},
   "outputs": [],
   "source": []
  },
  {
   "cell_type": "code",
   "execution_count": null,
   "id": "79be303b",
   "metadata": {},
   "outputs": [],
   "source": []
  },
  {
   "cell_type": "code",
   "execution_count": null,
   "id": "416ebd2f",
   "metadata": {},
   "outputs": [],
   "source": []
  }
 ],
 "metadata": {
  "kernelspec": {
   "display_name": "Python 3 (ipykernel)",
   "language": "python",
   "name": "python3"
  },
  "language_info": {
   "codemirror_mode": {
    "name": "ipython",
    "version": 3
   },
   "file_extension": ".py",
   "mimetype": "text/x-python",
   "name": "python",
   "nbconvert_exporter": "python",
   "pygments_lexer": "ipython3",
   "version": "3.8.12"
  }
 },
 "nbformat": 4,
 "nbformat_minor": 5
}
