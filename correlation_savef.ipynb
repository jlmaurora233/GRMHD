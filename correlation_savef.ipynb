{
 "cells": [
  {
   "cell_type": "code",
   "execution_count": null,
   "id": "7a643ea7",
   "metadata": {},
   "outputs": [],
   "source": [
    "from toolz import valmap\n",
    "\n",
    "import h5py\n",
    "import pyharm\n",
    "\n",
    "import matplotlib.pyplot as plt\n",
    "import numpy as np\n",
    "from numpy import ma\n",
    "from matplotlib import ticker, cm\n",
    "\n",
    "from scipy import signal"
   ]
  },
  {
   "cell_type": "code",
   "execution_count": null,
   "id": "cc09e7f5",
   "metadata": {},
   "outputs": [],
   "source": [
    "i0 = 5010 # initial  frame\n",
    "i1 = 5061 # 1 + last frame\n",
    "\n",
    "fmt = 'torus.out0.{:05d}.h5'\n",
    "\n",
    "qualities = ['RHO', 'Pg', 'bsq', 'beta', 'Theta', 'Thetae']"
   ]
  },
  {
   "cell_type": "code",
   "execution_count": null,
   "id": "31ebebff",
   "metadata": {},
   "outputs": [],
   "source": [
    "# some constants\n",
    "cl = 29979245800.0 # speed of light in cgs\n",
    "mp = 1.67262171e-24\n",
    "kb = 1.3806505e-16\n",
    "mu = 1."
   ]
  },
  {
   "cell_type": "code",
   "execution_count": null,
   "id": "1e954e9c",
   "metadata": {},
   "outputs": [],
   "source": [
    "def fname(i, src): # closure on `src` and `fmt`\n",
    "    return (src+fmt).format(i)"
   ]
  },
  {
   "cell_type": "code",
   "execution_count": null,
   "id": "01eb0aaf",
   "metadata": {},
   "outputs": [],
   "source": [
    "src_ma_10M = '/xdisk/chanc/share/GRMHD_dt10M/Ma+0.94_w5/'\n",
    "src_sa_10M = '/xdisk/chanc/share/GRMHD_dt10M/Sa+0.94_w5/'\n",
    "\n",
    "src_ma_1000M = '/xdisk/chanc/share/GRMHD_dt1000M/Ma+0.94_w5/'\n",
    "src_sa_1000M = '/xdisk/chanc/share/GRMHD_dt1000M/Sa+0.94_w5/'\n",
    "\n",
    "dump0 = pyharm.load_dump(fname(i0, src_ma_10M))\n",
    "R_low = 1.\n",
    "R_high = [1, 10, 40, 160]\n",
    "# first row of SANE model params"
   ]
  },
  {
   "cell_type": "code",
   "execution_count": null,
   "id": "53a7a0d5",
   "metadata": {},
   "outputs": [],
   "source": [
    "def get_dumps(i0, i1, src, step=1):\n",
    "    dumps = {}\n",
    "    for i in range(i0, i1, step):\n",
    "        dumps[str(i)] = pyharm.load_dump(fname(i, src))\n",
    "    return dumps"
   ]
  },
  {
   "cell_type": "code",
   "execution_count": null,
   "id": "85caf4b6",
   "metadata": {},
   "outputs": [],
   "source": [
    "def average(irange, dumps, keys):\n",
    "    s = {k:0 for k in keys}\n",
    "    for i in irange:\n",
    "        # print('i:', i)\n",
    "        # Because data I/O is expensive, we load the data once ...\n",
    "        d = dumps[str(i)].cache\n",
    "        # print('d:', d)\n",
    "        # ... and then sum over multiple keys\n",
    "        for k in keys:\n",
    "            s[k] += d[k] # i.e.: s[key1] = file1[key1] + file2[key1] + file3[key1] + ...\n",
    "            # print('s[k]:', s[k])\n",
    "            # print('d[k]', d[k])\n",
    "    print('finish average calculation.')\n",
    "    return valmap(lambda v: v/len(irange), s) # return an average of variables from the files read in"
   ]
  },
  {
   "cell_type": "code",
   "execution_count": null,
   "id": "19ecf502",
   "metadata": {},
   "outputs": [],
   "source": [
    "# works; returns an array of arrays with numerical values\n",
    "def variance(irange, dumps, quality='Te'):\n",
    "    \"\"\"\n",
    "    quality: str, the physical quality whose variance values we want (e.g. 'Te' for electron temperature)\n",
    "    dumps: dictionary, all the dump files read in\n",
    "    \"\"\"\n",
    "    key = 'var' + quality\n",
    "    ss = {key: 0}\n",
    "    for i in irange:\n",
    "        d = dumps[str(i)].cache\n",
    "        ss[key] += (d[quality]-d['avg' + quality])**2\n",
    "    for i in irange:\n",
    "        dumps[str(i)].cache[key] = ss[key]\n",
    "    print('finish variance & standard deviation calculation\\'s loop.')\n",
    "    # return valmap(lambda v: v/len(irange), ss)"
   ]
  },
  {
   "cell_type": "markdown",
   "id": "b3713c92",
   "metadata": {},
   "source": [
    "$\\gamma = \\frac{4}{3}$, $x_{e} = \\frac{1}{4}$, so ions:electrons = 3:1 (y=1, z=3; $\\gamma_{i}=\\gamma=\\frac{4}{3}, \\gamma_e = \\gamma + x_{e} / (1 - x_{e})(5/3 - \\gamma) = \\frac{7}{3}$) <br> \n",
    "$Const = m_{p}(\\gamma_{e}-1)(\\gamma_{i}-1)$ <br> \n",
    "$const1 = y(\\gamma_{i}-1)$ <br>\n",
    "$const2 = z(\\gamma_{e}-1)$ <br>\n",
    "$const3 = k_{B}(\\gamma-1)$"
   ]
  },
  {
   "cell_type": "code",
   "execution_count": null,
   "id": "c25af930",
   "metadata": {},
   "outputs": [],
   "source": [
    "def get_statistics(dumps, quality):\n",
    "    \"\"\"\n",
    "    dumps: the dumps' dictionary in the format of dumps={'5010':arr1, '5011':arr2, etc}\n",
    "    quality: string, the quality whose statistics we want \n",
    "    \"\"\"\n",
    "    print('statistics on ' + quality + ':')\n",
    "    print('max ' + quality + ':')\n",
    "    maximum = np.max(dumps[str(i0)].cache[quality])\n",
    "    print(\"{:e}\".format(maximum))\n",
    "    print('percentile on ' + quality+ ' [25%, 75%, 90%]:')\n",
    "    # percentile of the flattened grid\n",
    "    percentile = np.percentile(dumps[str(i0)].cache[quality], [25, 75, 90])\n",
    "    print(percentile)"
   ]
  },
  {
   "cell_type": "markdown",
   "id": "c78e5979",
   "metadata": {},
   "source": [
    "## Get var(Te), var($\\rho$), var(Pg), and var($P_{mag}$)"
   ]
  },
  {
   "cell_type": "markdown",
   "id": "1074b21e",
   "metadata": {},
   "source": [
    "so many calculations...memory issue"
   ]
  },
  {
   "cell_type": "code",
   "execution_count": null,
   "id": "803d3dcb",
   "metadata": {},
   "outputs": [],
   "source": [
    "def mag_pressure(dump):\n",
    "    B2 = dump['bsq']\n",
    "    Pmag = B2/(2*mu)\n",
    "    \n",
    "    dump.cache['Pmag'] = Pmag"
   ]
  },
  {
   "cell_type": "code",
   "execution_count": null,
   "id": "3211a77e",
   "metadata": {},
   "outputs": [],
   "source": [
    "def R(dump, Rh, Rl, Pmag):\n",
    "    Pg = dump['Pg']\n",
    "    return Rl/(Pmag**2+Pg**2)+Rh*Pg**2/(Pmag**2+Pg**2)"
   ]
  },
  {
   "cell_type": "code",
   "execution_count": null,
   "id": "2982899e",
   "metadata": {},
   "outputs": [],
   "source": [
    "# electron temperature\n",
    "def Te(dump, Rh, Rl, gamma):\n",
    "    if gamma == 4/3:\n",
    "        y = 1\n",
    "        z = 3\n",
    "        gamma_i = 4/3\n",
    "        gamma_e = 7/3\n",
    "    if gamma == 13/9:\n",
    "        y = 1\n",
    "        z = 2\n",
    "        gamma_i = 13/9\n",
    "        gamma_e = 133/36\n",
    "    if gamma == 5/3:\n",
    "        y = 1\n",
    "        z = 1\n",
    "        gamma_i = 5/3\n",
    "        gamma_e = 5/3\n",
    "    beta = dump['beta']\n",
    "    u = dump['Pg']/(gamma-1)\n",
    "    r = R(dump, Rh, Rl)\n",
    "    numerator = mp*cl**2*u*(gamma_e-1)*(gamma_i-1)\n",
    "    denom = kb*dump['RHO']*(y*(gamma_i-1)+r*z*(gamma_e-1))\n",
    "    electron_T = numerator/ denom\n",
    "    dump.cache['Te'] = electron_T\n",
    "    return electron_T"
   ]
  },
  {
   "cell_type": "code",
   "execution_count": null,
   "id": "c38e6bc5",
   "metadata": {},
   "outputs": [],
   "source": [
    "src_save_ma = '/home/u12/limengjiang/GRMHD/variances/MAD'\n",
    "src_save_sa = '/home/u12/limengjiang/GRMHD/variances/SANE'"
   ]
  },
  {
   "cell_type": "code",
   "execution_count": null,
   "id": "e1877b20",
   "metadata": {},
   "outputs": [],
   "source": [
    "def save_var(dumps, src_save, Rh):\n",
    "    for key, dump in dumps.items():\n",
    "        if Rh == 1.:\n",
    "            name = fname(key, src_save+'/Rh1')\n",
    "        if Rh == 160.:\n",
    "            name = fname(key, src_save+'/Rh160')\n",
    "        hf = h5py.File(name, 'w')\n",
    "        d1 = dump.cache['varRHO']\n",
    "        d2 = dump.cache['varPg']\n",
    "        d2 = dump.cache['varPmag']\n",
    "        hf.create_dataset('varRHO', data=d1)\n",
    "        hf.create_dataset('varPg', data=d2)\n",
    "        hf.create_dataset('varPmag', data=d2)\n",
    "        hf.close()"
   ]
  },
  {
   "cell_type": "markdown",
   "id": "7f2ccb0d",
   "metadata": {},
   "source": [
    "### MAD"
   ]
  },
  {
   "cell_type": "code",
   "execution_count": null,
   "id": "d4c28884",
   "metadata": {},
   "outputs": [],
   "source": [
    "dumps_ma = get_dumps(i0, i1, src_ma_10M)"
   ]
  },
  {
   "cell_type": "code",
   "execution_count": null,
   "id": "755a6459",
   "metadata": {},
   "outputs": [],
   "source": [
    "# get ρ\n",
    "for dump in dumps_ma.values():\n",
    "    dump['RHO']"
   ]
  },
  {
   "cell_type": "code",
   "execution_count": null,
   "id": "9c86323c",
   "metadata": {},
   "outputs": [],
   "source": [
    "# var(ρ)\n",
    "rho_ma_var1 = variance(range(i0, i1), dumps_ma, 'RHO')\n",
    "for dump in dumps_ma.values():\n",
    "    dump.cache['varRHO'] = np.squeeze(np.array(list(rho_ma_var1.values())))"
   ]
  },
  {
   "cell_type": "code",
   "execution_count": null,
   "id": "3a3d98dd",
   "metadata": {},
   "outputs": [],
   "source": [
    "# get Pmag\n",
    "for dump in dumps_ma.values():\n",
    "    mag_pressure(dump)"
   ]
  },
  {
   "cell_type": "code",
   "execution_count": null,
   "id": "ebd24791",
   "metadata": {},
   "outputs": [],
   "source": [
    "# var(Pmag)\n",
    "Pmag_ma_var1 = variance(range(i0, i1), dumps_ma, 'Pmag')\n",
    "for dump in dumps_ma.values():\n",
    "    dump.cache['varPmag'] = np.squeeze(np.array(list(Pmag_ma_var1.values())))"
   ]
  },
  {
   "cell_type": "code",
   "execution_count": null,
   "id": "cf6bc526",
   "metadata": {},
   "outputs": [],
   "source": [
    "# var(Pg)\n",
    "Pg_ma_var1 = variance(range(i0, i1), dumps_ma, 'Pg')\n",
    "for dump in dumps_ma.values():\n",
    "    dump.cache['varPg'] = np.squeeze(np.array(list(Pg_ma_var1.values())))"
   ]
  },
  {
   "cell_type": "markdown",
   "id": "b59ba25f",
   "metadata": {},
   "source": [
    "$R_{high}=R_{low}=1$"
   ]
  },
  {
   "cell_type": "code",
   "execution_count": null,
   "id": "f1eeb399",
   "metadata": {},
   "outputs": [],
   "source": [
    "# get Te\n",
    "for dump in dumps_ma.values():\n",
    "    dump.cache['Te'] = Te(dump, R_high[0], Rl, gamma=4/3)"
   ]
  },
  {
   "cell_type": "code",
   "execution_count": null,
   "id": "db585fca",
   "metadata": {},
   "outputs": [],
   "source": [
    "# var(Te)\n",
    "Te_ma_var1 = variance(range(i0, i1), dumps_ma)\n",
    "for dump in dumps_ma.values():\n",
    "    dump.cache['varTe'] = np.squeeze(np.array(list(Te_ma_var1.values())))"
   ]
  },
  {
   "cell_type": "code",
   "execution_count": null,
   "id": "64ab9043",
   "metadata": {},
   "outputs": [],
   "source": [
    "save_var(dumps_ma, src_save_ma, Rh=1.)"
   ]
  },
  {
   "cell_type": "markdown",
   "id": "21c20358",
   "metadata": {},
   "source": [
    "$R_{high}=160$, $R_{low}=1$"
   ]
  },
  {
   "cell_type": "code",
   "execution_count": null,
   "id": "1a2c89b0",
   "metadata": {},
   "outputs": [],
   "source": [
    "# get Te\n",
    "for dump in dumps_ma.values():\n",
    "    dump.cache['Te'] = Te(dump, R_high[3], Rl, gamma=4/3)"
   ]
  },
  {
   "cell_type": "code",
   "execution_count": null,
   "id": "86c18bcb",
   "metadata": {},
   "outputs": [],
   "source": [
    "# var(Te)\n",
    "Te_ma_var2 = variance(range(i0, i1), dumps_ma)\n",
    "for dump in dumps_ma.values():\n",
    "    dump.cache['varTe'] = np.squeeze(np.array(list(Te_ma_var2.values())))"
   ]
  },
  {
   "cell_type": "code",
   "execution_count": null,
   "id": "a7a00c33",
   "metadata": {},
   "outputs": [],
   "source": [
    "save_var(dumps_ma, src_save_ma, Rh=160.)"
   ]
  },
  {
   "cell_type": "markdown",
   "id": "1bf4bab7",
   "metadata": {},
   "source": [
    "### SANE"
   ]
  },
  {
   "cell_type": "code",
   "execution_count": null,
   "id": "d9c8ca94",
   "metadata": {},
   "outputs": [],
   "source": [
    "dumps_sa = get_dumps(i0, i1, src_sa_10M)"
   ]
  },
  {
   "cell_type": "code",
   "execution_count": null,
   "id": "b89cc184",
   "metadata": {},
   "outputs": [],
   "source": [
    "# get ρ\n",
    "for dump in dumps_sa.values():\n",
    "    dump['RHO']"
   ]
  },
  {
   "cell_type": "code",
   "execution_count": null,
   "id": "d53e4ee0",
   "metadata": {},
   "outputs": [],
   "source": [
    "# var(ρ)\n",
    "rho_sa_var1 = variance(range(i0, i1), dumps_sa, 'RHO')\n",
    "for dump in dumps_sa.values():\n",
    "    dump.cache['varRHO'] = np.squeeze(np.array(list(rho_sa_var1.values())))"
   ]
  },
  {
   "cell_type": "code",
   "execution_count": null,
   "id": "f401eb87",
   "metadata": {},
   "outputs": [],
   "source": [
    "# get Pmag\n",
    "for dump in dumps_sa.values():\n",
    "    mag_pressure(dump)"
   ]
  },
  {
   "cell_type": "code",
   "execution_count": null,
   "id": "27e8277b",
   "metadata": {},
   "outputs": [],
   "source": [
    "# var(Pmag)\n",
    "Pmag_sa_var1 = variance(range(i0, i1), dumps_sa, 'Pmag')\n",
    "for dump in dumps_sa.values():\n",
    "    dump.cache['varPmag'] = np.squeeze(np.array(list(Pmag_sa_var1.values())))"
   ]
  },
  {
   "cell_type": "code",
   "execution_count": null,
   "id": "932c4906",
   "metadata": {},
   "outputs": [],
   "source": [
    "# var(Pg)\n",
    "Pg_sa_var1 = variance(range(i0, i1), dumps_sa, 'Pg')\n",
    "for dump in dumps_sa.values():\n",
    "    dump.cache['varPg'] = np.squeeze(np.array(list(Pg_sa_var1.values())))"
   ]
  },
  {
   "cell_type": "markdown",
   "id": "1b49f9a0",
   "metadata": {},
   "source": [
    "$R_{high}=R_{low}=1$"
   ]
  },
  {
   "cell_type": "code",
   "execution_count": null,
   "id": "80dad475",
   "metadata": {},
   "outputs": [],
   "source": [
    "# get Te\n",
    "for dump in dumps_sa.values():\n",
    "    dump.cache['Te'] = Te(dump, R_high[0], Rl, gamma=4/3)"
   ]
  },
  {
   "cell_type": "code",
   "execution_count": null,
   "id": "9b6ff955",
   "metadata": {},
   "outputs": [],
   "source": [
    "# var(Te)\n",
    "Te_sa_var1 = variance(range(i0, i1), dumps_sa)\n",
    "for dump in dumps_sa.values():\n",
    "    dump.cache['varTe'] = np.squeeze(np.array(list(Te_sa_var1.values())))"
   ]
  },
  {
   "cell_type": "code",
   "execution_count": null,
   "id": "28bc45d8",
   "metadata": {},
   "outputs": [],
   "source": [
    "save_var(dumps_sa, src_save_sa, Rh=1.)"
   ]
  },
  {
   "cell_type": "markdown",
   "id": "5f1000f4",
   "metadata": {},
   "source": [
    "$R_{high}=160$, $R_{low}=1$"
   ]
  },
  {
   "cell_type": "code",
   "execution_count": null,
   "id": "559e9b0c",
   "metadata": {},
   "outputs": [],
   "source": [
    "# get Te\n",
    "for dump in dumps_sa.values():\n",
    "    dump.cache['Te'] = Te(dump, R_high[3], Rl, gamma=4/3)"
   ]
  },
  {
   "cell_type": "code",
   "execution_count": null,
   "id": "b1b92900",
   "metadata": {},
   "outputs": [],
   "source": [
    "# var(Te)\n",
    "Te_sa_var2 = variance(range(i0, i1), dumps_sa)\n",
    "for dump in dumps_sa.values():\n",
    "    dump.cache['varTe'] = np.squeeze(np.array(list(Te_sa_var2.values())))"
   ]
  },
  {
   "cell_type": "code",
   "execution_count": null,
   "id": "cdc91290",
   "metadata": {},
   "outputs": [],
   "source": [
    "save_var(dumps_ma, src_save_ma, Rh=160.)"
   ]
  },
  {
   "cell_type": "code",
   "execution_count": null,
   "id": "fb74ca0f",
   "metadata": {},
   "outputs": [],
   "source": []
  },
  {
   "cell_type": "code",
   "execution_count": null,
   "id": "928fe26e",
   "metadata": {},
   "outputs": [],
   "source": []
  },
  {
   "cell_type": "code",
   "execution_count": null,
   "id": "79be303b",
   "metadata": {},
   "outputs": [],
   "source": []
  },
  {
   "cell_type": "code",
   "execution_count": null,
   "id": "416ebd2f",
   "metadata": {},
   "outputs": [],
   "source": []
  }
 ],
 "metadata": {
  "kernelspec": {
   "display_name": "Python 3",
   "language": "python",
   "name": "python3"
  },
  "language_info": {
   "codemirror_mode": {
    "name": "ipython",
    "version": 3
   },
   "file_extension": ".py",
   "mimetype": "text/x-python",
   "name": "python",
   "nbconvert_exporter": "python",
   "pygments_lexer": "ipython3",
   "version": "3.8.2"
  }
 },
 "nbformat": 4,
 "nbformat_minor": 5
}
