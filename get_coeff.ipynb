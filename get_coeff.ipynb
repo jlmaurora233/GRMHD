{
 "cells": [
  {
   "cell_type": "markdown",
   "id": "712dae12",
   "metadata": {},
   "source": [
    "√ The variances files <br>\n",
    "<b> Need to run the save_avg notebook first to get the averages, then run this one to get the coeffs <br>\n",
    "Put the notebooks (save_avg.ipynb, save_var.ipynb, and this one) and the saved files (already saved: *var*.npy) under a new folder, or it will be too messy"
   ]
  },
  {
   "cell_type": "code",
   "execution_count": 1,
   "id": "ea9dc134",
   "metadata": {},
   "outputs": [],
   "source": [
    "import numpy as np"
   ]
  },
  {
   "cell_type": "code",
   "execution_count": 4,
   "id": "243b2046",
   "metadata": {
    "scrolled": true
   },
   "outputs": [],
   "source": [
    "# MAD, Rh=1\n",
    "maTe_avg1 = np.load(\"ma_rh1_avgTe.npy\", allow_pickle=True).item()['Te']\n",
    "maTe_var1 = np.load(\"ma_rh1_varTe.npy\", allow_pickle=True)\n",
    "maR_avg1 = np.load(\"ma_avgR1.npy\", allow_pickle=True).item()['R']"
   ]
  },
  {
   "cell_type": "code",
   "execution_count": 5,
   "id": "f2e051af",
   "metadata": {},
   "outputs": [],
   "source": [
    "# MAD, Rh=160\n",
    "maTe_avg160 = np.load(\"ma_rh160_avgTe.npy\", allow_pickle=True).item()['Te']\n",
    "maTe_var160 = np.load(\"ma_rh160_varTe.npy\", allow_pickle=True)\n",
    "maR_avg160 = np.load(\"ma_avgR160.npy\", allow_pickle=True).item()['R']"
   ]
  },
  {
   "cell_type": "code",
   "execution_count": 6,
   "id": "ecc2ea70",
   "metadata": {},
   "outputs": [],
   "source": [
    "# MAD\n",
    "maRHO_avg = np.load(\"ma_avgRHO.npy\", allow_pickle=True).item()['RHO']\n",
    "maRHO_var = np.load(\"ma_varRHO.npy\", allow_pickle=True)\n",
    "\n",
    "maPg_avg = np.load(\"ma_avgPg.npy\", allow_pickle=True).item()['Pg']\n",
    "maPg_var = np.load(\"ma_varPg.npy\", allow_pickle=True)\n",
    "\n",
    "mabsq_avg = np.load(\"ma_avgbsq.npy\", allow_pickle=True).item()['bsq']\n",
    "mabsq_var = np.load(\"ma_varbsq.npy\", allow_pickle=True)"
   ]
  },
  {
   "cell_type": "code",
   "execution_count": 7,
   "id": "3b7c36e8",
   "metadata": {},
   "outputs": [
    {
     "data": {
      "text/plain": [
       "numpy.ndarray"
      ]
     },
     "execution_count": 7,
     "metadata": {},
     "output_type": "execute_result"
    }
   ],
   "source": [
    "# SANE, Rh=1\n",
    "saTe_avg1 = np.load(\"sa_rh1_avgTe.npy\", allow_pickle=True).item()['Te']\n",
    "saTe_var1 = np.load(\"sa_rh1_varTe.npy\", allow_pickle=True)\n",
    "saR_avg1 = np.load(\"sa_avgR1.npy\", allow_pickle=True).item()['R']\n",
    "type(saTe_avg1)"
   ]
  },
  {
   "cell_type": "code",
   "execution_count": 8,
   "id": "b0a175ed",
   "metadata": {},
   "outputs": [],
   "source": [
    "# SANE, Rh=160\n",
    "saTe_avg160 = np.load(\"sa_rh160_avgTe.npy\", allow_pickle=True).item()['Te']\n",
    "saTe_var160 = np.load(\"sa_rh160_varTe.npy\", allow_pickle=True)\n",
    "saR_avg160 = np.load(\"sa_avgR160.npy\", allow_pickle=True).item()['R']\n",
    "\n",
    "# SANE\n",
    "saRHO_avg = np.load(\"sa_avgRHO.npy\", allow_pickle=True).item()['RHO']\n",
    "saRHO_var = np.load(\"sa_varRHO.npy\", allow_pickle=True)\n",
    "\n",
    "saPg_avg = np.load(\"sa_avgPg.npy\", allow_pickle=True).item()['Pg']\n",
    "saPg_var = np.load(\"sa_varPg.npy\", allow_pickle=True)\n",
    "\n",
    "sabsq_avg = np.load(\"sa_avgbsq.npy\", allow_pickle=True).item()['bsq']\n",
    "sabsq_var = np.load(\"sa_varbsq.npy\", allow_pickle=True)"
   ]
  },
  {
   "cell_type": "code",
   "execution_count": 10,
   "id": "1620b7f4",
   "metadata": {},
   "outputs": [],
   "source": [
    "# cross terms\n",
    "macov_rhoPg = np.load(\"ma_avgRHOPg.npy\", allow_pickle=True).item()['rhoPg']\n",
    "macov_PgPmag = np.load(\"ma_avgPgPmag.npy\", allow_pickle=True).item()['PgPmag']\n",
    "macov_rhoPmag = np.load(\"ma_avgRHOPmag.npy\", allow_pickle=True).item()['rhoPmag']\n",
    "\n",
    "sacov_rhoPg = np.load(\"sa_avgRHOPg.npy\", allow_pickle=True).item()['rhoPg']\n",
    "sacov_PgPmag = np.load(\"sa_avgPgPmag.npy\", allow_pickle=True).item()['PgPmag']\n",
    "sacov_rhoPmag = np.load(\"sa_avgRHOPmag.npy\", allow_pickle=True).item()['rhoPmag']"
   ]
  },
  {
   "cell_type": "code",
   "execution_count": null,
   "id": "ad9d52be",
   "metadata": {},
   "outputs": [],
   "source": []
  },
  {
   "cell_type": "markdown",
   "id": "56680c41",
   "metadata": {},
   "source": [
    "### Newly derived coefficients<br>\n",
    "$a = y(\\gamma_{i} - 1)$ <br>\n",
    "$b = z(\\gamma_{e} - 1)$ <br>\n",
    "$c = \\frac{m_{p}(\\gamma_{i} - 1)(\\gamma_{e}-1)}{k_{B}(\\gamma - 1)}$ <br>\n",
    "$C[Pg -> Te] = A = \\frac{<Te>}{<Pg>}-\\frac{2b<Te><Pg>(R_{h} - <R>)}{(<P_{mag}>^{2}+<Pg>^{2})(a+b<R>)}$ <br>\n",
    "$C[\\rho -> Te] = B = -\\frac{<Te>}{<\\rho>}$ <br>\n",
    "$C[B^{2} -> Te] = C = \\frac{b<Te><Pg>}{2\\mu_{0}(<P_{mag}>^{2}+<Pg>^{2})(a+b<R>)}$"
   ]
  },
  {
   "cell_type": "code",
   "execution_count": 11,
   "id": "3a7e8b0f",
   "metadata": {},
   "outputs": [],
   "source": [
    "# some constants\n",
    "cl = 29979245800.0 # speed of light in cgs\n",
    "mp = 1.67262171e-24\n",
    "kb = 1.3806505e-16\n",
    "mu = 1."
   ]
  },
  {
   "cell_type": "code",
   "execution_count": 12,
   "id": "a998f78e",
   "metadata": {},
   "outputs": [],
   "source": [
    "# constants used for the functions\n",
    "y = 1.\n",
    "z = 3.\n",
    "gamma = 4/3\n",
    "gamma_i = 4/3\n",
    "gamma_e = 7/3\n",
    "a = y*(gamma_i - 1)\n",
    "b = z*(gamma_e - 1)\n",
    "c = mp*(gamma_e - 1)*(gamma_i - 1)/(kb*(gamma - 1))"
   ]
  },
  {
   "cell_type": "code",
   "execution_count": 13,
   "id": "e20ddafa",
   "metadata": {},
   "outputs": [],
   "source": [
    "# R\n",
    "def R(dump, Rh, Rl=1):\n",
    "    beta = dump['beta']\n",
    "    return Rl/(1+beta**2)+Rh*beta**2/(1+beta**2)"
   ]
  },
  {
   "cell_type": "code",
   "execution_count": 19,
   "id": "1e916e9a",
   "metadata": {},
   "outputs": [],
   "source": [
    "def CPg(avgTe, avgPg, avgPmag, avgR, Rh):\n",
    "    term1 = avgTe/avgPg\n",
    "    term2 = 2*b*avgTe*avgPg*(Rh-avgR)/((avgPmag**2+avgPg**2)*(a+b*avgR))\n",
    "    return term1-term2"
   ]
  },
  {
   "cell_type": "code",
   "execution_count": 15,
   "id": "33d81a6f",
   "metadata": {},
   "outputs": [],
   "source": [
    "def Crho(avgTe, avgrho):\n",
    "    return -avgTe/avgrho"
   ]
  },
  {
   "cell_type": "code",
   "execution_count": 16,
   "id": "292673f6",
   "metadata": {},
   "outputs": [],
   "source": [
    "def Cbsq(avgTe, avgPg, avgPmag, avgR):\n",
    "    nume = b*avgTe*avgPg\n",
    "    denom = 2*mu*(avgPmag**2+avgPg**2)*(a+b*avgR)\n",
    "    return nume/denom"
   ]
  },
  {
   "cell_type": "code",
   "execution_count": null,
   "id": "5663ea78",
   "metadata": {},
   "outputs": [],
   "source": []
  },
  {
   "cell_type": "code",
   "execution_count": 20,
   "id": "2f11a1c4",
   "metadata": {},
   "outputs": [],
   "source": [
    "# MAD, Rh=1\n",
    "maPmag_avg = 1/(2*mu)*mabsq_avg\n",
    "ma_CPg1 = CPg(maTe_avg1, maPg_avg, maPmag_avg, maR_avg1, Rh=1.0)\n",
    "ma_Crho1 = Crho(maTe_avg1, maRHO_avg)\n",
    "ma_Cbsq1 = Cbsq(maTe_avg1, maPg_avg, maPmag_avg, maR_avg1)"
   ]
  },
  {
   "cell_type": "code",
   "execution_count": 23,
   "id": "878c3845",
   "metadata": {},
   "outputs": [
    {
     "data": {
      "text/plain": [
       "numpy.ndarray"
      ]
     },
     "execution_count": 23,
     "metadata": {},
     "output_type": "execute_result"
    }
   ],
   "source": [
    "type(ma_CPg1)"
   ]
  },
  {
   "cell_type": "code",
   "execution_count": 24,
   "id": "bc3c52f0",
   "metadata": {},
   "outputs": [],
   "source": [
    "np.save('ma_CPg1.npy', ma_CPg1)\n",
    "np.save('ma_Crho1.npy', ma_Crho1)\n",
    "np.save('ma_Cbsq1.npy', ma_Cbsq1)"
   ]
  },
  {
   "cell_type": "code",
   "execution_count": 26,
   "id": "ad4bc80e",
   "metadata": {},
   "outputs": [],
   "source": [
    "# MAD, Rh=160\n",
    "maPmag_avg = 1/(2*mu)*mabsq_avg\n",
    "ma_CPg160 = CPg(maTe_avg160, maPg_avg, maPmag_avg, maR_avg160, Rh=160.0)\n",
    "ma_Crho160 = Crho(maTe_avg160, maRHO_avg)\n",
    "ma_Cbsq160 = Cbsq(maTe_avg160, maPg_avg, maPmag_avg, maR_avg160)"
   ]
  },
  {
   "cell_type": "code",
   "execution_count": 27,
   "id": "935fa514",
   "metadata": {},
   "outputs": [],
   "source": [
    "np.save('ma_CPg160.npy', ma_CPg160)\n",
    "np.save('ma_Crho160.npy', ma_Crho160)\n",
    "np.save('ma_Cbsq160.npy', ma_Cbsq160)"
   ]
  },
  {
   "cell_type": "code",
   "execution_count": 28,
   "id": "bb5065c7",
   "metadata": {},
   "outputs": [],
   "source": [
    "# SANE, Rh=1\n",
    "saPmag_avg = 1/(2*mu)*sabsq_avg\n",
    "sa_CPg1 = CPg(saTe_avg1, saPg_avg, saPmag_avg, saR_avg1, Rh=1.0)\n",
    "sa_Crho1 = Crho(saTe_avg1, saRHO_avg)\n",
    "sa_Cbsq1 = Cbsq(saTe_avg1, saPg_avg, saPmag_avg, saR_avg1)"
   ]
  },
  {
   "cell_type": "code",
   "execution_count": 29,
   "id": "ccb8a129",
   "metadata": {},
   "outputs": [],
   "source": [
    "np.save('sa_CPg1.npy', sa_CPg1)\n",
    "np.save('sa_Crho1.npy', sa_Crho1)\n",
    "np.save('sa_Cbsq1.npy', sa_Cbsq1)"
   ]
  },
  {
   "cell_type": "code",
   "execution_count": 31,
   "id": "175d0cc5",
   "metadata": {},
   "outputs": [],
   "source": [
    "# saD, Rh=1\n",
    "saPmag_avg = 1/(2*mu)*sabsq_avg\n",
    "sa_CPg160 = CPg(saTe_avg160, saPg_avg, saPmag_avg, saR_avg160, Rh=160.0)\n",
    "sa_Crho160 = Crho(saTe_avg160, saRHO_avg)\n",
    "sa_Cbsq160 = Cbsq(saTe_avg160, saPg_avg, saPmag_avg, saR_avg160)"
   ]
  },
  {
   "cell_type": "code",
   "execution_count": 32,
   "id": "66da0a21",
   "metadata": {},
   "outputs": [],
   "source": [
    "np.save('sa_CPg160.npy', sa_CPg160)\n",
    "np.save('sa_Crho160.npy', sa_Crho160)\n",
    "np.save('sa_Cbsq160.npy', sa_Cbsq160)"
   ]
  },
  {
   "cell_type": "code",
   "execution_count": null,
   "id": "b24c83c8",
   "metadata": {},
   "outputs": [],
   "source": []
  },
  {
   "cell_type": "markdown",
   "id": "a8726cb0",
   "metadata": {},
   "source": [
    "Check if coeffs are working properly: Use Te's long equation to get a list of Te values and calculate varTe"
   ]
  },
  {
   "cell_type": "code",
   "execution_count": null,
   "id": "0f882f50",
   "metadata": {},
   "outputs": [],
   "source": [
    "# test\n",
    "pg = np.random.rand(CPg1.shape)\n",
    "rho = np.random.rand(Crho.shape)\n",
    "bsq = np.random.rand(Cbsq1.shape)"
   ]
  },
  {
   "cell_type": "code",
   "execution_count": null,
   "id": "d1500b8e",
   "metadata": {},
   "outputs": [],
   "source": [
    "Te_calc = "
   ]
  },
  {
   "cell_type": "markdown",
   "id": "34f0aed2",
   "metadata": {},
   "source": [
    "If they are: Do the var(Te) [two versions: 1) calculated from error propagation and 2) directly calculated] VS theta ([0, pi]) plots at different radius (i.e. different index slices of that (288, 128, 128) array). Say, radius r=2, then choose the slice varTe[2, :, 0] so that you got a 1D var(Te) at radius r=2 along theta"
   ]
  },
  {
   "cell_type": "code",
   "execution_count": null,
   "id": "b901f3a6",
   "metadata": {},
   "outputs": [],
   "source": []
  }
 ],
 "metadata": {
  "kernelspec": {
   "display_name": "Python 3 (ipykernel)",
   "language": "python",
   "name": "python3"
  },
  "language_info": {
   "codemirror_mode": {
    "name": "ipython",
    "version": 3
   },
   "file_extension": ".py",
   "mimetype": "text/x-python",
   "name": "python",
   "nbconvert_exporter": "python",
   "pygments_lexer": "ipython3",
   "version": "3.8.12"
  }
 },
 "nbformat": 4,
 "nbformat_minor": 5
}
