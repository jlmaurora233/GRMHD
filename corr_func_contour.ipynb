{
 "cells": [
  {
   "cell_type": "code",
   "execution_count": 1,
   "id": "b7396aa1",
   "metadata": {},
   "outputs": [],
   "source": [
    "from toolz import valmap\n",
    "\n",
    "import h5py\n",
    "import pyharm\n",
    "\n",
    "import matplotlib.pyplot as plt\n",
    "import numpy as np\n",
    "from numpy import ma\n",
    "from matplotlib import ticker, cm"
   ]
  },
  {
   "cell_type": "code",
   "execution_count": null,
   "id": "7d54c4b8",
   "metadata": {},
   "outputs": [],
   "source": [
    "i0 = 5010 # initial  frame\n",
    "i1 = 5061 # 1 + last frame\n",
    "\n",
    "fmt = 'torus.out0.{:05d}.h5'\n",
    "\n",
    "qualities = ['RHO', 'Pg', 'bsq', 'beta', 'Theta', 'Thetae']"
   ]
  },
  {
   "cell_type": "code",
   "execution_count": null,
   "id": "d6f22025",
   "metadata": {},
   "outputs": [],
   "source": [
    "# some constants\n",
    "cl = 29979245800.0 # speed of light in cgs\n",
    "mp = 1.67262171e-24\n",
    "kb = 1.3806505e-16\n",
    "mu = 1."
   ]
  },
  {
   "cell_type": "code",
   "execution_count": null,
   "id": "72df363e",
   "metadata": {},
   "outputs": [],
   "source": [
    "src_ma_10M = '/xdisk/chanc/share/GRMHD_dt10M/Ma+0.94_w5/'\n",
    "src_sa_10M = '/xdisk/chanc/share/GRMHD_dt10M/Sa+0.94_w5/'\n",
    "\n",
    "src_ma_1000M = '/xdisk/chanc/share/GRMHD_dt1000M/Ma+0.94_w5/'\n",
    "src_sa_1000M = '/xdisk/chanc/share/GRMHD_dt1000M/Sa+0.94_w5/'\n",
    "\n",
    "dump0 = pyharm.load_dump(fname(i0, src_ma_10M))\n",
    "R_low = 1.\n",
    "R_high = [1, 10, 40, 160]\n",
    "# first row of SANE model params"
   ]
  },
  {
   "cell_type": "code",
   "execution_count": null,
   "id": "585b1c17",
   "metadata": {},
   "outputs": [],
   "source": [
    "def get_dumps(i0, i1, src, step=1):\n",
    "    dumps = {}\n",
    "    for i in range(i0, i1, step):\n",
    "        dumps[str(i)] = pyharm.load_dump(fname(i, src))\n",
    "    return dumps"
   ]
  },
  {
   "cell_type": "code",
   "execution_count": null,
   "id": "74692097",
   "metadata": {},
   "outputs": [],
   "source": [
    "def average(irange, dumps, keys):\n",
    "    s = {k:0 for k in keys}\n",
    "    for i in irange:\n",
    "        # print('i:', i)\n",
    "        # Because data I/O is expensive, we load the data once ...\n",
    "        d = dumps[str(i)].cache\n",
    "        # print('d:', d)\n",
    "        # ... and then sum over multiple keys\n",
    "        for k in keys:\n",
    "            s[k] += d[k] # i.e.: s[key1] = file1[key1] + file2[key1] + file3[key1] + ...\n",
    "            # print('s[k]:', s[k])\n",
    "            # print('d[k]', d[k])\n",
    "    print('finish average calculation.')\n",
    "    return valmap(lambda v: v/len(irange), s) # return an average of variables from the files read in"
   ]
  },
  {
   "cell_type": "code",
   "execution_count": null,
   "id": "8aa36db3",
   "metadata": {},
   "outputs": [],
   "source": [
    "# works; returns an array of arrays with numerical values\n",
    "def variance(irange, dumps, quality='Te'):\n",
    "    \"\"\"\n",
    "    quality: str, the physical quality whose variance values we want (e.g. 'Te' for electron temperature)\n",
    "    dumps: dictionary, all the dump files read in\n",
    "    \"\"\"\n",
    "    key = 'var' + quality\n",
    "    ss = {key: 0}\n",
    "    for i in irange:\n",
    "        d = dumps[str(i)].cache\n",
    "        ss[key] += (d[quality]-d['avg' + quality])**2\n",
    "    for i in irange:\n",
    "        dumps[str(i)].cache[key] = ss[key]\n",
    "    print('finish variance & standard deviation calculation\\'s loop.')\n",
    "    # return valmap(lambda v: v/len(irange), ss)"
   ]
  },
  {
   "cell_type": "markdown",
   "id": "a8a51503",
   "metadata": {},
   "source": [
    "$\\gamma = \\frac{4}{3}$, $x_{e} = \\frac{1}{4}$, so ions:electrons = 3:1 (y=1, z=3; $\\gamma_{i}=\\gamma=\\frac{4}{3}, \\gamma_e = \\gamma + x_{e} / (1 - x_{e})(5/3 - \\gamma) = \\frac{7}{3}$) <br> \n",
    "$Const = m_{p}(\\gamma_{e}-1)(\\gamma_{i}-1)$ <br> \n",
    "$const1 = y(\\gamma_{i}-1)$ <br>\n",
    "$const2 = z(\\gamma_{e}-1)$ <br>\n",
    "$const3 = k_{B}(\\gamma-1)$"
   ]
  },
  {
   "cell_type": "code",
   "execution_count": null,
   "id": "67587bb0",
   "metadata": {},
   "outputs": [],
   "source": [
    "# constants used for the functions\n",
    "y = 1.\n",
    "z = 3.\n",
    "gamma = 4/3\n",
    "gamma_i = 4/3\n",
    "gamma_e = 7/3\n",
    "const = mp*(gamma_e - 1)*(gamma_i - 1)\n",
    "const1 = y*(gamma_i - 1)\n",
    "const2 = z*(gamma_e - 1)\n",
    "const3 = kb*(gamma - 1)"
   ]
  },
  {
   "cell_type": "markdown",
   "id": "b329e4e8",
   "metadata": {},
   "source": [
    "$R=\\frac{R_{low}}{P_{mag}^{2}+P_{g}^{2}}+\\frac{R_{high}P_{g}^{2}}{P_{mag}^{2}+P_{g}^{2}}$"
   ]
  },
  {
   "cell_type": "code",
   "execution_count": null,
   "id": "1fec1bac",
   "metadata": {},
   "outputs": [],
   "source": [
    "def R(dump, Rh, Rl, Pmag):\n",
    "    Pg = dump['Pg']\n",
    "    return Rl/(Pmag**2+Pg**2)+Rh*Pg**2/(Pmag**2+Pg**2)"
   ]
  },
  {
   "cell_type": "markdown",
   "id": "40bee5ca",
   "metadata": {},
   "source": [
    "The derived correlation functions: https://www.overleaf.com/project/648f4ef47315ccb8acbff565 <br>\n",
    "For variance($\\rho$): $F_{1}(\\rho, P_{g}, P_{mag}) = -\\frac{Const}{const3}\\frac{P_{g}}{\\rho^{2}\\cdot k_{B}[const1+R\\cdot const2]}$ <br>\n",
    "For variance($P_{g}$): $F_{2}(P_{g}, P_{mag})= \\frac{Const}{c3}[\\frac{1}{c1+c2\\cdot(\\frac{P_{mag}^{2}R_{low}}{P_{mag}^{2}+P_{g}^{2}}+\\frac{P_{g}^{2}R_{high}}{P_{mag}^{2}+P_{g}^{2}})}-\\frac{c2P_{g}(\\frac{2R_{high}P_{g}}{P_{mag}^{2}+P_{g}^{2}}-\\frac{2R_{high}P_{g}^{3}}{(P_{mag}^{2}+P_{g}^{2})^{2}}-\\frac{2R_{low}P_{g}}{(P_{mag}^{2}+P_{g}^2)^{2}})}{(c1+c2\\cdot(\\frac{P_{mag}^{2}R_{low}}{P_{mag}^{2}+P_{g}^{2}}+\\frac{P_{g}^{2}R_{high}}{P_{mag}^{2}+P_{g}^{2}})^{2}}]$ <br>\n",
    "For variance($P_{mag}$): $F_{3}(P_{g}, P_{mag}) = \\frac{c2(R_{high}-R_{low})P_{g}^{2}}{[c1\\cdot(P_{mag}^{2}+P_{g}^{2})+c2\\cdot(P_{mag}^{2}R_{low}+P_{g}^{2}R_{high})]^{2}}$ "
   ]
  },
  {
   "cell_type": "code",
   "execution_count": null,
   "id": "3d63f17f",
   "metadata": {},
   "outputs": [],
   "source": [
    "def F1(dump, Rh, Rl):\n",
    "    rho = dump['RHO']\n",
    "    Pg = dump['Pg']\n",
    "    B2 = dump['bsq']\n",
    "    Pmag = B2/(2*mu)\n",
    "    r = R(dump, Rh, Rl, Pmag)\n",
    "    \n",
    "    frac = Pg/(rho**2*kb*(const1+r*const2))\n",
    "    val = -const/const3*frac\n",
    "    return val"
   ]
  },
  {
   "cell_type": "code",
   "execution_count": null,
   "id": "90c76161",
   "metadata": {},
   "outputs": [],
   "source": [
    "def F2(dump, Rh, Rl):\n",
    "    rho = dump['RHO']\n",
    "    Pg = dump['Pg']\n",
    "    B2 = dump['bsq']\n",
    "    Pmag = B2/(2*mu)\n",
    "    r = R(dump, Rh, Rl, Pmag)\n",
    "    \n",
    "    frac1 = 1/(const1*(Pmag**2+Pg**2)+const2*(Pmag**2*Rl/(Pmag**2+Pg**2)+Pg**2*Rh/(Pmag**2+Pg**2)))\n",
    "    numerator2 = const2*Pg*(2*Rh*Pg/(Pmag**2+Pg**2)-2*Rh*Pg**3/(Pmag**2+Pg**2)**2-2*Rl*Pg/(Pmag**2+Pg**2)**2)\n",
    "    denom2 = const1+const2*(Pmag**2*Rl/(Pmag**2+Pg**2)+Pg**2*Rh/(Pmag**2+Pg**2))\n",
    "    return const/const3*(frac1-numerator2/denom2)"
   ]
  },
  {
   "cell_type": "code",
   "execution_count": null,
   "id": "ff7b52f0",
   "metadata": {},
   "outputs": [],
   "source": [
    "def F3(dump, Rh, Rl):\n",
    "    rho = dump['RHO']\n",
    "    Pg = dump['Pg']\n",
    "    B2 = dump['bsq']\n",
    "    Pmag = B2/(2*mu)\n",
    "    r = R(dump, Rh, Rl, Pmag)\n",
    "    \n",
    "    nume = const2*(Rh-Rl)*Pg**2\n",
    "    denom = (const1*(Pmag**2+Pg**2)+const2*(Pmag**2*Rl+Pg**2*Rh))**2\n",
    "    return nume/denom"
   ]
  },
  {
   "cell_type": "markdown",
   "id": "b7489924",
   "metadata": {},
   "source": [
    "Read in files:"
   ]
  },
  {
   "cell_type": "code",
   "execution_count": null,
   "id": "2724027e",
   "metadata": {},
   "outputs": [],
   "source": [
    "# MAD\n",
    "dumps_ma = get_dumps(i0, i1, src_ma_10M)"
   ]
  },
  {
   "cell_type": "code",
   "execution_count": null,
   "id": "2bfe76e6",
   "metadata": {},
   "outputs": [],
   "source": [
    "# SANE\n",
    "dumps_sa = get_dumps(i0, i1, src_sa_10M)"
   ]
  },
  {
   "cell_type": "markdown",
   "id": "31f393d3",
   "metadata": {},
   "source": [
    "## Contours"
   ]
  },
  {
   "cell_type": "markdown",
   "id": "fa98174e",
   "metadata": {},
   "source": [
    "### MAD"
   ]
  },
  {
   "cell_type": "markdown",
   "id": "bcf9fc5a",
   "metadata": {},
   "source": [
    "$F_{1}$"
   ]
  },
  {
   "cell_type": "code",
   "execution_count": null,
   "id": "15d48bfb",
   "metadata": {},
   "outputs": [],
   "source": [
    "for dump in dumps_ma.values():\n",
    "    dump.cache['corr1'] = F1(dump, Rh, Rl)"
   ]
  },
  {
   "cell_type": "markdown",
   "id": "1eecd1d8",
   "metadata": {},
   "source": [
    "$F_{2}$"
   ]
  },
  {
   "cell_type": "code",
   "execution_count": null,
   "id": "383c300d",
   "metadata": {},
   "outputs": [],
   "source": [
    "for dump in dumps_ma.values():\n",
    "    dump.cache['corr2'] = F2(dump, Rh, Rl)"
   ]
  },
  {
   "cell_type": "markdown",
   "id": "26458f6c",
   "metadata": {},
   "source": [
    "$F_{3}$"
   ]
  },
  {
   "cell_type": "code",
   "execution_count": null,
   "id": "9ceed266",
   "metadata": {},
   "outputs": [],
   "source": [
    "for dump in dumps_ma.values():\n",
    "    dump.cache['corr2'] = F3(dump, Rh, Rl)"
   ]
  },
  {
   "cell_type": "markdown",
   "id": "a07f097f",
   "metadata": {},
   "source": [
    "The contour tutorial: https://matplotlib.org/stable/gallery/images_contours_and_fields/contourf_log.html"
   ]
  },
  {
   "cell_type": "code",
   "execution_count": null,
   "id": "2a84278a",
   "metadata": {},
   "outputs": [],
   "source": [
    "N = 100\n",
    "x = np.linspace(-3.0, 3.0, N)\n",
    "y = np.linspace(-2.0, 2.0, N)\n",
    "\n",
    "X, Y = np.meshgrid(x, y)\n",
    "\n",
    "# A low hump with a spike coming out.\n",
    "# Needs to have z/colour axis on a log scale, so we see both hump and spike.\n",
    "# A linear scale only shows the spike.\n",
    "Z1 = np.exp(-X**2 - Y**2)\n",
    "Z2 = np.exp(-(X * 10)**2 - (Y * 10)**2)\n",
    "z = Z1 + 50 * Z2\n",
    "\n",
    "# Put in some negative values (lower left corner) to cause trouble with logs:\n",
    "z[:5, :5] = -1\n",
    "\n",
    "# The following is not strictly essential, but it will eliminate\n",
    "# a warning.  Comment it out to see the warning.\n",
    "z = ma.masked_where(z <= 0, z)\n",
    "\n",
    "\n",
    "# Automatic selection of levels works; setting the\n",
    "# log locator tells contourf to use a log scale:\n",
    "fig, ax = plt.subplots()\n",
    "cs = ax.contourf(X, Y, z, locator=ticker.LogLocator(), cmap=cm.PuBu_r)\n",
    "\n",
    "# Alternatively, you can manually set the levels\n",
    "# and the norm:\n",
    "# lev_exp = np.arange(np.floor(np.log10(z.min())-1),\n",
    "#                    np.ceil(np.log10(z.max())+1))\n",
    "# levs = np.power(10, lev_exp)\n",
    "# cs = ax.contourf(X, Y, z, levs, norm=colors.LogNorm())\n",
    "\n",
    "cbar = fig.colorbar(cs)\n",
    "\n",
    "plt.show()"
   ]
  },
  {
   "cell_type": "code",
   "execution_count": null,
   "id": "debf6de7",
   "metadata": {},
   "outputs": [],
   "source": []
  },
  {
   "cell_type": "markdown",
   "id": "1bc28634",
   "metadata": {},
   "source": [
    "### SANE"
   ]
  },
  {
   "cell_type": "markdown",
   "id": "ee548863",
   "metadata": {},
   "source": [
    "$F_{1}$"
   ]
  },
  {
   "cell_type": "code",
   "execution_count": null,
   "id": "5f8fd4e0",
   "metadata": {},
   "outputs": [],
   "source": [
    "for dump in dumps_sa.values():\n",
    "    dump.cache['corr1'] = F1(dump, Rh, Rl)"
   ]
  },
  {
   "cell_type": "markdown",
   "id": "fcc80d2d",
   "metadata": {},
   "source": [
    "$F_{2}$"
   ]
  },
  {
   "cell_type": "code",
   "execution_count": null,
   "id": "2bfe61a5",
   "metadata": {},
   "outputs": [],
   "source": [
    "for dump in dumps_sa.values():\n",
    "    dump.cache['corr2'] = F2(dump, Rh, Rl)"
   ]
  },
  {
   "cell_type": "markdown",
   "id": "706eb0f8",
   "metadata": {},
   "source": [
    "$F_{3}$"
   ]
  },
  {
   "cell_type": "code",
   "execution_count": null,
   "id": "e11dc1c9",
   "metadata": {},
   "outputs": [],
   "source": [
    "for dump in dumps_sa.values():\n",
    "    dump.cache['corr2'] = F3(dump, Rh, Rl)"
   ]
  }
 ],
 "metadata": {
  "kernelspec": {
   "display_name": "Python 3",
   "language": "python",
   "name": "python3"
  },
  "language_info": {
   "codemirror_mode": {
    "name": "ipython",
    "version": 3
   },
   "file_extension": ".py",
   "mimetype": "text/x-python",
   "name": "python",
   "nbconvert_exporter": "python",
   "pygments_lexer": "ipython3",
   "version": "3.8.2"
  }
 },
 "nbformat": 4,
 "nbformat_minor": 5
}
