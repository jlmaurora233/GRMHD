{
 "cells": [
  {
   "cell_type": "markdown",
   "id": "eeb7e776",
   "metadata": {},
   "source": [
    "## Read in data\n",
    "\n",
    "path:\n",
    "\n",
    "/xdisk/chanc/share/\n",
    "\n",
    "there are two folders: GRMHD_dt1000M and GRMHD_dt10M\n",
    "\n",
    "under GRMHD_dt1000M: (5000-5900, step=100 for reading in files) <br>Ma+0.5_w5 <br>Ma+0.94_w5<br> Ma-0.5_w5<br> Ma-0.94_w5<br> Ma0_w5<br> Sa+0.5_w5<br> Sa+0.94_w5<br> Sa-0.5_w5<br> Sa-0.94_w5<br> Sa0_w5\n",
    "\n",
    "under GRMHD_dt10M: (5000 - 5999, step=1) <br>Ma+0.94_w5<br>Ma-0.94_w5 <br> Sa+0.94_w5\n",
    "\n",
    "USE GRMHD_dt1000M first <br>\n",
    "USE GRMHD_dt10M, step=10 for the calculation of variance and MI"
   ]
  },
  {
   "cell_type": "code",
   "execution_count": 2,
   "id": "3497307b",
   "metadata": {},
   "outputs": [],
   "source": [
    "from toolz import valmap\n",
    "\n",
    "import h5py\n",
    "import pyharm\n",
    "\n",
    "from matplotlib   import pyplot as plt\n",
    "import numpy as np\n",
    "from pyharm.plots import plot_dumps as pplt"
   ]
  },
  {
   "cell_type": "code",
   "execution_count": 3,
   "id": "d00b14a1",
   "metadata": {},
   "outputs": [],
   "source": [
    "i0 = 5000 # initial  frame\n",
    "i1 = 5900 # 1 + last frame\n",
    "\n",
    "fmt = 'torus.out0.{:05d}.h5'\n",
    "\n",
    "qualities = ['RHO', 'Pg', 'bsq', 'beta', 'Theta', 'Thetae']"
   ]
  },
  {
   "cell_type": "code",
   "execution_count": 4,
   "id": "8faa514e",
   "metadata": {},
   "outputs": [],
   "source": [
    "def fname(i, src): # closure on `src` and `fmt`\n",
    "    return (src+fmt).format(i)"
   ]
  },
  {
   "cell_type": "markdown",
   "id": "f0d57fb6",
   "metadata": {},
   "source": [
    "## Data (for 1000M)"
   ]
  },
  {
   "cell_type": "code",
   "execution_count": 5,
   "id": "4a27af3b",
   "metadata": {},
   "outputs": [],
   "source": [
    "path_1000M = '/xdisk/chanc/share/GRMHD_dt1000M/'\n",
    "src_ma = ['Ma+0.5_w5', 'Ma+0.94_w5', 'Ma-0.5_w5', 'Ma-0.94_w5', 'Ma0_w5']\n",
    "src_sa = ['Sa+0.5_w5', 'Sa+0.94_w5', 'Sa-0.5_w5', 'Sa-0.94_w5', 'Sa0_w5']\n",
    "src_ma_1000M = []\n",
    "src_sa_1000M = []\n",
    "for i in range(len(src_ma)):\n",
    "    src_ma_1000M.append(path_1000M+src_ma[i]+'/')\n",
    "    src_sa_1000M.append(path_1000M+src_sa[i]+'/')\n",
    "\n",
    "dump0 = pyharm.load_dump(fname(i0, src_ma_1000M[0]))\n",
    "R_low = 1.\n",
    "R_high = [1, 10, 40, 160]\n",
    "# first row of SANE model params"
   ]
  },
  {
   "cell_type": "code",
   "execution_count": 6,
   "id": "6dfb76d9",
   "metadata": {},
   "outputs": [],
   "source": [
    "def get_dumps(i0, i1, src, step=1):\n",
    "    dumps = {}\n",
    "    for i in range(i0, i1, step):\n",
    "        dumps[str(i)] = pyharm.load_dump(fname(i, src))\n",
    "    return dumps"
   ]
  },
  {
   "cell_type": "code",
   "execution_count": 7,
   "id": "0d38fd2c",
   "metadata": {},
   "outputs": [],
   "source": [
    "# some constants\n",
    "cl = 29979245800.0 # speed of light in cgs\n",
    "mp = 1.67262171e-24\n",
    "kb = 1.3806505e-16"
   ]
  },
  {
   "cell_type": "code",
   "execution_count": 8,
   "id": "cbf6ffef",
   "metadata": {},
   "outputs": [],
   "source": [
    "# R\n",
    "def R(dump, Rh, Rl):\n",
    "    beta = dump['beta']\n",
    "    return Rl/(1+beta**2)+Rh*beta**2/(1+beta**2)"
   ]
  },
  {
   "cell_type": "code",
   "execution_count": 9,
   "id": "9885e1e9",
   "metadata": {},
   "outputs": [],
   "source": [
    "# electron temperature\n",
    "def Te(dump, Rh, Rl, gamma):\n",
    "    if gamma == 4/3:\n",
    "        y = 1\n",
    "        z = 3\n",
    "        gamma_i = 4/3\n",
    "        gamma_e = 7/3\n",
    "    if gamma == 13/9:\n",
    "        y = 1\n",
    "        z = 2\n",
    "        gamma_i = 13/9\n",
    "        gamma_e = 133/36\n",
    "    if gamma == 5/3:\n",
    "        y = 1\n",
    "        z = 1\n",
    "        gamma_i = 5/3\n",
    "        gamma_e = 5/3\n",
    "    beta = dump['beta']\n",
    "    u = dump['Pg']/(gamma-1)\n",
    "    r = R(dump, Rh, Rl)\n",
    "    numerator = mp*cl**2*u*(gamma_e-1)*(gamma_i-1)\n",
    "    denom = kb*dump['RHO']*(y*(gamma_i-1)+r*z*(gamma_e-1))\n",
    "    Te = numerator/denom\n",
    "    dump.cache['Te'] = Te\n",
    "    return Te"
   ]
  },
  {
   "cell_type": "code",
   "execution_count": 10,
   "id": "39f81737",
   "metadata": {},
   "outputs": [],
   "source": [
    "def average(irange, keys, dumps):\n",
    "    s = {'Te': np.zeros_like(dump0['Pg'])}\n",
    "    for i in irange:\n",
    "        print('i:', i)\n",
    "        # Because data I/O is expensive, we load the data once ...\n",
    "        d = dumps[str(i)].cache\n",
    "        s['Te'] += d['Te'] \n",
    "    return valmap(lambda v: v/len(irange), s)"
   ]
  },
  {
   "cell_type": "code",
   "execution_count": 11,
   "id": "c4bca5a4",
   "metadata": {},
   "outputs": [],
   "source": [
    "# works; returns an array of arrays with numerical values\n",
    "# SKIP THIS FUNCTION\n",
    "def variance(irange, dumps, interval=100):\n",
    "    ss = {'varTe': np.zeros_like(dump0['Pg'])}\n",
    "    for i in irange:\n",
    "        print(i)\n",
    "        d = dumps[str(i)].cache\n",
    "        ss['varTe'] += (d['Te']-d['avgTe'])**2\n",
    "    return valmap(lambda v: v/(len(irange)*interval), ss)"
   ]
  },
  {
   "cell_type": "code",
   "execution_count": 12,
   "id": "f1fd9713",
   "metadata": {},
   "outputs": [],
   "source": [
    "def MI(dump):\n",
    "    dump.cache['MI'] = np.sqrt(dump.cache['varTe'])/dump.cache['avgTe']"
   ]
  },
  {
   "cell_type": "code",
   "execution_count": 13,
   "id": "35aa713b",
   "metadata": {},
   "outputs": [],
   "source": [
    "def change_Rh(dumps, irange, idx, interval=100, gamma=4/3):\n",
    "    '''\n",
    "    dumps: a dictionary of the dump files in one folder\n",
    "    irange: keys' range, e.g. range(i0, i1, step)\n",
    "    idx: index for which Rh to choose from the Rh list\n",
    "    interval: 5000, 5100, 5200..., so interval=100\n",
    "    '''\n",
    "    Te_rh = {} \n",
    "    dict_keys = dumps.keys()\n",
    "    for key in dict_keys:\n",
    "        temp = Te(dumps[key], R_high[idx], R_low, gamma)\n",
    "        Te_rh[key] = temp\n",
    "    Te_avg = average(irange, ['Te'], dumps)\n",
    "    for dump in dumps.values():\n",
    "        dump.cache['avgTe'] = np.squeeze(np.array(list(Te_avg.values())))\n",
    "    for dump in dumps.values():\n",
    "        Te_var = (dump.cache['Te'] - dump.cache['avgTe'])**2/interval\n",
    "        dump.cache['varTe'] = np.squeeze(np.array(list(Te_var.values())))\n",
    "        dump.cache['MI'] = np.squeeze(np.array(list(MI(dump))))\n",
    "    print('end one folder')\n",
    "    return dumps"
   ]
  },
  {
   "cell_type": "code",
   "execution_count": null,
   "id": "03482658",
   "metadata": {},
   "outputs": [],
   "source": []
  },
  {
   "cell_type": "markdown",
   "id": "5f2d632c",
   "metadata": {},
   "source": [
    "Use dictionary\n",
    "\n",
    "look for γ: https://arxiv.org/pdf/2202.11721.pdf <br> Assume ideal gas -> $Γ = \\frac{5}{3} + \\frac{4}{3}(1 - x_{e})$ where $x_{e}$ is the electron fraction. <br> $\\gamma = \\frac{4}{3}$, $x_{e} = \\frac{1}{4}$, so ions:electrons = 3:1 (y=1, z=3; $\\gamma_{i}=\\gamma=\\frac{4}{3}, \\gamma_e = \\gamma + x_{e} / (1 - x_{e})(5/3 - \\gamma) = \\frac{7}{3}$) <br> $\\gamma = \\frac{13}{9}$, $x_{e} = \\frac{1}{3}$, so ions:electrons = 2:1 (y=1, z=2; $\\gamma_{i}=\\gamma=\\frac{13}{9}, \\gamma_e = \\gamma + x_{e} / (1 - x_{e})(5/3 - \\gamma) = \\frac{133}{36}$) <br> $\\gamma = \\gamma_{i}=\\frac{5}{3}$, so the gas is fully composed of ions (i.e. $\\gamma_{e} = 0$) (? y=z=1; $\\gamma_{i}=\\gamma_{e} = \\gamma = \\frac{5}{3}$) <br>"
   ]
  },
  {
   "cell_type": "code",
   "execution_count": 15,
   "id": "edb8ab7f",
   "metadata": {},
   "outputs": [],
   "source": [
    "i0 = 5000\n",
    "i1 = 6000\n",
    "gammas = [4/3, 13/9, 5/3]\n",
    "\n",
    "# read in dump files; 10 dumps for each\n",
    "dumps_ma05 = get_dumps(i0, i1, src_ma_1000M[0], 100) \n",
    "dumps_ma094 = get_dumps(i0, i1, src_ma_1000M[1], 100)\n",
    "dumps_ma_05 = get_dumps(i0, i1, src_ma_1000M[2], 100)\n",
    "dumps_ma_094 = get_dumps(i0, i1, src_ma_1000M[3], 100)\n",
    "dumps_ma0 = get_dumps(i0, i1, src_ma_1000M[4], 100)\n",
    "\n",
    "dumps_sa05 = get_dumps(i0, i1, src_sa_1000M[0], 100)\n",
    "dumps_sa094 = get_dumps(i0, i1, src_sa_1000M[1], 100)\n",
    "dumps_sa_05 = get_dumps(i0, i1, src_sa_1000M[2], 100)\n",
    "dumps_sa_094 = get_dumps(i0, i1, src_sa_1000M[3], 100)\n",
    "dumps_sa0 = get_dumps(i0, i1, src_sa_1000M[4], 100)"
   ]
  },
  {
   "cell_type": "code",
   "execution_count": 16,
   "id": "d265b4fa",
   "metadata": {},
   "outputs": [
    {
     "name": "stdout",
     "output_type": "stream",
     "text": [
      "dict_keys(['5000', '5100', '5200', '5300', '5400', '5500', '5600', '5700', '5800', '5900'])\n"
     ]
    }
   ],
   "source": [
    "print(dumps_ma05.keys())"
   ]
  },
  {
   "cell_type": "markdown",
   "id": "3bd8480f",
   "metadata": {},
   "source": [
    "get the variance and hence MI for each dump obj in each folder"
   ]
  },
  {
   "cell_type": "code",
   "execution_count": null,
   "id": "ad01027e",
   "metadata": {},
   "outputs": [],
   "source": [
    "# fisrt num: which Rh it uses; second num: which gamma it uses. 11: Rh=R_high[0] and gamma=gammas[0]\n",
    "dumps = {}\n",
    "for i in range(len(R_high)):\n",
    "    for j in range(len(gammas)):\n",
    "        dumps[\"dumps_ma05_{01}\".format(ij)] = change_Rh(dumps_ma05, range(i0, i1, 100), i, interval=100, gamma=gammas[j])\n",
    "        \n",
    "for i in range(len(R_high)):\n",
    "    for j in range(len(gammas)):\n",
    "        dumps[\"dumps_ma094_{01}\".format(ij)] = change_Rh(dumps_ma094, range(i0, i1, 100), i, interval=100, gamma=gammas[j])\n",
    "        \n",
    "for i in range(len(R_high)):\n",
    "    for j in range(len(gammas)):\n",
    "        dumps[\"dumps_ma_05_{01}\".format(ij)] = change_Rh(dumps_ma_05, range(i0, i1, 100), i, interval=100, gamma=gammas[j])\n",
    "        \n",
    "for i in range(len(R_high)):\n",
    "    for j in range(len(gammas)):\n",
    "        dumps[\"dumps_ma_094_{01}\".format(ij)] = change_Rh(dumps_ma_094, range(i0, i1, 100), i, interval=100, gamma=gammas[j])\n",
    "        \n",
    "for i in range(len(R_high)):\n",
    "    for j in range(len(gammas)):\n",
    "        dumps[\"dumps_ma0_{01}\".format(ij)] = change_Rh(dumps_ma0, range(i0, i1, 100), i, interval=100, gamma=gammas[j])"
   ]
  },
  {
   "cell_type": "code",
   "execution_count": null,
   "id": "b519dc89",
   "metadata": {},
   "outputs": [],
   "source": [
    "for i in range(len(R_high)):\n",
    "    for j in range(len(gammas)):\n",
    "        dumps[\"dumps_sa05_{01}\".forsat(ij)] = change_Rh(dumps_sa05, range(i0, i1, 100), i, interval=100, gamsa=gamsas[j])\n",
    "        \n",
    "for i in range(len(R_high)):\n",
    "    for j in range(len(gammas)):\n",
    "        dumps[\"dumps_sa094_{01}\".forsat(ij)] = change_Rh(dumps_sa094, range(i0, i1, 100), i, interval=100, gamsa=gamsas[j])\n",
    "        \n",
    "for i in range(len(R_high)):\n",
    "    for j in range(len(gammas)):\n",
    "        dumps[\"dumps_sa_05_{01}\".forsat(ij)] = change_Rh(dumps_sa_05, range(i0, i1, 100), i, interval=100, gamsa=gamsas[j])\n",
    "        \n",
    "for i in range(len(R_high)):\n",
    "    for j in range(len(gammas)):\n",
    "        dumps[\"dumps_sa_094_{01}\".forsat(ij)] = change_Rh(dumps_sa_094, range(i0, i1, 100), i, interval=100, gamsa=gamsas[j])\n",
    "        \n",
    "for i in range(len(R_high)):\n",
    "    for j in range(len(gammas)):\n",
    "        dumps[\"dumps_sa0_{01}\".forsat(ij)] = change_Rh(dumps_sa0, range(i0, i1, 100), i, interval=100, gamsa=gamsas[j])"
   ]
  },
  {
   "cell_type": "code",
   "execution_count": 19,
   "id": "7dcf9f45",
   "metadata": {},
   "outputs": [
    {
     "data": {
      "text/plain": [
       "{'00': '(R_high, γ) = (1, 1.3333333333333333)',\n",
       " '01': '(R_high, γ) = (1, 1.4444444444444444)',\n",
       " '02': '(R_high, γ) = (1, 1.6666666666666667)',\n",
       " '10': '(R_high, γ) = (10, 1.3333333333333333)',\n",
       " '11': '(R_high, γ) = (10, 1.4444444444444444)',\n",
       " '12': '(R_high, γ) = (10, 1.6666666666666667)',\n",
       " '20': '(R_high, γ) = (40, 1.3333333333333333)',\n",
       " '21': '(R_high, γ) = (40, 1.4444444444444444)',\n",
       " '22': '(R_high, γ) = (40, 1.6666666666666667)',\n",
       " '30': '(R_high, γ) = (160, 1.3333333333333333)',\n",
       " '31': '(R_high, γ) = (160, 1.4444444444444444)',\n",
       " '32': '(R_high, γ) = (160, 1.6666666666666667)'}"
      ]
     },
     "execution_count": 19,
     "metadata": {},
     "output_type": "execute_result"
    }
   ],
   "source": [
    "suffix = {}\n",
    "for i in range(len(R_high)):\n",
    "    for j in range(len(gammas)):\n",
    "        suffix[str(i)+str(j)] = '(R_high, γ) = (' + str(R_high[i]) + ', ' + str(gammas[j]) + ')'\n",
    "        \n",
    "suffix"
   ]
  },
  {
   "cell_type": "markdown",
   "id": "f23acc8a",
   "metadata": {},
   "source": [
    "Then dumps.values().cache['MI'] will be the data arrays"
   ]
  },
  {
   "cell_type": "code",
   "execution_count": null,
   "id": "4f5ef9b3",
   "metadata": {},
   "outputs": [],
   "source": []
  },
  {
   "cell_type": "markdown",
   "id": "4bc5f838",
   "metadata": {},
   "source": [
    "## Model (For 1000M)\n",
    "\n",
    "data size = 10 (# of folders) × 3 (# of γ) × 4 (# of Rh) × 10 (# of files/folder) = 1200"
   ]
  },
  {
   "cell_type": "code",
   "execution_count": null,
   "id": "fecf9540",
   "metadata": {},
   "outputs": [],
   "source": [
    "import tensorflow\n",
    "from tensorflow import keras\n",
    "from keras import layers"
   ]
  },
  {
   "cell_type": "code",
   "execution_count": null,
   "id": "93fe71cc",
   "metadata": {},
   "outputs": [],
   "source": []
  },
  {
   "cell_type": "markdown",
   "id": "51c397df",
   "metadata": {},
   "source": [
    "## Data (for 10M)"
   ]
  },
  {
   "cell_type": "code",
   "execution_count": null,
   "id": "5e4606bf",
   "metadata": {},
   "outputs": [],
   "source": []
  },
  {
   "cell_type": "markdown",
   "id": "f45858a8",
   "metadata": {},
   "source": [
    "## Model (For 10M)"
   ]
  },
  {
   "cell_type": "code",
   "execution_count": null,
   "id": "13a52762",
   "metadata": {},
   "outputs": [],
   "source": [
    "import tensorflow\n",
    "from tensorflow import keras\n",
    "from keras import layers"
   ]
  },
  {
   "cell_type": "code",
   "execution_count": null,
   "id": "6a09b87e",
   "metadata": {},
   "outputs": [],
   "source": []
  }
 ],
 "metadata": {
  "kernelspec": {
   "display_name": "Python 3",
   "language": "python",
   "name": "python3"
  },
  "language_info": {
   "codemirror_mode": {
    "name": "ipython",
    "version": 3
   },
   "file_extension": ".py",
   "mimetype": "text/x-python",
   "name": "python",
   "nbconvert_exporter": "python",
   "pygments_lexer": "ipython3",
   "version": "3.8.2"
  }
 },
 "nbformat": 4,
 "nbformat_minor": 5
}
