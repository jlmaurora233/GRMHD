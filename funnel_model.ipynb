{
 "cells": [
  {
   "cell_type": "markdown",
   "id": "eeb7e776",
   "metadata": {},
   "source": [
    "## Read in data\n",
    "\n",
    "path:\n",
    "\n",
    "/xdisk/chanc/share/\n",
    "\n",
    "there are two folders: GRMHD_dt1000M and GRMHD_dt10M\n",
    "\n",
    "under GRMHD_dt1000M: (5000-5900, step=100) <br>Ma+0.5_w5 <br>Ma+0.94_w5<br> Ma-0.5_w5<br> Ma-0.94_w5<br> Ma0_w5<br> Sa+0.5_w5<br> Sa+0.94_w5<br> Sa-0.5_w5<br> Sa-0.94_w5<br> Sa0_w5\n",
    "\n",
    "under GRMHD_dt10M: (5000 - 5999, step=1) <br>Ma+0.94_w5<br>Ma-0.94_w5 <br> Sa+0.94_w5\n",
    "\n",
    "USE GRMHD_dt1000M"
   ]
  },
  {
   "cell_type": "code",
   "execution_count": 1,
   "id": "3497307b",
   "metadata": {},
   "outputs": [],
   "source": [
    "from toolz import valmap\n",
    "\n",
    "import h5py\n",
    "import pyharm\n",
    "\n",
    "from matplotlib   import pyplot as plt\n",
    "import numpy as np\n",
    "from pyharm.plots import plot_dumps as pplt"
   ]
  },
  {
   "cell_type": "code",
   "execution_count": 2,
   "id": "d00b14a1",
   "metadata": {},
   "outputs": [],
   "source": [
    "i0 = 5000 # initial  frame\n",
    "i1 = 5900 # 1 + last frame\n",
    "\n",
    "fmt = 'torus.out0.{:05d}.h5'\n",
    "\n",
    "qualities = ['RHO', 'Pg', 'bsq', 'beta', 'Theta', 'Thetae']"
   ]
  },
  {
   "cell_type": "code",
   "execution_count": 3,
   "id": "8faa514e",
   "metadata": {},
   "outputs": [],
   "source": [
    "def fname(i, src): # closure on `src` and `fmt`\n",
    "    return (src+fmt).format(i)"
   ]
  },
  {
   "cell_type": "code",
   "execution_count": 4,
   "id": "4a27af3b",
   "metadata": {},
   "outputs": [],
   "source": [
    "path_1000M = '/xdisk/chanc/share/GRMHD_dt1000M/'\n",
    "src_ma = ['Ma+0.5_w5', 'Ma+0.94_w5', 'Ma-0.5_w5', 'Ma-0.94_w5', 'Ma0_w5']\n",
    "src_sa = ['Sa+0.5_w5', 'Sa+0.94_w5', 'Sa-0.5_w5', 'Sa-0.94_w5', 'Sa0_w5']\n",
    "src_ma_1000M = []\n",
    "src_sa_1000M = []\n",
    "for i in range(len(src_ma)):\n",
    "    src_ma_1000M.append(path_1000M+src_ma[i]+'/')\n",
    "    src_sa_1000M.append(path_1000M+src_sa[i]+'/')\n",
    "\n",
    "dump0 = pyharm.load_dump(fname(i0, src_ma_1000M[0]))\n",
    "R_low = 1.\n",
    "R_high = [1, 10, 40, 160]\n",
    "# first row of SANE model params"
   ]
  },
  {
   "cell_type": "code",
   "execution_count": 5,
   "id": "6dfb76d9",
   "metadata": {},
   "outputs": [],
   "source": [
    "def get_dumps(i0, i1, src, step=1):\n",
    "    dumps = {}\n",
    "    for i in range(i0, i1, step):\n",
    "        dumps[str(i)] = pyharm.load_dump(fname(i, src))\n",
    "    return dumps"
   ]
  },
  {
   "cell_type": "code",
   "execution_count": 6,
   "id": "0d38fd2c",
   "metadata": {},
   "outputs": [],
   "source": [
    "# some constants\n",
    "cl = 29979245800.0 # speed of light in cgs\n",
    "mp = 1.67262171e-24\n",
    "kb = 1.3806505e-16"
   ]
  },
  {
   "cell_type": "code",
   "execution_count": 7,
   "id": "cbf6ffef",
   "metadata": {},
   "outputs": [],
   "source": [
    "# R\n",
    "def R(dump, Rh, Rl):\n",
    "    beta = dump['beta']\n",
    "    return Rl/(1+beta**2)+Rh*beta**2/(1+beta**2)"
   ]
  },
  {
   "cell_type": "code",
   "execution_count": 8,
   "id": "9885e1e9",
   "metadata": {},
   "outputs": [],
   "source": [
    "# electron temperature\n",
    "def Te(dump, Rh, Rl, gamma):\n",
    "    if gamma == 4/3:\n",
    "        y = 1\n",
    "        z = 3\n",
    "        gamma_i = 4/3\n",
    "        gamma_e = 7/3\n",
    "    if gamma == 13/9:\n",
    "        y = 1\n",
    "        z = 2\n",
    "        gamma_i = 13/9\n",
    "        gamma_e = 133/36\n",
    "    if gamma == 5/3:\n",
    "        y = 1\n",
    "        z = 1\n",
    "        gamma_i = 5/3\n",
    "        gamma_e = 5/3\n",
    "    beta = dump['beta']\n",
    "    u = dump['Pg']/(gamma-1)\n",
    "    r = R(dump, Rh, Rl)\n",
    "    numerator = mp*cl**2*u*(gamma_e-1)*(gamma_i-1)\n",
    "    denom = kb*dump['RHO']*(y*(gamma_i-1)+r*z*(gamma_e-1))\n",
    "    Te = numerator/denom\n",
    "    dump.cache['Te'] = Te\n",
    "    return Te"
   ]
  },
  {
   "cell_type": "markdown",
   "id": "5f2d632c",
   "metadata": {},
   "source": [
    "Use dictionary\n",
    "\n",
    "look for γ: https://arxiv.org/pdf/2202.11721.pdf <br> Assume ideal gas -> $Γ = \\frac{5}{3} + \\frac{4}{3}(1 - x_{e})$ where $x_{e}$ is the electron fraction. <br> $\\gamma = \\frac{4}{3}$, $x_{e} = \\frac{1}{4}$, so ions:electrons = 3:1 (y=1, z=3; $\\gamma_{i}=\\gamma=\\frac{4}{3}, \\gamma_e = \\gamma + x_{e} / (1 - x_{e})(5/3 - \\gamma) = \\frac{7}{3}$) <br> $\\gamma = \\frac{13}{9}$, $x_{e} = \\frac{1}{3}$, so ions:electrons = 2:1 (y=1, z=2; $\\gamma_{i}=\\gamma=\\frac{13}{9}, \\gamma_e = \\gamma + x_{e} / (1 - x_{e})(5/3 - \\gamma) = \\frac{133}{36}$) <br> $\\gamma = \\gamma_{i}=\\frac{5}{3}$, so the gas is fully composed of ions (i.e. $\\gamma_{e} = 0$) (? y=z=1; $\\gamma_{i}=\\gamma_{e} = \\gamma = \\frac{5}{3}$) <br>"
   ]
  },
  {
   "cell_type": "code",
   "execution_count": 9,
   "id": "edb8ab7f",
   "metadata": {},
   "outputs": [],
   "source": [
    "gammas = [4/3, 13/9, 5/3]\n"
   ]
  },
  {
   "cell_type": "code",
   "execution_count": null,
   "id": "d265b4fa",
   "metadata": {},
   "outputs": [],
   "source": []
  },
  {
   "cell_type": "code",
   "execution_count": null,
   "id": "61827f9a",
   "metadata": {},
   "outputs": [],
   "source": []
  },
  {
   "cell_type": "markdown",
   "id": "4bc5f838",
   "metadata": {},
   "source": [
    "## Model"
   ]
  },
  {
   "cell_type": "code",
   "execution_count": null,
   "id": "fecf9540",
   "metadata": {},
   "outputs": [],
   "source": []
  }
 ],
 "metadata": {
  "kernelspec": {
   "display_name": "Python 3",
   "language": "python",
   "name": "python3"
  },
  "language_info": {
   "codemirror_mode": {
    "name": "ipython",
    "version": 3
   },
   "file_extension": ".py",
   "mimetype": "text/x-python",
   "name": "python",
   "nbconvert_exporter": "python",
   "pygments_lexer": "ipython3",
   "version": "3.8.2"
  }
 },
 "nbformat": 4,
 "nbformat_minor": 5
}
