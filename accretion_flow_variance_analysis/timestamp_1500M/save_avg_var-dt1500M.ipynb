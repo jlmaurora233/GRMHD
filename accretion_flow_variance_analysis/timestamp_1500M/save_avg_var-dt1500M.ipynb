{
 "cells": [
  {
   "cell_type": "markdown",
   "id": "580d47a2",
   "metadata": {},
   "source": [
    "Timestamp $\\Delta t = 1500M$ <br>\n",
    "If the tests pass, go ahead and save the average and variance & covariance terms (Completed) <br>then refer get_coeff.ipynb to re-calculate the coefficients (remember to change them to dimensionless form)."
   ]
  },
  {
   "cell_type": "code",
   "execution_count": 1,
   "id": "9119c4bd",
   "metadata": {},
   "outputs": [],
   "source": [
    "import warnings\n",
    "\n",
    "from toolz import valmap\n",
    "\n",
    "import h5py\n",
    "import pyharm\n",
    "\n",
    "import numpy as np\n",
    "from pyharm.plots import plot_dumps as pplt"
   ]
  },
  {
   "cell_type": "code",
   "execution_count": 2,
   "id": "6d6e3d11",
   "metadata": {},
   "outputs": [],
   "source": [
    "i0 = 5010 # initial  frame\n",
    "i1 = 5311 # 1 + last frame\n",
    "\n",
    "fmt = 'torus.out0.{:05d}.h5'"
   ]
  },
  {
   "cell_type": "code",
   "execution_count": 3,
   "id": "5356ec46",
   "metadata": {},
   "outputs": [],
   "source": [
    "src_ma_5M = '/xdisk/chanc/proj/eht/GRMHD_dt5M/Ma+0.94_w5/'\n",
    "src_sa_5M = '/xdisk/chanc/proj/eht/GRMHD_dt5M/Sa+0.94_w5/'\n",
    "\n",
    "src_ma_500M = '/xdisk/chanc/proj/eht/GRMHD_dt500M/Ma+0.94_w5/'\n",
    "src_sa_500M = '/xdisk/chanc/proj/eht/GRMHD_dt500M/Sa+0.94_w5/'"
   ]
  },
  {
   "cell_type": "code",
   "execution_count": 4,
   "id": "5cd0fdeb",
   "metadata": {},
   "outputs": [],
   "source": [
    "def fname(i, src): # closure on `src` and `fmt`\n",
    "    return (src+fmt).format(i)"
   ]
  },
  {
   "cell_type": "markdown",
   "id": "deb6dffd",
   "metadata": {},
   "source": [
    "for other quantities"
   ]
  },
  {
   "cell_type": "code",
   "execution_count": 5,
   "id": "12d17d32",
   "metadata": {},
   "outputs": [],
   "source": [
    "def calculate_average(i0, i1, src, quantity):\n",
    "    avg = 0.\n",
    "    for i in range(i0, i1):\n",
    "        dump = pyharm.load_dump(fname(i, src))\n",
    "        quant = dump[quantity]\n",
    "        avg += quant\n",
    "        del dump\n",
    "    avg /= i1-i0\n",
    "    return avg"
   ]
  },
  {
   "cell_type": "code",
   "execution_count": 6,
   "id": "791acd80",
   "metadata": {},
   "outputs": [],
   "source": [
    "def calculate_variance(i0, i1, src, quantity, avg):\n",
    "    var = 0.\n",
    "    for i in range(i0, i1):\n",
    "        dump = pyharm.load_dump(fname(i, src))\n",
    "        quant = dump[quantity]\n",
    "        var += (quant - avg)**2\n",
    "        del dump\n",
    "    var /= i1-i0\n",
    "    return var"
   ]
  },
  {
   "cell_type": "markdown",
   "id": "01e258c7",
   "metadata": {},
   "source": [
    "for Te\n",
    "\n",
    "eqn 27 of https://arxiv.org/pdf/2202.11721.pdf: $Te = \\frac{m_{p}u(\\gamma_{e}-1)(\\gamma_{i}-1)}{k \\rho (y(\\gamma_{i}-1)+Rz(\\gamma_{e}-1))}$ where: <br> y and z are the number of electrons and nucleons per unionized atom, respectively <br> eqn 22 $R = \\frac{R_{low}}{1+\\widetilde{\\beta}^{2}}+ \\frac{R_{high}\\widetilde{\\beta}^{2}}{1+\\widetilde{\\beta}^{2}}$ and $\\widetilde{\\beta} = \\frac{\\beta}{\\beta_{crit}}$, assume $\\beta_{crit}=1$."
   ]
  },
  {
   "cell_type": "code",
   "execution_count": 7,
   "id": "20d0fed7",
   "metadata": {},
   "outputs": [],
   "source": [
    "# some constants\n",
    "cl = 29979245800.0 # speed of light in cgs\n",
    "mp = 1.67262171e-24\n",
    "kb = 1.3806505e-16"
   ]
  },
  {
   "cell_type": "code",
   "execution_count": 8,
   "id": "addddb0a",
   "metadata": {},
   "outputs": [],
   "source": [
    "# R\n",
    "def R(dump, Rh, Rl):\n",
    "    beta = dump['beta']\n",
    "    return Rl/(1+beta**2)+Rh*beta**2/(1+beta**2)"
   ]
  },
  {
   "cell_type": "code",
   "execution_count": 9,
   "id": "0844bd12",
   "metadata": {},
   "outputs": [],
   "source": [
    "# electron temperature\n",
    "def Te(dump, Rh, Rl=1, gamma=4/3):\n",
    "    if gamma == 4/3:\n",
    "        y = 1\n",
    "        z = 3\n",
    "        gamma_i = 4/3\n",
    "        gamma_e = 7/3\n",
    "    if gamma == 13/9:\n",
    "        y = 1\n",
    "        z = 2\n",
    "        gamma_i = 13/9\n",
    "        gamma_e = 133/36\n",
    "    if gamma == 5/3:\n",
    "        y = 1\n",
    "        z = 1\n",
    "        gamma_i = 5/3\n",
    "        gamma_e = 5/3\n",
    "    beta = dump['beta']\n",
    "    u = dump['Pg']/(gamma-1)\n",
    "    r = R(dump, Rh, Rl)\n",
    "    numerator = mp*cl**2*u*(gamma_e-1)*(gamma_i-1)\n",
    "    denom = kb*dump['RHO']*(y*(gamma_i-1)+r*z*(gamma_e-1))\n",
    "\n",
    "    electron_T = numerator/ denom\n",
    "    dump.cache['Te'] = electron_T\n",
    "    return electron_T"
   ]
  },
  {
   "cell_type": "code",
   "execution_count": 10,
   "id": "3b39c06b",
   "metadata": {},
   "outputs": [],
   "source": [
    "def calculate_avgTe(i0, i1, src, Rh):\n",
    "    avg_Te = 0.\n",
    "    for i in range(i0, i1):\n",
    "        dump = pyharm.load_dump(fname(i, src))\n",
    "        avg_Te += Te(dump, Rh)\n",
    "        del dump\n",
    "    avg_Te /= i1-i0\n",
    "    return avg_Te"
   ]
  },
  {
   "cell_type": "code",
   "execution_count": 11,
   "id": "aef23517",
   "metadata": {},
   "outputs": [],
   "source": [
    "def calculate_varTe(i0, i1, src, Rh, avg):\n",
    "    var_Te = 0.\n",
    "    for i in range(i0, i1):\n",
    "        dump = pyharm.load_dump(fname(i, src))\n",
    "        var_Te += (Te(dump, Rh) - avg)**2\n",
    "        del dump\n",
    "    var_Te /= i1-i0\n",
    "    return var_Te"
   ]
  },
  {
   "cell_type": "code",
   "execution_count": null,
   "id": "8e6c0f1b",
   "metadata": {},
   "outputs": [],
   "source": []
  },
  {
   "cell_type": "markdown",
   "id": "4d9338e0",
   "metadata": {},
   "source": [
    "works well for 100 files ($\\Delta t$=500M) <br> works for 150 files ($\\Delta t$=750M) <br> works for 200 files ($\\Delta t$=1000M) <br> works for 300 files ($\\Delta t$=1500M)"
   ]
  },
  {
   "cell_type": "markdown",
   "id": "342f33d8",
   "metadata": {},
   "source": [
    "**Pg (MAD)**"
   ]
  },
  {
   "cell_type": "code",
   "execution_count": 14,
   "id": "d57a14c0",
   "metadata": {},
   "outputs": [],
   "source": [
    "avg_Pg = calculate_average(i0, i1, src_ma_5M, 'Pg')"
   ]
  },
  {
   "cell_type": "code",
   "execution_count": 15,
   "id": "378ad453",
   "metadata": {},
   "outputs": [],
   "source": [
    "np.save(\"ma_avgPg.npy\", avg_Pg)"
   ]
  },
  {
   "cell_type": "code",
   "execution_count": 16,
   "id": "bd5d27e3",
   "metadata": {},
   "outputs": [],
   "source": [
    "var_Pg = calculate_variance(i0, i1, src_ma_5M, 'Pg', avg_Pg)"
   ]
  },
  {
   "cell_type": "code",
   "execution_count": 17,
   "id": "0496f7dc",
   "metadata": {},
   "outputs": [],
   "source": [
    "np.save(\"ma_varPg.npy\", var_Pg)"
   ]
  },
  {
   "cell_type": "markdown",
   "id": "6501402d",
   "metadata": {},
   "source": [
    "**RHO (MAD)**"
   ]
  },
  {
   "cell_type": "code",
   "execution_count": 18,
   "id": "50175c48",
   "metadata": {},
   "outputs": [],
   "source": [
    "avg_RHO = calculate_average(i0, i1, src_ma_5M, 'RHO')"
   ]
  },
  {
   "cell_type": "code",
   "execution_count": 19,
   "id": "6c9517ec",
   "metadata": {},
   "outputs": [],
   "source": [
    "np.save(\"ma_avgRHO.npy\", avg_RHO)"
   ]
  },
  {
   "cell_type": "code",
   "execution_count": 20,
   "id": "e1a530b7",
   "metadata": {},
   "outputs": [],
   "source": [
    "var_RHO = calculate_variance(i0, i1, src_ma_5M, 'RHO', avg_RHO)"
   ]
  },
  {
   "cell_type": "code",
   "execution_count": 21,
   "id": "36606183",
   "metadata": {},
   "outputs": [],
   "source": [
    "np.save(\"ma_varRHO.npy\", var_RHO)"
   ]
  },
  {
   "cell_type": "markdown",
   "id": "f3419413",
   "metadata": {},
   "source": [
    "**bsq (MAD)**"
   ]
  },
  {
   "cell_type": "code",
   "execution_count": 22,
   "id": "e70f16aa",
   "metadata": {},
   "outputs": [],
   "source": [
    "avg_bsq = calculate_average(i0, i1, src_ma_5M, 'bsq')"
   ]
  },
  {
   "cell_type": "code",
   "execution_count": 23,
   "id": "f81d2e1a",
   "metadata": {},
   "outputs": [],
   "source": [
    "np.save(\"ma_avgbsq.npy\", avg_bsq)"
   ]
  },
  {
   "cell_type": "code",
   "execution_count": 24,
   "id": "2c32a24d",
   "metadata": {},
   "outputs": [],
   "source": [
    "var_bsq = calculate_variance(i0, i1, src_ma_5M, 'bsq', avg_bsq)"
   ]
  },
  {
   "cell_type": "code",
   "execution_count": 25,
   "id": "009f6db3",
   "metadata": {},
   "outputs": [],
   "source": [
    "np.save(\"ma_varbsq.npy\", var_bsq)"
   ]
  },
  {
   "cell_type": "markdown",
   "id": "a9837387",
   "metadata": {},
   "source": [
    "**Cross Terms (MAD)**"
   ]
  },
  {
   "cell_type": "code",
   "execution_count": 12,
   "id": "6ff1250d",
   "metadata": {},
   "outputs": [],
   "source": [
    "# <RHO*Pg>\n",
    "rhoPg_Ma_avg = 0.\n",
    "for i in range(i0, i1):\n",
    "    dump = pyharm.load_dump(fname(i, src_ma_5M))\n",
    "    quant = dump['RHO'] * dump['Pg']\n",
    "    rhoPg_Ma_avg += quant\n",
    "    del dump\n",
    "rhoPg_Ma_avg /= i1-i0"
   ]
  },
  {
   "cell_type": "code",
   "execution_count": 13,
   "id": "6c285b28",
   "metadata": {},
   "outputs": [
    {
     "data": {
      "text/plain": [
       "(288, 128, 128)"
      ]
     },
     "execution_count": 13,
     "metadata": {},
     "output_type": "execute_result"
    }
   ],
   "source": [
    "rhoPg_Ma_avg.shape"
   ]
  },
  {
   "cell_type": "code",
   "execution_count": 14,
   "id": "c3d4d61b",
   "metadata": {},
   "outputs": [],
   "source": [
    "np.save(\"ma_avgRHOPg.npy\", rhoPg_Ma_avg)"
   ]
  },
  {
   "cell_type": "code",
   "execution_count": 15,
   "id": "74f3c05a",
   "metadata": {},
   "outputs": [],
   "source": [
    "# <bsq*Pg>\n",
    "bsqPg_Ma_avg = 0.\n",
    "for i in range(i0, i1):\n",
    "    dump = pyharm.load_dump(fname(i, src_ma_5M))\n",
    "    quant = dump['bsq'] * dump['Pg']\n",
    "    bsqPg_Ma_avg += quant\n",
    "    del dump\n",
    "bsqPg_Ma_avg /= i1-i0\n",
    "np.save(\"ma_avgBsqPg.npy\", bsqPg_Ma_avg)"
   ]
  },
  {
   "cell_type": "code",
   "execution_count": 16,
   "id": "49f2b396",
   "metadata": {},
   "outputs": [],
   "source": [
    "# <bsq*RHO>\n",
    "bsqRHO_Ma_avg = 0.\n",
    "for i in range(i0, i1):\n",
    "    dump = pyharm.load_dump(fname(i, src_ma_5M))\n",
    "    quant = dump['bsq'] * dump['RHO']\n",
    "    bsqRHO_Ma_avg += quant\n",
    "    del dump\n",
    "bsqRHO_Ma_avg /= i1-i0\n",
    "np.save(\"ma_avgBsqRHO.npy\", bsqRHO_Ma_avg)"
   ]
  },
  {
   "cell_type": "markdown",
   "id": "b82aebc5",
   "metadata": {},
   "source": [
    "**Te (MAD, Rh=1)**"
   ]
  },
  {
   "cell_type": "code",
   "execution_count": 17,
   "id": "f1c1fcf7",
   "metadata": {},
   "outputs": [
    {
     "name": "stderr",
     "output_type": "stream",
     "text": [
      "/home/u12/limengjiang/.local/lib/python3.8/site-packages/pyharm/variables.py:84: RuntimeWarning: divide by zero encountered in true_divide\n",
      "  'beta': lambda dump: dump['Pg'] / dump['Pb'],\n",
      "/home/u12/limengjiang/.local/lib/python3.8/site-packages/pyharm/variables.py:84: RuntimeWarning: invalid value encountered in true_divide\n",
      "  'beta': lambda dump: dump['Pg'] / dump['Pb'],\n",
      "/tmp/ipykernel_49628/216038254.py:4: RuntimeWarning: invalid value encountered in true_divide\n",
      "  return Rl/(1+beta**2)+Rh*beta**2/(1+beta**2)\n",
      "/tmp/ipykernel_49628/1916344453.py:24: RuntimeWarning: invalid value encountered in true_divide\n",
      "  electron_T = numerator/ denom\n"
     ]
    }
   ],
   "source": [
    "avg_Te = calculate_avgTe(i0, i1, src_ma_5M, 1.)"
   ]
  },
  {
   "cell_type": "code",
   "execution_count": 18,
   "id": "26b06d49",
   "metadata": {},
   "outputs": [],
   "source": [
    "np.save(\"ma_rh1_avgTe.npy\", avg_Te)"
   ]
  },
  {
   "cell_type": "code",
   "execution_count": 19,
   "id": "37319d9b",
   "metadata": {},
   "outputs": [
    {
     "name": "stderr",
     "output_type": "stream",
     "text": [
      "/tmp/ipykernel_49628/216038254.py:4: RuntimeWarning: invalid value encountered in true_divide\n",
      "  return Rl/(1+beta**2)+Rh*beta**2/(1+beta**2)\n",
      "/tmp/ipykernel_49628/1916344453.py:24: RuntimeWarning: invalid value encountered in true_divide\n",
      "  electron_T = numerator/ denom\n"
     ]
    }
   ],
   "source": [
    "var_Te = calculate_varTe(i0, i1, src_ma_5M, 1., avg_Te)"
   ]
  },
  {
   "cell_type": "code",
   "execution_count": 20,
   "id": "6d71c158",
   "metadata": {},
   "outputs": [],
   "source": [
    "np.save(\"ma_rh1_varTe.npy\", var_Te)"
   ]
  },
  {
   "cell_type": "markdown",
   "id": "021291ba",
   "metadata": {},
   "source": [
    "**Te (MAD, Rh=160)**"
   ]
  },
  {
   "cell_type": "code",
   "execution_count": 21,
   "id": "19aac2d8",
   "metadata": {},
   "outputs": [
    {
     "name": "stderr",
     "output_type": "stream",
     "text": [
      "/tmp/ipykernel_49628/216038254.py:4: RuntimeWarning: invalid value encountered in true_divide\n",
      "  return Rl/(1+beta**2)+Rh*beta**2/(1+beta**2)\n",
      "/tmp/ipykernel_49628/1916344453.py:24: RuntimeWarning: invalid value encountered in true_divide\n",
      "  electron_T = numerator/ denom\n"
     ]
    }
   ],
   "source": [
    "avg_Te_rh160 = calculate_avgTe(i0, i1, src_ma_5M, 160.)"
   ]
  },
  {
   "cell_type": "code",
   "execution_count": 22,
   "id": "7b76095b",
   "metadata": {},
   "outputs": [],
   "source": [
    "np.save(\"ma_rh160_avgTe.npy\", avg_Te_rh160)"
   ]
  },
  {
   "cell_type": "code",
   "execution_count": 23,
   "id": "aced8d01",
   "metadata": {},
   "outputs": [
    {
     "name": "stderr",
     "output_type": "stream",
     "text": [
      "/tmp/ipykernel_49628/216038254.py:4: RuntimeWarning: invalid value encountered in true_divide\n",
      "  return Rl/(1+beta**2)+Rh*beta**2/(1+beta**2)\n",
      "/tmp/ipykernel_49628/1916344453.py:24: RuntimeWarning: invalid value encountered in true_divide\n",
      "  electron_T = numerator/ denom\n"
     ]
    }
   ],
   "source": [
    "var_Te_rh160 = calculate_varTe(i0, i1, src_ma_5M, 160., avg_Te_rh160)"
   ]
  },
  {
   "cell_type": "code",
   "execution_count": 24,
   "id": "a0c692ce",
   "metadata": {},
   "outputs": [],
   "source": [
    "np.save(\"ma_rh160_varTe.npy\", var_Te_rh160)"
   ]
  },
  {
   "cell_type": "markdown",
   "id": "46eb1239",
   "metadata": {},
   "source": [
    "**R (MAD, Rh=1)**"
   ]
  },
  {
   "cell_type": "code",
   "execution_count": 25,
   "id": "04c95135",
   "metadata": {},
   "outputs": [
    {
     "name": "stderr",
     "output_type": "stream",
     "text": [
      "/tmp/ipykernel_49628/216038254.py:4: RuntimeWarning: invalid value encountered in true_divide\n",
      "  return Rl/(1+beta**2)+Rh*beta**2/(1+beta**2)\n"
     ]
    }
   ],
   "source": [
    "avg_R = 0.\n",
    "for i in range(i0, i1):\n",
    "    dump = pyharm.load_dump(fname(i, src_ma_5M))\n",
    "    avg_R += R(dump, 1., 1.)\n",
    "    del dump\n",
    "avg_R /= i1-i0"
   ]
  },
  {
   "cell_type": "code",
   "execution_count": 26,
   "id": "a20ff58d",
   "metadata": {},
   "outputs": [],
   "source": [
    "np.save('ma_avgR1.npy', avg_R)"
   ]
  },
  {
   "cell_type": "markdown",
   "id": "2dd99934",
   "metadata": {},
   "source": [
    "**R (MAD, Rh=160)**"
   ]
  },
  {
   "cell_type": "code",
   "execution_count": 12,
   "id": "1caa8eae",
   "metadata": {},
   "outputs": [
    {
     "name": "stderr",
     "output_type": "stream",
     "text": [
      "/home/u12/limengjiang/.local/lib/python3.8/site-packages/pyharm/variables.py:84: RuntimeWarning: divide by zero encountered in true_divide\n",
      "  'beta': lambda dump: dump['Pg'] / dump['Pb'],\n",
      "/home/u12/limengjiang/.local/lib/python3.8/site-packages/pyharm/variables.py:84: RuntimeWarning: invalid value encountered in true_divide\n",
      "  'beta': lambda dump: dump['Pg'] / dump['Pb'],\n",
      "/tmp/ipykernel_33985/216038254.py:4: RuntimeWarning: invalid value encountered in true_divide\n",
      "  return Rl/(1+beta**2)+Rh*beta**2/(1+beta**2)\n"
     ]
    }
   ],
   "source": [
    "avg_R_rh160 = 0.\n",
    "for i in range(i0, i1):\n",
    "    dump = pyharm.load_dump(fname(i, src_ma_5M))\n",
    "    avg_R_rh160 += R(dump, 160., 1.)\n",
    "    del dump\n",
    "avg_R_rh160 /= i1-i0"
   ]
  },
  {
   "cell_type": "code",
   "execution_count": 13,
   "id": "cb247be2",
   "metadata": {},
   "outputs": [],
   "source": [
    "np.save('ma_avgR160.npy', avg_R_rh160)"
   ]
  },
  {
   "cell_type": "code",
   "execution_count": null,
   "id": "bbb6511f",
   "metadata": {},
   "outputs": [],
   "source": []
  },
  {
   "cell_type": "markdown",
   "id": "eb2bb1c0",
   "metadata": {},
   "source": [
    "**Pg (SANE)**"
   ]
  },
  {
   "cell_type": "code",
   "execution_count": 14,
   "id": "9c7ce574",
   "metadata": {},
   "outputs": [],
   "source": [
    "avg_Pg = calculate_average(i0, i1, src_sa_5M, 'Pg')"
   ]
  },
  {
   "cell_type": "code",
   "execution_count": 15,
   "id": "e8cca206",
   "metadata": {},
   "outputs": [],
   "source": [
    "np.save(\"sa_avgPg.npy\", avg_Pg)"
   ]
  },
  {
   "cell_type": "code",
   "execution_count": 16,
   "id": "05f3fc7b",
   "metadata": {},
   "outputs": [],
   "source": [
    "var_Pg = calculate_variance(i0, i1, src_sa_5M, 'Pg', avg_Pg)"
   ]
  },
  {
   "cell_type": "code",
   "execution_count": 17,
   "id": "e30c52fe",
   "metadata": {},
   "outputs": [],
   "source": [
    "np.save(\"sa_varPg.npy\", var_Pg)"
   ]
  },
  {
   "cell_type": "markdown",
   "id": "3e269ad2",
   "metadata": {},
   "source": [
    "**RHO (SANE)**"
   ]
  },
  {
   "cell_type": "code",
   "execution_count": 18,
   "id": "9a97a3dc",
   "metadata": {},
   "outputs": [],
   "source": [
    "avg_RHO = calculate_average(i0, i1, src_sa_5M, 'RHO')"
   ]
  },
  {
   "cell_type": "code",
   "execution_count": 19,
   "id": "4ac4567d",
   "metadata": {},
   "outputs": [],
   "source": [
    "np.save(\"sa_avgRHO.npy\", avg_RHO)"
   ]
  },
  {
   "cell_type": "code",
   "execution_count": 20,
   "id": "dee46892",
   "metadata": {},
   "outputs": [],
   "source": [
    "var_RHO = calculate_variance(i0, i1, src_sa_5M, 'RHO', avg_RHO)"
   ]
  },
  {
   "cell_type": "code",
   "execution_count": 21,
   "id": "7477384b",
   "metadata": {},
   "outputs": [],
   "source": [
    "np.save(\"sa_varRHO.npy\", var_RHO)"
   ]
  },
  {
   "cell_type": "markdown",
   "id": "430301ff",
   "metadata": {},
   "source": [
    "**bsq (SANE)**"
   ]
  },
  {
   "cell_type": "code",
   "execution_count": 22,
   "id": "1b2a1619",
   "metadata": {},
   "outputs": [],
   "source": [
    "avg_bsq = calculate_average(i0, i1, src_sa_5M, 'bsq')"
   ]
  },
  {
   "cell_type": "code",
   "execution_count": 23,
   "id": "2245a90d",
   "metadata": {},
   "outputs": [],
   "source": [
    "np.save(\"sa_avgbsq.npy\", avg_bsq)"
   ]
  },
  {
   "cell_type": "code",
   "execution_count": 24,
   "id": "80d71089",
   "metadata": {},
   "outputs": [],
   "source": [
    "var_bsq = calculate_variance(i0, i1, src_sa_5M, 'bsq', avg_bsq)"
   ]
  },
  {
   "cell_type": "code",
   "execution_count": 25,
   "id": "a0f75216",
   "metadata": {},
   "outputs": [],
   "source": [
    "np.save(\"sa_varbsq.npy\", var_bsq)"
   ]
  },
  {
   "cell_type": "markdown",
   "id": "0172b452",
   "metadata": {},
   "source": [
    "**Cross Terms (SANE)**"
   ]
  },
  {
   "cell_type": "code",
   "execution_count": 26,
   "id": "66d6a7e5",
   "metadata": {},
   "outputs": [],
   "source": [
    "# <RHO*Pg>\n",
    "rhoPg_sa_avg = 0.\n",
    "for i in range(i0, i1):\n",
    "    dump = pyharm.load_dump(fname(i, src_sa_5M))\n",
    "    quant = dump['RHO'] * dump['Pg']\n",
    "    rhoPg_sa_avg += quant\n",
    "    del dump\n",
    "rhoPg_sa_avg /= i1-i0"
   ]
  },
  {
   "cell_type": "code",
   "execution_count": 27,
   "id": "2646bc53",
   "metadata": {},
   "outputs": [
    {
     "data": {
      "text/plain": [
       "(288, 128, 128)"
      ]
     },
     "execution_count": 27,
     "metadata": {},
     "output_type": "execute_result"
    }
   ],
   "source": [
    "rhoPg_sa_avg.shape"
   ]
  },
  {
   "cell_type": "code",
   "execution_count": 28,
   "id": "da302fc7",
   "metadata": {},
   "outputs": [],
   "source": [
    "np.save(\"sa_avgRHOPg.npy\", rhoPg_sa_avg)"
   ]
  },
  {
   "cell_type": "code",
   "execution_count": 29,
   "id": "54309148",
   "metadata": {},
   "outputs": [],
   "source": [
    "# <bsq*Pg>\n",
    "bsqPg_sa_avg = 0.\n",
    "for i in range(i0, i1):\n",
    "    dump = pyharm.load_dump(fname(i, src_sa_5M))\n",
    "    quant = dump['bsq'] * dump['Pg']\n",
    "    bsqPg_sa_avg += quant\n",
    "    del dump\n",
    "bsqPg_sa_avg /= i1-i0"
   ]
  },
  {
   "cell_type": "code",
   "execution_count": 30,
   "id": "3e5648df",
   "metadata": {},
   "outputs": [],
   "source": [
    "np.save(\"sa_avgBsqPg.npy\", bsqPg_sa_avg)"
   ]
  },
  {
   "cell_type": "code",
   "execution_count": 31,
   "id": "2941356e",
   "metadata": {},
   "outputs": [],
   "source": [
    "# <bsq*RHO>\n",
    "bsqRHO_sa_avg = 0.\n",
    "for i in range(i0, i1):\n",
    "    dump = pyharm.load_dump(fname(i, src_sa_5M))\n",
    "    quant = dump['bsq'] * dump['RHO']\n",
    "    bsqRHO_sa_avg += quant\n",
    "    del dump\n",
    "bsqRHO_sa_avg /= i1-i0"
   ]
  },
  {
   "cell_type": "code",
   "execution_count": 32,
   "id": "63af0da7",
   "metadata": {},
   "outputs": [],
   "source": [
    "np.save(\"sa_avgBsqRHO.npy\", bsqRHO_sa_avg)"
   ]
  },
  {
   "cell_type": "markdown",
   "id": "d6fd800e",
   "metadata": {},
   "source": [
    "**Te (SANE, Rh=1)**"
   ]
  },
  {
   "cell_type": "code",
   "execution_count": 33,
   "id": "d2f3a8ca",
   "metadata": {},
   "outputs": [],
   "source": [
    "avg_Te = calculate_avgTe(i0, i1, src_sa_5M, 1.)"
   ]
  },
  {
   "cell_type": "code",
   "execution_count": 34,
   "id": "baf859c8",
   "metadata": {},
   "outputs": [],
   "source": [
    "np.save(\"sa_rh1_avgTe.npy\", avg_Te)"
   ]
  },
  {
   "cell_type": "code",
   "execution_count": 35,
   "id": "9589747d",
   "metadata": {},
   "outputs": [],
   "source": [
    "var_Te = calculate_varTe(i0, i1, src_sa_5M, 1., avg_Te)"
   ]
  },
  {
   "cell_type": "code",
   "execution_count": 36,
   "id": "5317faaa",
   "metadata": {},
   "outputs": [],
   "source": [
    "np.save(\"sa_rh1_varTe.npy\", var_Te)"
   ]
  },
  {
   "cell_type": "markdown",
   "id": "c1d14459",
   "metadata": {},
   "source": [
    "**Te (SANE, Rh=160)**"
   ]
  },
  {
   "cell_type": "code",
   "execution_count": 37,
   "id": "4db86310",
   "metadata": {},
   "outputs": [],
   "source": [
    "avg_Te_rh160 = calculate_avgTe(i0, i1, src_sa_5M, 160.)"
   ]
  },
  {
   "cell_type": "code",
   "execution_count": 38,
   "id": "5fcd0945",
   "metadata": {},
   "outputs": [],
   "source": [
    "np.save(\"sa_rh160_avgTe.npy\", avg_Te_rh160)"
   ]
  },
  {
   "cell_type": "code",
   "execution_count": 39,
   "id": "654ac1fc",
   "metadata": {},
   "outputs": [],
   "source": [
    "var_Te_rh160 = calculate_varTe(i0, i1, src_sa_5M, 160., avg_Te_rh160)"
   ]
  },
  {
   "cell_type": "code",
   "execution_count": 40,
   "id": "b3d37f02",
   "metadata": {},
   "outputs": [],
   "source": [
    "np.save(\"sa_rh160_varTe.npy\", var_Te_rh160)"
   ]
  },
  {
   "cell_type": "markdown",
   "id": "2f752c74",
   "metadata": {},
   "source": [
    "**R (SANE, Rh=1)**"
   ]
  },
  {
   "cell_type": "code",
   "execution_count": 12,
   "id": "ec0253d3",
   "metadata": {},
   "outputs": [],
   "source": [
    "avg_R = 0.\n",
    "for i in range(i0, i1):\n",
    "    dump = pyharm.load_dump(fname(i, src_sa_5M))\n",
    "    avg_R += R(dump, 1., 1.)\n",
    "    del dump\n",
    "avg_R /= i1-i0"
   ]
  },
  {
   "cell_type": "code",
   "execution_count": 13,
   "id": "c88d830f",
   "metadata": {},
   "outputs": [],
   "source": [
    "np.save('sa_avgR1.npy', avg_R)"
   ]
  },
  {
   "cell_type": "markdown",
   "id": "71677fc6",
   "metadata": {},
   "source": [
    "**R (SANE, Rh=160)**"
   ]
  },
  {
   "cell_type": "code",
   "execution_count": 14,
   "id": "bf949131",
   "metadata": {},
   "outputs": [],
   "source": [
    "avg_R_rh160 = 0.\n",
    "for i in range(i0, i1):\n",
    "    dump = pyharm.load_dump(fname(i, src_sa_5M))\n",
    "    avg_R_rh160 += R(dump, 160., 1.)\n",
    "    del dump\n",
    "avg_R_rh160 /= i1-i0"
   ]
  },
  {
   "cell_type": "code",
   "execution_count": 15,
   "id": "9f5ee126",
   "metadata": {},
   "outputs": [],
   "source": [
    "np.save('sa_avgR160.npy', avg_R_rh160)"
   ]
  },
  {
   "cell_type": "code",
   "execution_count": null,
   "id": "6afac86a",
   "metadata": {},
   "outputs": [],
   "source": []
  }
 ],
 "metadata": {
  "kernelspec": {
   "display_name": "Python 3 (ipykernel)",
   "language": "python",
   "name": "python3"
  },
  "language_info": {
   "codemirror_mode": {
    "name": "ipython",
    "version": 3
   },
   "file_extension": ".py",
   "mimetype": "text/x-python",
   "name": "python",
   "nbconvert_exporter": "python",
   "pygments_lexer": "ipython3",
   "version": "3.8.12"
  }
 },
 "nbformat": 4,
 "nbformat_minor": 5
}
