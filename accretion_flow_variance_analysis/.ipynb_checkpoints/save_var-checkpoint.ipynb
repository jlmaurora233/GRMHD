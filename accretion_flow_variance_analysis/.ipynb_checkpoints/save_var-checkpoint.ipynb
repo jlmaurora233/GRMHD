{
 "cells": [
  {
   "cell_type": "code",
   "execution_count": 1,
   "id": "93baf75a",
   "metadata": {},
   "outputs": [],
   "source": [
    "import h5py\n",
    "# import pyharm\n",
    "\n",
    "from matplotlib import pyplot as plt\n",
    "import numpy as np\n",
    "import pandas as pd\n",
    "# from pyharm.plots import plot_dumps as pplt"
   ]
  },
  {
   "cell_type": "code",
   "execution_count": 2,
   "id": "344df35f",
   "metadata": {},
   "outputs": [],
   "source": [
    "i0 = 5010 \n",
    "\n",
    "fmt = 'torus.out0.{:05d}.h5'\n",
    "\n",
    "# src_save_ma = '/home/u12/limengjiang/GRMHD/variances/MAD'\n",
    "# src_save_sa = '/home/u12/limengjiang/GRMHD/variances/SANE'\n",
    "\n",
    "# dump0 = pyharm.load_dump(fname(i0, src_ma_10M))\n",
    "R_low = 1."
   ]
  },
  {
   "cell_type": "code",
   "execution_count": 3,
   "id": "d15705a7",
   "metadata": {},
   "outputs": [],
   "source": [
    "def fname(i, src): # closure on `src` and `fmt`\n",
    "    return (src+fmt).format(i)"
   ]
  },
  {
   "cell_type": "code",
   "execution_count": null,
   "id": "95887929",
   "metadata": {},
   "outputs": [],
   "source": [
    "filename_ma_1 = fname(i0, src_save_ma+'/Rh1')\n",
    "with h5py.File(filename_ma_1, 'r') as file:\n",
    "    varTe = file['varTe']\n",
    "    cvarTe = file['calc(varTe)']"
   ]
  },
  {
   "cell_type": "code",
   "execution_count": 6,
   "id": "c0a09989",
   "metadata": {},
   "outputs": [
    {
     "name": "stdout",
     "output_type": "stream",
     "text": [
      "Keys: <KeysViewHDF5 ['avgcoeff1', 'avgcoeff2', 'calc(varTe)', 'dt', 'dump_cadence', 'extras', 'full_dump_cadence', 'header', 'is_full_dump', 'n_dump', 'n_step', 'prims', 't', 'varPg', 'varRHO', 'varTe', 'varbsq']>\n"
     ]
    }
   ],
   "source": [
    "filename_ma_1 = fname(i0, \"E:/research/BH PIRE/files/\")\n",
    "with h5py.File(filename_ma_1, 'r') as file:\n",
    "    print(\"Keys: %s\" % file.keys())\n",
    "    varTe1 = np.array(file['varTe'])\n",
    "    varRHO1 = np.array(file['varRHO'])\n",
    "    varPg1 = np.array(file['varPg'])\n",
    "    varbsq1 = np.array(file['varbsq'])"
   ]
  },
  {
   "cell_type": "code",
   "execution_count": 7,
   "id": "742e6206",
   "metadata": {
    "scrolled": true
   },
   "outputs": [
    {
     "name": "stdout",
     "output_type": "stream",
     "text": [
      "[[[1.03307531e+22 9.59489767e+21 8.97971798e+21 ... 9.69158436e+21\n",
      "   9.53630782e+21 1.10374333e+22]\n",
      "  [6.99398270e+21 5.67227738e+21 4.16023777e+21 ... 5.53396092e+21\n",
      "   6.26557493e+21 7.32337271e+21]\n",
      "  [1.96069033e+22 1.80792574e+22 1.54185368e+22 ... 1.79353980e+22\n",
      "   2.06240251e+22 2.05680149e+22]\n",
      "  ...\n",
      "  [2.20593512e+22 2.67640441e+22 2.29057119e+22 ... 1.86381657e+22\n",
      "   1.94861690e+22 1.94252536e+22]\n",
      "  [4.34826833e+21 4.12514671e+21 4.41137439e+21 ... 7.82474332e+21\n",
      "   6.32459538e+21 4.96361407e+21]\n",
      "  [1.50357963e+22 1.23297971e+22 1.07640540e+22 ... 1.94333217e+22\n",
      "   1.74873299e+22 1.68800646e+22]]\n",
      "\n",
      " [[1.45542214e+22 1.43568525e+22 1.26462276e+22 ... 1.38153930e+22\n",
      "   1.32666021e+22 1.45182950e+22]\n",
      "  [1.29279520e+22 8.80130456e+21 6.15378048e+21 ... 9.92610407e+21\n",
      "   9.54682388e+21 1.24620401e+22]\n",
      "  [1.90848397e+22 2.12432387e+22 1.72363187e+22 ... 1.72751140e+22\n",
      "   1.87813193e+22 1.66562119e+22]\n",
      "  ...\n",
      "  [1.73670700e+22 1.67649328e+22 1.63937034e+22 ... 1.68097744e+22\n",
      "   1.76628444e+22 1.64029531e+22]\n",
      "  [6.78347373e+21 7.19017434e+21 6.21757447e+21 ... 1.06128454e+22\n",
      "   1.09282956e+22 7.40653758e+21]\n",
      "  [1.69165617e+22 1.37763063e+22 1.24927507e+22 ... 2.27165961e+22\n",
      "   2.11065735e+22 2.00629107e+22]]\n",
      "\n",
      " [[1.29787714e+22 1.14322352e+22 1.14853391e+22 ... 9.52794898e+21\n",
      "   9.30536139e+21 1.14124157e+22]\n",
      "  [8.45812072e+21 7.26195087e+21 5.66201001e+21 ... 7.72858777e+21\n",
      "   7.24465702e+21 9.27949454e+21]\n",
      "  [1.85813436e+22 2.22083052e+22 2.23908911e+22 ... 2.24891260e+22\n",
      "   2.06591078e+22 1.83886516e+22]\n",
      "  ...\n",
      "  [2.18833880e+22 2.45318051e+22 1.92865871e+22 ... 1.79770589e+22\n",
      "   1.82723215e+22 2.23452997e+22]\n",
      "  [7.04341068e+21 7.27152571e+21 7.68122848e+21 ... 9.80421296e+21\n",
      "   8.48348080e+21 8.84920397e+21]\n",
      "  [2.20743934e+22 1.65834340e+22 1.15616563e+22 ... 1.99579276e+22\n",
      "   1.90816138e+22 1.99802209e+22]]\n",
      "\n",
      " ...\n",
      "\n",
      " [[1.23397810e+21 1.57802444e+21 1.91986522e+21 ... 2.24194833e+20\n",
      "   3.38796160e+20 8.37166515e+20]\n",
      "  [9.60479309e+20 5.12082711e+20 6.22411162e+20 ... 2.41129462e+21\n",
      "   2.03881593e+21 1.71185287e+21]\n",
      "  [2.50669453e+19 3.13866731e+19 4.34257677e+19 ... 6.44270915e+20\n",
      "   6.24998146e+20 5.82649591e+19]\n",
      "  ...\n",
      "  [3.40458265e+20 4.32665624e+20 6.83026288e+20 ... 6.40018165e+20\n",
      "   4.07307824e+20 2.78471477e+20]\n",
      "  [3.13390608e+21 3.36431764e+21 2.59291662e+21 ... 1.75577341e+21\n",
      "   2.81492002e+21 3.30467047e+21]\n",
      "  [3.48404849e+20 9.87456500e+20 2.10972101e+21 ... 5.15193970e+20\n",
      "   9.26333045e+19 2.58357083e+20]]\n",
      "\n",
      " [[9.29171082e+20 3.49121921e+20 6.81515256e+20 ... 1.11184856e+21\n",
      "   1.03306533e+21 1.41284892e+21]\n",
      "  [8.41189012e+19 1.01342729e+20 3.90705992e+20 ... 2.26930460e+21\n",
      "   1.61383242e+21 4.12231350e+20]\n",
      "  [2.15853029e+19 2.61426223e+19 2.88532393e+19 ... 5.04565722e+20\n",
      "   3.20236374e+20 1.54591920e+19]\n",
      "  ...\n",
      "  [5.69132144e+20 5.64993535e+20 6.66511176e+20 ... 2.20710991e+21\n",
      "   1.10851030e+21 7.66864959e+20]\n",
      "  [3.42297893e+21 2.96900535e+21 2.40577459e+21 ... 1.69908507e+21\n",
      "   2.85838914e+21 3.18632816e+21]\n",
      "  [1.47846837e+20 6.62013861e+19 8.91816822e+19 ... 7.08740684e+19\n",
      "   1.44051995e+20 1.55001929e+20]]\n",
      "\n",
      " [[8.20109358e+20 1.36438135e+20 1.45309911e+20 ... 1.96919507e+20\n",
      "   6.19311317e+20 1.08568837e+21]\n",
      "  [1.58075858e+21 9.20150488e+20 4.84272137e+20 ... 2.52249801e+21\n",
      "   2.34731113e+21 2.16171533e+21]\n",
      "  [1.25756265e+19 2.16431507e+19 1.74485912e+19 ... 5.08582734e+20\n",
      "   1.77678427e+20 6.13400087e+18]\n",
      "  ...\n",
      "  [1.08003937e+20 1.46394588e+20 2.51941923e+20 ... 5.37150193e+20\n",
      "   1.17707084e+20 9.62689520e+19]\n",
      "  [3.04826284e+21 2.85861507e+21 2.34138700e+21 ... 2.09447967e+21\n",
      "   2.74769007e+21 3.10005568e+21]\n",
      "  [1.14176892e+20 9.40930105e+19 7.57246172e+19 ... 9.30568397e+19\n",
      "   9.08908205e+19 7.35941172e+19]]]\n"
     ]
    }
   ],
   "source": [
    "print(varTe1)"
   ]
  },
  {
   "cell_type": "code",
   "execution_count": 8,
   "id": "81b1e8f6",
   "metadata": {},
   "outputs": [],
   "source": [
    "np.save(\"ma_rh1_varTe.npy\", varTe1)"
   ]
  },
  {
   "cell_type": "code",
   "execution_count": 9,
   "id": "78fb85c2",
   "metadata": {},
   "outputs": [],
   "source": [
    "np.save(\"ma_rh1_varRHO.npy\", varRHO1)\n",
    "np.save(\"ma_rh1_varPg.npy\", varPg1)\n",
    "np.save(\"ma_rh1_varbsq.npy\", varbsq1)"
   ]
  },
  {
   "cell_type": "code",
   "execution_count": 10,
   "id": "22911ca2",
   "metadata": {},
   "outputs": [
    {
     "name": "stdout",
     "output_type": "stream",
     "text": [
      "Keys: <KeysViewHDF5 ['avgcoeff1', 'avgcoeff2', 'avgcoeff3', 'dt', 'dump_cadence', 'extras', 'full_dump_cadence', 'header', 'is_full_dump', 'n_dump', 'n_step', 'prims', 't', 'varPg', 'varRHO', 'varTe', 'varbsq']>\n"
     ]
    }
   ],
   "source": [
    "fname_ma_160 = 'E:/research/BH PIRE/files/torus.out0.05010(1).h5'\n",
    "with h5py.File(fname_ma_160, 'r') as file:\n",
    "    # print(\"Keys: %s\" % file.keys())\n",
    "    varTe2 = np.array(file['varTe'])"
   ]
  },
  {
   "cell_type": "code",
   "execution_count": 11,
   "id": "37598717",
   "metadata": {},
   "outputs": [],
   "source": [
    "np.save(\"ma_rh160_varTe.npy\", varTe2)"
   ]
  },
  {
   "cell_type": "code",
   "execution_count": 12,
   "id": "924617f7",
   "metadata": {},
   "outputs": [],
   "source": [
    "fname_sa_1 = 'E:/research/BH PIRE/files/torus.out0.05010(2).h5'\n",
    "with h5py.File(fname_sa_1, 'r') as file:\n",
    "    varTe3 = np.array(file['varTe'])\n",
    "    varRHO3 = np.array(file['varRHO'])\n",
    "    varPg3 = np.array(file['varPg'])\n",
    "    varbsq3 = np.array(file['varbsq'])"
   ]
  },
  {
   "cell_type": "code",
   "execution_count": 13,
   "id": "9880cdd5",
   "metadata": {},
   "outputs": [],
   "source": [
    "np.save(\"sa_rh1_varTe.npy\", varTe3)"
   ]
  },
  {
   "cell_type": "code",
   "execution_count": 14,
   "id": "8dc56754",
   "metadata": {},
   "outputs": [],
   "source": [
    "np.save(\"sa_varRHO.npy\", varRHO3)\n",
    "np.save(\"sa_varPg.npy\", varPg3)\n",
    "np.save(\"sa_varbsq.npy\", varbsq3)"
   ]
  },
  {
   "cell_type": "code",
   "execution_count": 15,
   "id": "b9c0b4b4",
   "metadata": {},
   "outputs": [],
   "source": [
    "fname_sa_160 = 'E:/research/BH PIRE/files/torus.out0.05010(3).h5'\n",
    "with h5py.File(fname_sa_160, 'r') as file:\n",
    "    varTe4 = np.array(file['varTe'])"
   ]
  },
  {
   "cell_type": "code",
   "execution_count": 16,
   "id": "05436e38",
   "metadata": {},
   "outputs": [],
   "source": [
    "np.save(\"sa_rh160_varTe.npy\", varTe4)"
   ]
  },
  {
   "cell_type": "code",
   "execution_count": null,
   "id": "66c8885e",
   "metadata": {},
   "outputs": [],
   "source": []
  },
  {
   "cell_type": "markdown",
   "id": "f1dfd103",
   "metadata": {},
   "source": [
    "(288, 128, 128) <-> (r, $\\theta$ [polar], $\\phi$ [azimuthal])"
   ]
  },
  {
   "cell_type": "code",
   "execution_count": 8,
   "id": "1d35566e",
   "metadata": {},
   "outputs": [],
   "source": [
    "r0 = 2\n",
    "r1 = 6\n",
    "r2 = 20\n",
    "r3 = 40"
   ]
  },
  {
   "cell_type": "code",
   "execution_count": 15,
   "id": "58f6cba4",
   "metadata": {},
   "outputs": [
    {
     "ename": "TypeError",
     "evalue": "list indices must be integers or slices, not tuple",
     "output_type": "error",
     "traceback": [
      "\u001b[1;31m---------------------------------------------------------------------------\u001b[0m",
      "\u001b[1;31mTypeError\u001b[0m                                 Traceback (most recent call last)",
      "Cell \u001b[1;32mIn[15], line 1\u001b[0m\n\u001b[1;32m----> 1\u001b[0m varTe_th0 \u001b[38;5;241m=\u001b[39m \u001b[43mvarTe\u001b[49m\u001b[43m[\u001b[49m\u001b[43mr0\u001b[49m\u001b[43m,\u001b[49m\u001b[43m \u001b[49m\u001b[43m:\u001b[49m\u001b[43m,\u001b[49m\u001b[43m \u001b[49m\u001b[38;5;241;43m0\u001b[39;49m\u001b[43m]\u001b[49m\n\u001b[0;32m      2\u001b[0m cvarTe_th0 \u001b[38;5;241m=\u001b[39m cvarTe[r0, :, \u001b[38;5;241m0\u001b[39m]\n\u001b[0;32m      4\u001b[0m \u001b[38;5;124;03m'''\u001b[39;00m\n\u001b[0;32m      5\u001b[0m \u001b[38;5;124;03mvarTe_th1 = varTe[r1, :, 0]\u001b[39;00m\n\u001b[0;32m      6\u001b[0m \u001b[38;5;124;03mcvarTe_th1 = cvarTe[r1, :, 0]\u001b[39;00m\n\u001b[1;32m   (...)\u001b[0m\n\u001b[0;32m     12\u001b[0m \u001b[38;5;124;03mcvarTe_th3 = cvarTe[r3, :, 0]\u001b[39;00m\n\u001b[0;32m     13\u001b[0m \u001b[38;5;124;03m'''\u001b[39;00m\n",
      "\u001b[1;31mTypeError\u001b[0m: list indices must be integers or slices, not tuple"
     ]
    }
   ],
   "source": [
    "varTe_th0 = varTe[r0, :, 0]\n",
    "cvarTe_th0 = cvarTe[r0, :, 0]\n",
    "\n",
    "'''\n",
    "varTe_th1 = varTe[r1, :, 0]\n",
    "cvarTe_th1 = cvarTe[r1, :, 0]\n",
    "\n",
    "varTe_th2 = varTe[r2, :, 0]\n",
    "cvarTe_th2 = cvarTe[r2, :, 0]\n",
    "\n",
    "varTe_th3 = varTe[r3, :, 0]\n",
    "cvarTe_th3 = cvarTe[r3, :, 0]\n",
    "'''"
   ]
  },
  {
   "cell_type": "code",
   "execution_count": null,
   "id": "8d4a2a73",
   "metadata": {},
   "outputs": [],
   "source": [
    "theta = np.linspace(0., np.pi, num=128)\n",
    "\n",
    "plt.plot(theta, varTe_th0, color='skyblue', label='statistical')\n",
    "plt.plot(theta, cvarTe_th0, color='skyblue', linestyle='dashed', label='error prop')\n",
    "\n",
    "plt.annotate('r=2')\n",
    "\n",
    "plt.xlabel(r'$\\theta$')\n",
    "plt.ylabel(r'$var(Te)_{t}$')\n",
    "plt.legend()\n",
    "plt.show()"
   ]
  },
  {
   "cell_type": "code",
   "execution_count": null,
   "id": "d817f9e4",
   "metadata": {},
   "outputs": [],
   "source": []
  },
  {
   "cell_type": "code",
   "execution_count": null,
   "id": "28b41c07",
   "metadata": {},
   "outputs": [],
   "source": []
  }
 ],
 "metadata": {
  "kernelspec": {
   "display_name": "Python 3 (ipykernel)",
   "language": "python",
   "name": "python3"
  },
  "language_info": {
   "codemirror_mode": {
    "name": "ipython",
    "version": 3
   },
   "file_extension": ".py",
   "mimetype": "text/x-python",
   "name": "python",
   "nbconvert_exporter": "python",
   "pygments_lexer": "ipython3",
   "version": "3.9.16"
  }
 },
 "nbformat": 4,
 "nbformat_minor": 5
}
