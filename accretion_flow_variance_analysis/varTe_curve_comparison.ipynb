{
 "cells": [
  {
   "cell_type": "markdown",
   "id": "150ff969",
   "metadata": {},
   "source": [
    "Timestamp $\\Delta t = XXX M$ <br>\n",
    "Do the var(Te) [two versions: 1) calculated from error propagation and 2) directly calculated] VS theta ([0, pi]) plots at different radius (i.e. different index slices of that (288, 128, 128) array). Say, radius r=2, then choose the slice varTe[2, 0, :] (following ($r, \\phi, \\theta$)) so that you got a 1D var(Te) at radius r=2 along theta"
   ]
  },
  {
   "cell_type": "code",
   "execution_count": null,
   "id": "c4cfb87d",
   "metadata": {},
   "outputs": [],
   "source": [
    "import warnings\n",
    "\n",
    "from matplotlib import pyplot as plt\n",
    "import numpy as np\n",
    "\n",
    "import pyharm\n",
    "from pyharm.plots import plot_dumps as pplt\n",
    "\n",
    "import h5py"
   ]
  },
  {
   "cell_type": "code",
   "execution_count": null,
   "id": "d331149b",
   "metadata": {},
   "outputs": [],
   "source": [
    "# some constants\n",
    "cl = 29979245800.0 # speed of light in cgs\n",
    "mp = 1.67262171e-24\n",
    "kb = 1.3806505e-16\n",
    "mu = 1."
   ]
  },
  {
   "cell_type": "markdown",
   "id": "e26426c4",
   "metadata": {},
   "source": [
    "check file radius range"
   ]
  },
  {
   "cell_type": "code",
   "execution_count": null,
   "id": "b3fb1257",
   "metadata": {},
   "outputs": [],
   "source": [
    "i0 = 5010 # initial  frame\n",
    "i1 = 5311 # 1 + last frame\n",
    "fmt = 'torus.out0.{:05d}.h5'\n",
    "\n",
    "def fname(i, src): # closure on `src` and `fmt`\n",
    "    return (src+fmt).format(i)"
   ]
  },
  {
   "cell_type": "code",
   "execution_count": null,
   "id": "e008aab5",
   "metadata": {},
   "outputs": [],
   "source": [
    "src_ma_5M = '/xdisk/chanc/proj/eht/GRMHD_dt5M/Ma+0.94_w5/'\n",
    "src_sa_5M = '/xdisk/chanc/proj/eht/GRMHD_dt5M/Sa+0.94_w5/'\n",
    "\n",
    "src_ma_500M = '/xdisk/chanc/proj/eht/GRMHD_dt500M/Ma+0.94_w5/'\n",
    "src_sa_500M = '/xdisk/chanc/proj/eht/GRMHD_dt500M/Sa+0.94_w5/'"
   ]
  },
  {
   "cell_type": "code",
   "execution_count": null,
   "id": "13f0baea",
   "metadata": {},
   "outputs": [],
   "source": [
    "# ma_ files\n",
    "with h5py.File(fname(i0, src_ma_5M), 'r') as file:\n",
    "    header1 = 'header/r_in'\n",
    "    dataset1 = file[header1]\n",
    "    print(f\"Dataset associated with {header1}:\")\n",
    "    print(dataset1[()])\n",
    "    \n",
    "    header2 = 'header/r_out'\n",
    "    dataset2 = file[header2]\n",
    "    print(f\"Dataset associated with {header2}:\")\n",
    "    print(dataset2[()])\n",
    "    \n",
    "    header3 = 'header/r_eh'\n",
    "    dataset3 = file[header3]\n",
    "    print(f\"Dataset associated with {header3}:\")\n",
    "    print(dataset3[()])\n",
    "    \n",
    "    header4 = 'header/coordinates'\n",
    "    dataset4 = file[header4]\n",
    "    print(f\"Dataset associated with {header4}:\")\n",
    "    print(dataset4[()])"
   ]
  },
  {
   "cell_type": "code",
   "execution_count": null,
   "id": "52897615",
   "metadata": {},
   "outputs": [],
   "source": [
    "# sa_ files\n",
    "with h5py.File(fname(i0, src_sa_5M), 'r') as file:\n",
    "    header1 = 'header/r_in'\n",
    "    dataset1 = file[header1]\n",
    "    print(f\"Dataset associated with {header1}:\")\n",
    "    print(dataset1[()])\n",
    "    \n",
    "    header2 = 'header/r_out'\n",
    "    dataset2 = file[header2]\n",
    "    print(f\"Dataset associated with {header2}:\")\n",
    "    print(dataset2[()])\n",
    "    \n",
    "    header3 = 'header/r_eh'\n",
    "    dataset3 = file[header3]\n",
    "    print(f\"Dataset associated with {header3}:\")\n",
    "    print(dataset3[()])"
   ]
  },
  {
   "cell_type": "code",
   "execution_count": null,
   "id": "5f154b47",
   "metadata": {},
   "outputs": [],
   "source": []
  },
  {
   "cell_type": "markdown",
   "id": "9f5f4930",
   "metadata": {},
   "source": [
    "<h3>MAD</h3>"
   ]
  },
  {
   "cell_type": "markdown",
   "id": "d64651b9",
   "metadata": {},
   "source": [
    "<h5>Rh=1</h5>"
   ]
  },
  {
   "cell_type": "code",
   "execution_count": null,
   "id": "9dea3b9d",
   "metadata": {},
   "outputs": [],
   "source": [
    "# the var(Te) directly calculated\n",
    "varTe_file = np.load('ma_rh1_varTe.npy', allow_pickle=True)\n",
    "avgTe = np.load(\"ma_rh1_avgTe.npy\", allow_pickle=True)"
   ]
  },
  {
   "cell_type": "code",
   "execution_count": null,
   "id": "f9c0ab60",
   "metadata": {},
   "outputs": [],
   "source": [
    "# read in coefficients and other variances to calculate var(Te)\n",
    "# variances\n",
    "varPg_file = np.load('ma_varPg.npy', allow_pickle=True)\n",
    "varRHO_file = np.load('ma_varRHO.npy', allow_pickle=True)\n",
    "varbsq_file = np.load('ma_varbsq.npy', allow_pickle=True)\n",
    "\n",
    "# averages\n",
    "ma_avg_Pg = np.load('ma_avgPg.npy', allow_pickle=True)\n",
    "ma_avg_RHO = np.load('ma_avgRHO.npy', allow_pickle=True)\n",
    "ma_avg_bsq = np.load('ma_avgbsq.npy', allow_pickle=True)\n",
    "\n",
    "ma_avgPgRHO = np.load('ma_avgRHOPg.npy', allow_pickle=True)\n",
    "ma_avgPgbsq = np.load('ma_avgBsqPg.npy', allow_pickle=True)\n",
    "ma_avgRHObsq = np.load('ma_avgBsqRHO.npy', allow_pickle=True)"
   ]
  },
  {
   "cell_type": "code",
   "execution_count": null,
   "id": "cc74fa71",
   "metadata": {},
   "outputs": [],
   "source": [
    "# covariances\n",
    "ma_covPgRHO = ma_avgPgRHO - ma_avg_Pg * ma_avg_RHO\n",
    "ma_covPgbsq = ma_avgPgbsq - ma_avg_Pg * ma_avg_bsq\n",
    "ma_covRHObsq = ma_avgRHObsq - ma_avg_RHO * ma_avg_bsq"
   ]
  },
  {
   "cell_type": "code",
   "execution_count": null,
   "id": "8df51d16",
   "metadata": {},
   "outputs": [],
   "source": [
    "# standard deviations\n",
    "maPg_std = varPg_file**1/2\n",
    "maRHO_std = varRHO_file**1/2\n",
    "mabsq_std = varbsq_file**1/2"
   ]
  },
  {
   "cell_type": "code",
   "execution_count": null,
   "id": "4acd8930",
   "metadata": {},
   "outputs": [],
   "source": [
    "# coefficients\n",
    "ma_CPg1 = np.load('ma_CPg1.npy')\n",
    "ma_Crho1 = np.load('ma_Crho1.npy')\n",
    "ma_Cbsq1 = np.load('ma_Cbsq1.npy')"
   ]
  },
  {
   "cell_type": "markdown",
   "id": "4bf6da43",
   "metadata": {},
   "source": [
    "$a = y(\\gamma_{i} - 1)$ <br>\n",
    "$b = z(\\gamma_{e} - 1)$ <br>\n",
    "$c = \\frac{m_{p}(\\gamma_{i} - 1)(\\gamma_{e}-1)}{k_{B}(\\gamma - 1)}$ <br>\n",
    "$Te = \\frac{m_{p}u(\\gamma_{e}-1)(\\gamma_{i}-1)}{k\\rho (y(\\gamma_{i}-1)+Rz(\\gamma_{e}-1))}=c\\frac{P_{g}}{\\rho(a+bR)}$<br>\n",
    "$C[Pg -> Te] = A = \\frac{<Te>}{<Pg>}-\\frac{2b<Te><Pg>(R_{h} - <R>)}{(<P_{mag}>^{2}+<Pg>^{2})(a+b<R>)}$ <br>\n",
    "$C[\\rho -> Te] = B = -\\frac{<Te>}{<\\rho>}$ <br>\n",
    "$C[B^{2} -> Te] = C = \\frac{b<Te><Pg>}{2\\mu_{0}(<P_{mag}>^{2}+<Pg>^{2})(a+b<R>)}$ <br>\n",
    "Recall: <br>\n",
    "$cov(X, Y) = <XY> - <X><Y>$ <br>\n",
    "dimensionless covariance: $\\frac{cov(X, Y)}{\\sigma_{X}\\sigma_{Y}}$ <br>\n",
    "var(Te) = $(\\delta Te)^{2}$ = $A^{2}$var(Pg) + $B^{2}$var($\\rho$) + $C^{2}$var(bsq) + 2$AB$cov(Pg, $\\rho$) + 2$AC$ cov(Pg, bsq) + 2$BC$ cov($\\rho$, bsq) <br>\n",
    "**With dimensionless form:** <br> \n",
    "$\\frac{var(Te)}{<Te>^{2}} = \\frac{A^{2}}{<Te>^{2}}\\frac{var(Pg)}{<Pg>^{2}} + \\frac{B^{2}}{<Te>^{2}}\\frac{var(\\rho)}{<\\rho>^{2}} + \\frac{C^{2}}{<Te>^{2}}\\frac{var(bsq)}{<bsq>^{2}} + 2\\frac{AB}{<Te>^{2}}\\frac{cov(Pg, \\rho)}{std(Pg)std(\\rho)} + 2\\frac{AC}{<Te>^{2}}\\frac{cov(Pg, bsq)}{std(Pg)std(bsq)} + 2\\frac{BC}{<Te>^{2}}\\frac{cov(\\rho, bsq)}{std(\\rho)std(bsq)}$ <br>\n",
    "and now the variance terms become dimensionless, so are the coefficient terms"
   ]
  },
  {
   "cell_type": "markdown",
   "id": "ac0c4767",
   "metadata": {},
   "source": [
    "*Order of Magnitude Estimation* <br>\n",
    "coefficients: <br>\n",
    "C[Pg->Te]: $10^{13}$ -> $10^{17}$ <br>\n",
    "C[$\\rho$->Te]: $-10^{12}$ -> $-10^{16}$ <br>\n",
    "C[bsq->Te]: $10^{9}$ -> $10^{13}$ <br>\n",
    "\n",
    "Variances: <br>\n",
    "var_Te: $10^{22}$ -> $10^{21}$ <br>\n",
    "var_Pg: $10^{-2}$ -> $10^{-12}$ <br>\n",
    "var_rho: $10^{-2}$ -> $10^{-12}$ <br>\n",
    "var_bsq: $10^{1}$ -> $10^{-11}$ <br>\n",
    "cov_PgRHO: $10^{-2}$ -> $10^{-14}$ <br>\n",
    "cov_Pgbsq:  $10^{0}$->$-10^{-14}$<br>\n",
    "cov_RHObsq: $10^{0}$->$-10^{-13}$ <br>\n",
    "\n",
    "Following the equation, at the beginning part of the grid, RHS of the quation yields $10^{26}\\times 10^{-2} + 10^{24}\\times 10^{-2} + 10^{18}\\times 10^{1} + 2\\times 10^{13}\\times (-10^{12})\\times 10^{-2} + 2\\times 10^{13} \\times 10^{9} \\times 10^{0} + 2\\times (-10^{12}) \\times 10^{9} \\times 10^{0} \\approx 10^{23}$; <br> at the end part of the grid, RHS of the equation yields $10^{34}\\times 10^{-12} + 10^{32}\\times 10^{-12} + 10^{26}\\times 10^{-11} + 2\\times 10^{17} \\times (-10^{16})\\times 10^{-14} + 2\\times 10^{17} \\times 10^{13} \\times (-10^{-14}) + 2\\times (-10^{16})\\times 10^{13} \\times 10^{-13} \\approx 10^{22}$ <br>"
   ]
  },
  {
   "cell_type": "code",
   "execution_count": null,
   "id": "0865fc58",
   "metadata": {},
   "outputs": [],
   "source": [
    "# with dimension, var(Te) caculated from coefficients and variances\n",
    "varTe_coeff = np.square(ma_CPg1)*varPg_file + np.square(ma_Crho1)*varRHO_file + np.square(ma_Cbsq1)*varbsq_file + \\\n",
    "            2*ma_CPg1*ma_Crho1*ma_covPgRHO + 2*ma_CPg1*ma_Cbsq1*ma_covPgbsq + 2*ma_Crho1*ma_Cbsq1*ma_covRHObsq"
   ]
  },
  {
   "cell_type": "code",
   "execution_count": null,
   "id": "33625189",
   "metadata": {},
   "outputs": [],
   "source": [
    "varTe_coeff"
   ]
  },
  {
   "cell_type": "code",
   "execution_count": null,
   "id": "44f1fd0b",
   "metadata": {},
   "outputs": [],
   "source": [
    "varTe_file"
   ]
  },
  {
   "cell_type": "code",
   "execution_count": null,
   "id": "c188723e",
   "metadata": {},
   "outputs": [],
   "source": [
    "# dimensionless, var(Te) caculated from coefficients and variances\n",
    "varTe_coeff = (ma_CPg1**2/avgTe**2)*(varPg_file/ma_avg_Pg**2) + (ma_Crho1**2/avgTe**2)*(varRHO_file/ma_avg_RHO**2) + \\\n",
    "            (ma_Cbsq1**2/avgTe**2)*(varbsq_file/ma_avg_bsq**2) + 2*(ma_CPg1*ma_Crho1/avgTe**2)*(ma_covPgRHO/(maPg_std*maRHO_std)) + \\\n",
    "            2*(ma_CPg1*ma_Cbsq1/avgTe**2)*(ma_covPgbsq/(maPg_std*mabsq_std)) + 2*(ma_Crho1*ma_Cbsq1/avgTe**2)*(ma_covRHObsq/(maRHO_std*mabsq_std))"
   ]
  },
  {
   "cell_type": "code",
   "execution_count": null,
   "id": "57e71e8f",
   "metadata": {},
   "outputs": [],
   "source": []
  },
  {
   "cell_type": "markdown",
   "id": "aa1aafc4",
   "metadata": {},
   "source": [
    "Try: r = 2, 5, 8"
   ]
  },
  {
   "cell_type": "code",
   "execution_count": null,
   "id": "1a2447dc",
   "metadata": {},
   "outputs": [],
   "source": [
    "def comparison_plot(r, varTe_exp, varTe_calc):\n",
    "    varTe_true = varTe_exp[r, 0, :]\n",
    "    varTe_coeff = varTe_calc[r, 0, :]\n",
    "\n",
    "    # x axis: theta\n",
    "    theta = np.linspace(0, np.pi, 128)\n",
    "\n",
    "    plt.plot(theta, varTe_true, label='expected (at r=%r)'%r)\n",
    "    plt.plot(theta, varTe_coeff, label='calculated (at r=%r)'%r)\n",
    "    plt.xlabel('theta')\n",
    "    plt.ylabel('var(Te)')\n",
    "    plt.legend()\n",
    "    plt.title('Comparison Between Calculated and Expected var(Te)', y=1.1)\n",
    "    plt.show()"
   ]
  },
  {
   "cell_type": "code",
   "execution_count": null,
   "id": "2e96ae2e",
   "metadata": {},
   "outputs": [],
   "source": [
    "comparison_plot(2, varTe_file, varTe_coeff)"
   ]
  },
  {
   "cell_type": "code",
   "execution_count": null,
   "id": "a87a7d1f",
   "metadata": {},
   "outputs": [],
   "source": [
    "comparison_plot(5, varTe_file, varTe_coeff)"
   ]
  },
  {
   "cell_type": "code",
   "execution_count": null,
   "id": "12c91b61",
   "metadata": {},
   "outputs": [],
   "source": [
    "comparison_plot(8, varTe_file, varTe_coeff)"
   ]
  },
  {
   "cell_type": "markdown",
   "id": "0583efd6",
   "metadata": {},
   "source": [
    "Try: middle and last few slices"
   ]
  },
  {
   "cell_type": "code",
   "execution_count": null,
   "id": "239027b8",
   "metadata": {},
   "outputs": [],
   "source": [
    "comparison_plot(32, varTe_file, varTe_coeff)"
   ]
  },
  {
   "cell_type": "code",
   "execution_count": null,
   "id": "6be828f4",
   "metadata": {},
   "outputs": [],
   "source": [
    "comparison_plot(64, varTe_file, varTe_coeff)"
   ]
  },
  {
   "cell_type": "code",
   "execution_count": null,
   "id": "6b13286b",
   "metadata": {},
   "outputs": [],
   "source": [
    "comparison_plot(96, varTe_file, varTe_coeff)"
   ]
  },
  {
   "cell_type": "code",
   "execution_count": null,
   "id": "f3139874",
   "metadata": {},
   "outputs": [],
   "source": [
    "comparison_plot(-1, varTe_file, varTe_coeff)"
   ]
  },
  {
   "cell_type": "code",
   "execution_count": null,
   "id": "3364a294",
   "metadata": {},
   "outputs": [],
   "source": [
    "for r in range(0, 128, 4):\n",
    "    comparison_plot(r, varTe_file, varTe_coeff)"
   ]
  },
  {
   "cell_type": "markdown",
   "id": "70cf6de7",
   "metadata": {},
   "source": [
    "<h5>Rh=160</h5>"
   ]
  },
  {
   "cell_type": "code",
   "execution_count": null,
   "id": "994e57d5",
   "metadata": {},
   "outputs": [],
   "source": [
    "# the var(Te) directly calculated from the equation\n",
    "varTe_rh160 = np.load('ma_rh160_varTe.npy', allow_pickle=True)"
   ]
  },
  {
   "cell_type": "code",
   "execution_count": null,
   "id": "9a4a0337",
   "metadata": {},
   "outputs": [],
   "source": [
    "# coefficients for MAD Rh=160\n",
    "ma_CPg160 = np.load('ma_CPg160.npy')\n",
    "ma_Crho160 = np.load('ma_Crho160.npy')\n",
    "ma_Cbsq160 = np.load('ma_Cbsq160.npy')"
   ]
  },
  {
   "cell_type": "code",
   "execution_count": null,
   "id": "0faefc08",
   "metadata": {},
   "outputs": [],
   "source": [
    "# var(Te) caculated from coefficients and variances\n",
    "varTe_coeff_rh160 = np.square(ma_CPg160)*varPg_file + np.square(ma_Crho160)*varRHO_file + np.square(ma_Cbsq160)*varbsq_file + \\\n",
    "            2*ma_CPg160*ma_Crho160*ma_covPgRHO + 2*ma_CPg160*ma_Cbsq160*ma_covPgbsq + 2*ma_Crho160*ma_Cbsq160*ma_covRHObsq"
   ]
  },
  {
   "cell_type": "code",
   "execution_count": null,
   "id": "25de7283",
   "metadata": {},
   "outputs": [],
   "source": [
    "radius_idx = [2, 5, 8, 32, 64, 96, -1]\n",
    "for r in radius_idx:\n",
    "    comparison_plot(r, varTe_rh160, varTe_coeff_rh160)"
   ]
  },
  {
   "cell_type": "code",
   "execution_count": null,
   "id": "3df7f7e5",
   "metadata": {},
   "outputs": [],
   "source": [
    "for r in range(0, 128, 4):\n",
    "    comparison_plot(r, varTe_rh160, varTe_coeff_rh160)"
   ]
  },
  {
   "cell_type": "code",
   "execution_count": null,
   "id": "e9520df8",
   "metadata": {},
   "outputs": [],
   "source": []
  },
  {
   "cell_type": "markdown",
   "id": "8f67703a",
   "metadata": {},
   "source": [
    "<h3>SANE</h3>"
   ]
  },
  {
   "cell_type": "markdown",
   "id": "83ff391f",
   "metadata": {},
   "source": [
    "<h5>Rh=1</h5>"
   ]
  },
  {
   "cell_type": "code",
   "execution_count": null,
   "id": "632194c5",
   "metadata": {},
   "outputs": [],
   "source": [
    "# the var(Te) directly calculated from the equation\n",
    "varTe_sa_file = np.load('sa_rh1_varTe.npy', allow_pickle=True)"
   ]
  },
  {
   "cell_type": "code",
   "execution_count": null,
   "id": "038c2a2d",
   "metadata": {},
   "outputs": [],
   "source": [
    "# read in coefficients and other variances to calculate var(Te)\n",
    "# variances\n",
    "varPg_file = np.load('sa_varPg.npy', allow_pickle=True)\n",
    "varRHO_file = np.load('sa_varRHO.npy', allow_pickle=True)\n",
    "varbsq_file = np.load('sa_varbsq.npy', allow_pickle=True)\n",
    "\n",
    "# averages\n",
    "sa_avg_Pg = np.load('sa_avgPg.npy', allow_pickle=True)\n",
    "sa_avg_RHO = np.load('sa_avgRHO.npy', allow_pickle=True)\n",
    "sa_avg_bsq = np.load('sa_avgbsq.npy', allow_pickle=True)\n",
    "\n",
    "sa_avgPgRHO = np.load('sa_avgRHOPg.npy', allow_pickle=True)\n",
    "sa_avgPgbsq = 2*mu*np.load('sa_avgBsqPg.npy', allow_pickle=True)\n",
    "sa_avgRHObsq = 2*mu*np.load('sa_avgBsqRHO.npy', allow_pickle=True)\n",
    "\n",
    "# covariances\n",
    "sa_covPgRHO = sa_avgPgRHO - sa_avg_Pg * sa_avg_RHO\n",
    "sa_covPgbsq = sa_avgPgbsq - sa_avg_Pg * sa_avg_bsq\n",
    "sa_covRHObsq = sa_avgRHObsq - sa_avg_RHO * sa_avg_bsq"
   ]
  },
  {
   "cell_type": "code",
   "execution_count": null,
   "id": "6590cf4a",
   "metadata": {},
   "outputs": [],
   "source": [
    "# coefficients\n",
    "sa_CPg1 = np.load('sa_CPg1.npy')\n",
    "sa_Crho1 = np.load('sa_Crho1.npy')\n",
    "sa_Cbsq1 = np.load('sa_Cbsq1.npy')"
   ]
  },
  {
   "cell_type": "code",
   "execution_count": null,
   "id": "5ed5fd56",
   "metadata": {},
   "outputs": [],
   "source": [
    "# var(Te) caculated from coefficients and variances\n",
    "varTe_sa_coeff = np.square(sa_CPg1)*varPg_file + np.square(sa_Crho1)*varRHO_file + np.square(sa_Cbsq1)*varbsq_file + \\\n",
    "            2*sa_CPg1*sa_Crho1*sa_covPgRHO + 2*sa_CPg1*sa_Cbsq1*sa_covPgbsq + 2*sa_Crho1*sa_Cbsq1*sa_covRHObsq"
   ]
  },
  {
   "cell_type": "code",
   "execution_count": null,
   "id": "de6d6184",
   "metadata": {},
   "outputs": [],
   "source": [
    "radius_idx = [2, 5, 8, 32, 64, 96, -1]\n",
    "for r in radius_idx:\n",
    "    comparison_plot(r, varTe_sa_file, varTe_sa_coeff)"
   ]
  },
  {
   "cell_type": "code",
   "execution_count": null,
   "id": "e5ef6148",
   "metadata": {},
   "outputs": [],
   "source": [
    "for r in range(0, 128, 4):\n",
    "    comparison_plot(r, varTe_sa_file, varTe_sa_coeff)"
   ]
  },
  {
   "cell_type": "markdown",
   "id": "719c2096",
   "metadata": {},
   "source": [
    "<h5>Rh=160</h5>"
   ]
  },
  {
   "cell_type": "code",
   "execution_count": null,
   "id": "85ae5581",
   "metadata": {},
   "outputs": [],
   "source": [
    "# the var(Te) directly calculated\n",
    "varTe_sa_rh160 = np.load('sa_rh160_varTe.npy', allow_pickle=True)"
   ]
  },
  {
   "cell_type": "code",
   "execution_count": null,
   "id": "c861fbe9",
   "metadata": {},
   "outputs": [],
   "source": [
    "# coefficients\n",
    "sa_CPg160 = np.load('sa_CPg160.npy')\n",
    "sa_Crho160 = np.load('sa_Crho160.npy')\n",
    "sa_Cbsq160 = np.load('sa_Cbsq160.npy')"
   ]
  },
  {
   "cell_type": "code",
   "execution_count": null,
   "id": "6fbcf45c",
   "metadata": {},
   "outputs": [],
   "source": [
    "# var(Te) caculated from coefficients and variances\n",
    "varTe_sa_coeff160 = np.square(sa_CPg160)*varPg_file + np.square(sa_Crho160)*varRHO_file + np.square(sa_Cbsq160)*varbsq_file + \\\n",
    "            2*sa_CPg160*sa_Crho160*sa_covPgRHO + 2*sa_CPg160*sa_Cbsq160*sa_covPgbsq + 2*sa_Crho160*sa_Cbsq160*sa_covRHObsq"
   ]
  },
  {
   "cell_type": "code",
   "execution_count": null,
   "id": "8d8d61ed",
   "metadata": {},
   "outputs": [],
   "source": [
    "radius_idx = [2, 5, 8, 32, 64, 96, -1]\n",
    "for r in radius_idx:\n",
    "    comparison_plot(r, varTe_sa_rh160, varTe_sa_coeff160)"
   ]
  },
  {
   "cell_type": "code",
   "execution_count": null,
   "id": "18f7dad0",
   "metadata": {},
   "outputs": [],
   "source": [
    "for r in range(0, 128, 2):\n",
    "    comparison_plot(r, varTe_sa_rh160, varTe_sa_coeff160)"
   ]
  },
  {
   "cell_type": "markdown",
   "id": "0dd4eb9f",
   "metadata": {},
   "source": [
    "Overall, apparent offset near peaks or $\\theta \\in [0, \\frac{1}{3}\\pi] \\cup [\\frac{2}{3}\\pi, \\pi]$"
   ]
  },
  {
   "cell_type": "code",
   "execution_count": null,
   "id": "7a26532e",
   "metadata": {},
   "outputs": [],
   "source": []
  },
  {
   "cell_type": "markdown",
   "id": "30e024e9",
   "metadata": {},
   "source": [
    "### Make some spacial visualizations between var(Te)[expected] and var(Te)[calculated]"
   ]
  },
  {
   "cell_type": "markdown",
   "id": "d2a32bd0",
   "metadata": {},
   "source": [
    "<h5>MAD model: along xz</h5>"
   ]
  },
  {
   "cell_type": "code",
   "execution_count": null,
   "id": "2dd1717a",
   "metadata": {},
   "outputs": [],
   "source": [
    "dump_ma = pyharm.load_dump(fname(i0, src_ma_10M))"
   ]
  },
  {
   "cell_type": "code",
   "execution_count": null,
   "id": "2a340826",
   "metadata": {},
   "outputs": [],
   "source": [
    "# for Rh=1\n",
    "dump_ma.cache['varTe_exp'] = np.load('ma_rh1_varTe.npy', allow_pickle=True)\n",
    "dump_ma.cache['varTe_cal'] = varTe_coeff"
   ]
  },
  {
   "cell_type": "code",
   "execution_count": null,
   "id": "030c4c99",
   "metadata": {},
   "outputs": [],
   "source": [
    "w = (-40,40,-40,40)\n",
    "fig, axes = plt.subplots(1,2, figsize=(8,4))\n",
    "pplt.plot_xz(axes[0], dump_ma, 'varTe_exp', window=w, vmin=10**14, vmax=3.5*10**22, label='expected')\n",
    "pplt.plot_xz(axes[1], dump_ma, 'varTe_cal', window=w, vmin=10**14, vmax=3.5*10**22, label='calculated')\n",
    "plt.suptitle('varTe (MAD, Rhigh = 1, gamma=4/3)')\n",
    "plt.show()"
   ]
  },
  {
   "cell_type": "code",
   "execution_count": null,
   "id": "6099ce80",
   "metadata": {},
   "outputs": [],
   "source": [
    "dump_ma_copy = pyharm.load_dump(fname(i0, src_ma_10M))"
   ]
  },
  {
   "cell_type": "code",
   "execution_count": null,
   "id": "cfdbe6cf",
   "metadata": {},
   "outputs": [],
   "source": [
    "# for Rh=160\n",
    "dump_ma_copy.cache['varTe_exp'] = np.load('ma_rh160_varTe.npy', allow_pickle=True)\n",
    "dump_ma_copy.cache['varTe_cal'] = varTe_coeff_rh160"
   ]
  },
  {
   "cell_type": "code",
   "execution_count": null,
   "id": "491f4757",
   "metadata": {},
   "outputs": [],
   "source": [
    "w = (-40,40,-40,40)\n",
    "fig, axes = plt.subplots(1,2, figsize=(8,4))\n",
    "pplt.plot_xz(axes[0], dump_ma_copy, 'varTe_exp', window=w, vmin=10**14, vmax=3.5*10**22, label='expected')\n",
    "pplt.plot_xz(axes[1], dump_ma_copy, 'varTe_cal', window=w, vmin=10**14, vmax=3.5*10**22, label='calculated')\n",
    "plt.suptitle('varTe (MAD, Rhigh = 160, gamma=4/3)')\n",
    "plt.show()"
   ]
  },
  {
   "cell_type": "markdown",
   "id": "56127fe2",
   "metadata": {},
   "source": [
    "For MAD, the coefficient estimation tends to overestimate the variations in the parts of funnel wall and the funnel itself that are farther away from the center black hole."
   ]
  },
  {
   "cell_type": "code",
   "execution_count": null,
   "id": "cae3a842",
   "metadata": {},
   "outputs": [],
   "source": []
  },
  {
   "cell_type": "markdown",
   "id": "541ec4d3",
   "metadata": {},
   "source": [
    "<h5>SANE: along xz</h5>"
   ]
  },
  {
   "cell_type": "code",
   "execution_count": null,
   "id": "00e47f2c",
   "metadata": {},
   "outputs": [],
   "source": [
    "dump_sa = pyharm.load_dump(fname(i0, src_sa_10M))"
   ]
  },
  {
   "cell_type": "code",
   "execution_count": null,
   "id": "65f03348",
   "metadata": {},
   "outputs": [],
   "source": [
    "# for Rh=1\n",
    "dump_sa.cache['varTe_exp'] = np.load('sa_rh1_varTe.npy', allow_pickle=True)\n",
    "dump_sa.cache['varTe_cal'] = varTe_sa_coeff"
   ]
  },
  {
   "cell_type": "code",
   "execution_count": null,
   "id": "ca412f1a",
   "metadata": {},
   "outputs": [],
   "source": [
    "w = (-40,40,-40,40)\n",
    "fig, axes = plt.subplots(1,2, figsize=(8,4))\n",
    "pplt.plot_xz(axes[0], dump_sa, 'varTe_exp', window=w, vmin=10**19, vmax=3.5*10**22, label='expected')\n",
    "pplt.plot_xz(axes[1], dump_sa, 'varTe_cal', window=w, vmin=10**19, vmax=3.5*10**22, label='calculated')\n",
    "plt.suptitle('varTe (SANE, Rhigh = 1, gamma=4/3)')\n",
    "plt.show()"
   ]
  },
  {
   "cell_type": "code",
   "execution_count": null,
   "id": "255ffbe0",
   "metadata": {},
   "outputs": [],
   "source": [
    "dump_sa_copy = pyharm.load_dump(fname(i0, src_sa_10M))"
   ]
  },
  {
   "cell_type": "code",
   "execution_count": null,
   "id": "f4a4394d",
   "metadata": {},
   "outputs": [],
   "source": [
    "# for Rh=160\n",
    "dump_sa_copy.cache['varTe_exp'] = np.load('sa_rh160_varTe.npy', allow_pickle=True)\n",
    "dump_sa_copy.cache['varTe_cal'] = varTe_sa_coeff160"
   ]
  },
  {
   "cell_type": "code",
   "execution_count": null,
   "id": "5b8770a4",
   "metadata": {},
   "outputs": [],
   "source": [
    "w = (-40,40,-40,40)\n",
    "fig, axes = plt.subplots(1,2, figsize=(8,4))\n",
    "pplt.plot_xz(axes[0], dump_sa_copy, 'varTe_exp', window=w, vmin=10**19, vmax=3.5*10**22, label='expected')\n",
    "pplt.plot_xz(axes[1], dump_sa_copy, 'varTe_cal', window=w, vmin=10**19, vmax=3.5*10**22, label='calculated')\n",
    "plt.suptitle('varTe (SANE, Rhigh = 160, gamma=4/3)')\n",
    "plt.show()"
   ]
  },
  {
   "cell_type": "markdown",
   "id": "d87400a8",
   "metadata": {},
   "source": [
    "For SANE, the coefficient estimation also tends to overestimate the variations in the parts of funnel wall and the funnel itself that are farther away from the center black hole."
   ]
  },
  {
   "cell_type": "code",
   "execution_count": null,
   "id": "68823c37",
   "metadata": {},
   "outputs": [],
   "source": []
  }
 ],
 "metadata": {
  "kernelspec": {
   "display_name": "Python 3 (ipykernel)",
   "language": "python",
   "name": "python3"
  },
  "language_info": {
   "codemirror_mode": {
    "name": "ipython",
    "version": 3
   },
   "file_extension": ".py",
   "mimetype": "text/x-python",
   "name": "python",
   "nbconvert_exporter": "python",
   "pygments_lexer": "ipython3",
   "version": "3.8.12"
  }
 },
 "nbformat": 4,
 "nbformat_minor": 5
}
