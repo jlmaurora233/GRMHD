{
 "cells": [
  {
   "cell_type": "code",
   "execution_count": 1,
   "id": "ea9dc134",
   "metadata": {},
   "outputs": [],
   "source": [
    "import numpy as np"
   ]
  },
  {
   "cell_type": "code",
   "execution_count": 2,
   "id": "243b2046",
   "metadata": {
    "scrolled": true
   },
   "outputs": [],
   "source": [
    "# MAD, Rh=1\n",
    "maTe_avg1 = np.load(\"ma_rh1_avgTe.npy\", allow_pickle=True)\n",
    "maTe_var1 = np.load(\"ma_rh1_varTe.npy\", allow_pickle=True)\n",
    "maR_avg1 = np.load(\"ma_avgR1.npy\", allow_pickle=True)"
   ]
  },
  {
   "cell_type": "code",
   "execution_count": 3,
   "id": "f2e051af",
   "metadata": {},
   "outputs": [],
   "source": [
    "# MAD, Rh=160\n",
    "maTe_avg160 = np.load(\"ma_rh160_avgTe.npy\", allow_pickle=True)\n",
    "maTe_var160 = np.load(\"ma_rh160_varTe.npy\", allow_pickle=True)\n",
    "maR_avg160 = np.load(\"ma_avgR160.npy\", allow_pickle=True)"
   ]
  },
  {
   "cell_type": "code",
   "execution_count": 4,
   "id": "ecc2ea70",
   "metadata": {},
   "outputs": [],
   "source": [
    "# MAD\n",
    "maRHO_avg = np.load(\"ma_avgRHO.npy\", allow_pickle=True)\n",
    "maRHO_var = np.load(\"ma_varRHO.npy\", allow_pickle=True)\n",
    "maRHO_std = maRHO_var**1/2\n",
    "\n",
    "maPg_avg = np.load(\"ma_avgPg.npy\", allow_pickle=True)\n",
    "maPg_var = np.load(\"ma_varPg.npy\", allow_pickle=True)\n",
    "maPg_std = maPg_var**1/2\n",
    "\n",
    "mabsq_avg = np.load(\"ma_avgbsq.npy\", allow_pickle=True)\n",
    "mabsq_var = np.load(\"ma_varbsq.npy\", allow_pickle=True)\n",
    "mabsq_std = mabsq_var**1/2"
   ]
  },
  {
   "cell_type": "code",
   "execution_count": 5,
   "id": "3b7c36e8",
   "metadata": {},
   "outputs": [],
   "source": [
    "# SANE, Rh=1\n",
    "saTe_avg1 = np.load(\"sa_rh1_avgTe.npy\", allow_pickle=True)\n",
    "saTe_var1 = np.load(\"sa_rh1_varTe.npy\", allow_pickle=True)\n",
    "saR_avg1 = np.load(\"sa_avgR1.npy\", allow_pickle=True)"
   ]
  },
  {
   "cell_type": "code",
   "execution_count": 6,
   "id": "b0a175ed",
   "metadata": {},
   "outputs": [],
   "source": [
    "# SANE, Rh=160\n",
    "saTe_avg160 = np.load(\"sa_rh160_avgTe.npy\", allow_pickle=True)\n",
    "saTe_var160 = np.load(\"sa_rh160_varTe.npy\", allow_pickle=True)\n",
    "saR_avg160 = np.load(\"sa_avgR1.npy\", allow_pickle=True)\n",
    "\n",
    "# SANE\n",
    "saRHO_avg = np.load(\"sa_avgRHO.npy\", allow_pickle=True)\n",
    "saRHO_var = np.load(\"sa_varRHO.npy\", allow_pickle=True)\n",
    "saRHO_std = saRHO_var**1/2\n",
    "\n",
    "saPg_avg = np.load(\"sa_avgPg.npy\", allow_pickle=True)\n",
    "saPg_var = np.load(\"sa_varPg.npy\", allow_pickle=True)\n",
    "saPg_std = saPg_var**1/2\n",
    "\n",
    "sabsq_avg = np.load(\"sa_avgbsq.npy\", allow_pickle=True)\n",
    "sabsq_var = np.load(\"sa_varbsq.npy\", allow_pickle=True)\n",
    "sabsq_std = sabsq_var**1/2"
   ]
  },
  {
   "cell_type": "code",
   "execution_count": null,
   "id": "8fc08213",
   "metadata": {},
   "outputs": [],
   "source": []
  },
  {
   "cell_type": "markdown",
   "id": "56680c41",
   "metadata": {},
   "source": [
    "### Newly derived coefficients<br>\n",
    "$a = y(\\gamma_{i} - 1)$ <br>\n",
    "$b = z(\\gamma_{e} - 1)$ <br>\n",
    "$c = \\frac{m_{p}(\\gamma_{i} - 1)(\\gamma_{e}-1)}{k_{B}(\\gamma - 1)}$ <br>\n",
    "$C[Pg -> Te] = A = \\frac{<Te>}{<Pg>}-\\frac{2b<Te><Pg>(R_{h} - <R>)}{((<bsq>/2\\mu_{0})^{2}+<Pg>^{2})(a+b<R>)}$ <br>\n",
    "$C[\\rho -> Te] = B = -\\frac{<Te>}{<\\rho>}$ <br>\n",
    "$C[B^{2} -> Te] = C = \\frac{b<Te><Pg>}{2\\mu_{0}((<bsq>/2mu_{0})^{2}+<Pg>^{2})(a+b<R>)}$"
   ]
  },
  {
   "cell_type": "markdown",
   "id": "7c8e6e43",
   "metadata": {},
   "source": [
    "Recall: <br>\n",
    "$cov(X, Y) = <XY> - <X><Y>$ <br>\n",
    "dimensionless covariance: $\\frac{cov(X, Y)}{\\sigma_{X}\\sigma_{Y}}$ <br>\n",
    "var(Te) = $(\\delta Te)^{2}$ = $A^{2}$var(Pg) + $B^{2}$var($\\rho$) + $C^{2}$var(bsq) + 2$AB$cov(Pg, $\\rho$) + 2$AC$ cov(Pg, bsq) + 2$BC$ cov($\\rho$, bsq) <br>\n",
    "**With dimensionless form:** <br> \n",
    "$\\frac{var(Te)}{<Te>^{2}} = \\frac{A^{2}}{<Te>^{2}}\\frac{var(Pg)}{<Pg>^{2}} + \\frac{B^{2}}{<Te>^{2}}\\frac{var(\\rho)}{<\\rho>^{2}} + \\frac{C^{2}}{<Te>^{2}}\\frac{var(bsq)}{<bsq>^{2}} + 2\\frac{AB}{<Te>^{2}}\\frac{cov(Pg, \\rho)}{std(Pg)std(\\rho)} + 2\\frac{AC}{<Te>^{2}}\\frac{cov(Pg, bsq)}{std(Pg)std(bsq)} + 2\\frac{BC}{<Te>^{2}}\\frac{cov(\\rho, bsq)}{std(\\rho)std(bsq)}$ <br>\n",
    "and now the variance terms become dimensionless, so are the coefficient terms"
   ]
  },
  {
   "cell_type": "code",
   "execution_count": 7,
   "id": "3a7e8b0f",
   "metadata": {},
   "outputs": [],
   "source": [
    "# some constants\n",
    "cl = 29979245800.0 # speed of light in cgs\n",
    "mp = 1.67262171e-24\n",
    "kb = 1.3806505e-16\n",
    "mu = 1."
   ]
  },
  {
   "cell_type": "code",
   "execution_count": 8,
   "id": "a998f78e",
   "metadata": {},
   "outputs": [],
   "source": [
    "# constants used for the functions\n",
    "y = 1.\n",
    "z = 3.\n",
    "gamma = 4/3\n",
    "gamma_i = 4/3\n",
    "gamma_e = 7/3\n",
    "a = y*(gamma_i - 1)\n",
    "b = z*(gamma_e - 1)\n",
    "c = mp*(gamma_e - 1)*(gamma_i - 1)/(kb*(gamma - 1))"
   ]
  },
  {
   "cell_type": "code",
   "execution_count": 9,
   "id": "1e916e9a",
   "metadata": {},
   "outputs": [],
   "source": [
    "def CPg(avgTe, avgPg, avgbsq, avgR, Rh):\n",
    "    term1 = avgTe/avgPg\n",
    "    term2 = 2*b*avgTe*avgPg*(Rh-avgR)/(((avgbsq/(2*mu))**2+avgPg**2)*(a+b*avgR))\n",
    "    return term1-term2"
   ]
  },
  {
   "cell_type": "code",
   "execution_count": 10,
   "id": "33d81a6f",
   "metadata": {},
   "outputs": [],
   "source": [
    "def Crho(avgTe, avgrho):\n",
    "    return -avgTe/avgrho"
   ]
  },
  {
   "cell_type": "code",
   "execution_count": 11,
   "id": "292673f6",
   "metadata": {},
   "outputs": [],
   "source": [
    "def Cbsq(avgTe, avgPg, avgbsq, avgR):\n",
    "    nume = b*avgTe*avgPg\n",
    "    denom = 2*mu*((avgbsq/(2*mu))**2+avgPg**2)*(a+b*avgR)\n",
    "    return nume/denom"
   ]
  },
  {
   "cell_type": "code",
   "execution_count": null,
   "id": "5663ea78",
   "metadata": {},
   "outputs": [],
   "source": []
  },
  {
   "cell_type": "code",
   "execution_count": 12,
   "id": "2f11a1c4",
   "metadata": {},
   "outputs": [],
   "source": [
    "# MAD, Rh=1\n",
    "ma_CPg1 = CPg(maTe_avg1, maPg_avg, mabsq_avg, maR_avg1, Rh=1.0)\n",
    "ma_Crho1 = Crho(maTe_avg1, maRHO_avg)\n",
    "ma_Cbsq1 = Cbsq(maTe_avg1, maPg_avg, mabsq_avg, maR_avg1)"
   ]
  },
  {
   "cell_type": "code",
   "execution_count": 13,
   "id": "878c3845",
   "metadata": {},
   "outputs": [
    {
     "data": {
      "text/plain": [
       "numpy.ndarray"
      ]
     },
     "execution_count": 13,
     "metadata": {},
     "output_type": "execute_result"
    }
   ],
   "source": [
    "type(ma_CPg1)"
   ]
  },
  {
   "cell_type": "code",
   "execution_count": 14,
   "id": "bc3c52f0",
   "metadata": {},
   "outputs": [],
   "source": [
    "np.save('ma_CPg1.npy', ma_CPg1)\n",
    "np.save('ma_Crho1.npy', ma_Crho1)\n",
    "np.save('ma_Cbsq1.npy', ma_Cbsq1)"
   ]
  },
  {
   "cell_type": "code",
   "execution_count": 15,
   "id": "ad4bc80e",
   "metadata": {},
   "outputs": [],
   "source": [
    "# MAD, Rh=160\n",
    "ma_CPg160 = CPg(maTe_avg160, maPg_avg, mabsq_avg, maR_avg160, Rh=160.0)\n",
    "ma_Crho160 = Crho(maTe_avg160, maRHO_avg)\n",
    "ma_Cbsq160 = Cbsq(maTe_avg160, maPg_avg, mabsq_avg, maR_avg160)"
   ]
  },
  {
   "cell_type": "code",
   "execution_count": 16,
   "id": "935fa514",
   "metadata": {},
   "outputs": [],
   "source": [
    "np.save('ma_CPg160.npy', ma_CPg160)\n",
    "np.save('ma_Crho160.npy', ma_Crho160)\n",
    "np.save('ma_Cbsq160.npy', ma_Cbsq160)"
   ]
  },
  {
   "cell_type": "code",
   "execution_count": 17,
   "id": "bb5065c7",
   "metadata": {},
   "outputs": [],
   "source": [
    "# SANE, Rh=1\n",
    "sa_CPg1 = CPg(saTe_avg1, saPg_avg, sabsq_avg, saR_avg1, Rh=1.0)\n",
    "sa_Crho1 = Crho(saTe_avg1, saRHO_avg)\n",
    "sa_Cbsq1 = Cbsq(saTe_avg1, saPg_avg, sabsq_avg, saR_avg1)"
   ]
  },
  {
   "cell_type": "code",
   "execution_count": 18,
   "id": "ccb8a129",
   "metadata": {},
   "outputs": [],
   "source": [
    "np.save('sa_CPg1.npy', sa_CPg1)\n",
    "np.save('sa_Crho1.npy', sa_Crho1)\n",
    "np.save('sa_Cbsq1.npy', sa_Cbsq1)"
   ]
  },
  {
   "cell_type": "code",
   "execution_count": 19,
   "id": "175d0cc5",
   "metadata": {},
   "outputs": [],
   "source": [
    "# saD, Rh=1\n",
    "sa_CPg160 = CPg(saTe_avg160, saPg_avg, sabsq_avg, saR_avg160, Rh=160.0)\n",
    "sa_Crho160 = Crho(saTe_avg160, saRHO_avg)\n",
    "sa_Cbsq160 = Cbsq(saTe_avg160, saPg_avg, sabsq_avg, saR_avg160)"
   ]
  },
  {
   "cell_type": "code",
   "execution_count": 20,
   "id": "66da0a21",
   "metadata": {},
   "outputs": [],
   "source": [
    "np.save('sa_CPg160.npy', sa_CPg160)\n",
    "np.save('sa_Crho160.npy', sa_Crho160)\n",
    "np.save('sa_Cbsq160.npy', sa_Cbsq160)"
   ]
  },
  {
   "cell_type": "code",
   "execution_count": null,
   "id": "b24c83c8",
   "metadata": {},
   "outputs": [],
   "source": []
  },
  {
   "cell_type": "code",
   "execution_count": null,
   "id": "b901f3a6",
   "metadata": {},
   "outputs": [],
   "source": []
  }
 ],
 "metadata": {
  "kernelspec": {
   "display_name": "Python 3 (ipykernel)",
   "language": "python",
   "name": "python3"
  },
  "language_info": {
   "codemirror_mode": {
    "name": "ipython",
    "version": 3
   },
   "file_extension": ".py",
   "mimetype": "text/x-python",
   "name": "python",
   "nbconvert_exporter": "python",
   "pygments_lexer": "ipython3",
   "version": "3.8.12"
  }
 },
 "nbformat": 4,
 "nbformat_minor": 5
}
