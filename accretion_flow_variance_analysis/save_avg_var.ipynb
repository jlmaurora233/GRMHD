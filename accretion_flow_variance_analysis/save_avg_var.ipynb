{
 "cells": [
  {
   "cell_type": "markdown",
   "id": "580d47a2",
   "metadata": {},
   "source": [
    "If the tests pass, go ahead and save the average and variance & covariance terms (Completed) <br>then refer get_coeff.ipynb to re-calculate the coefficients (remember to change them to dimensionless form)."
   ]
  },
  {
   "cell_type": "code",
   "execution_count": 1,
   "id": "9119c4bd",
   "metadata": {},
   "outputs": [],
   "source": [
    "import warnings\n",
    "\n",
    "from toolz import valmap\n",
    "\n",
    "import h5py\n",
    "import pyharm\n",
    "\n",
    "import numpy as np\n",
    "from pyharm.plots import plot_dumps as pplt"
   ]
  },
  {
   "cell_type": "code",
   "execution_count": 2,
   "id": "6d6e3d11",
   "metadata": {},
   "outputs": [],
   "source": [
    "i0 = 5010 # initial  frame\n",
    "i1 = 5311 # 1 + last frame\n",
    "\n",
    "fmt = 'torus.out0.{:05d}.h5'"
   ]
  },
  {
   "cell_type": "code",
   "execution_count": 13,
   "id": "5356ec46",
   "metadata": {},
   "outputs": [],
   "source": [
    "src_ma_5M = '/xdisk/chanc/proj/eht/GRMHD_dt5M/Ma+0.94_w5/'\n",
    "src_sa_5M = '/xdisk/chanc/proj/eht/GRMHD_dt5M/Sa+0.94_w5/'\n",
    "\n",
    "src_ma_500M = '/xdisk/chanc/proj/eht/GRMHD_dt500M/Ma+0.94_w5/'\n",
    "src_sa_500M = '/xdisk/chanc/proj/eht/GRMHD_dt500M/Sa+0.94_w5/'"
   ]
  },
  {
   "cell_type": "code",
   "execution_count": 4,
   "id": "5cd0fdeb",
   "metadata": {},
   "outputs": [],
   "source": [
    "def fname(i, src): # closure on `src` and `fmt`\n",
    "    return (src+fmt).format(i)"
   ]
  },
  {
   "cell_type": "markdown",
   "id": "deb6dffd",
   "metadata": {},
   "source": [
    "for other quantities"
   ]
  },
  {
   "cell_type": "code",
   "execution_count": 5,
   "id": "12d17d32",
   "metadata": {},
   "outputs": [],
   "source": [
    "def calculate_average(i0, i1, src, quantity):\n",
    "    avg = 0.\n",
    "    for i in range(i0, i1):\n",
    "        dump = pyharm.load_dump(fname(i, src))\n",
    "        quant = dump[quantity]\n",
    "        avg += quant\n",
    "        del dump\n",
    "    avg /= i1-i0\n",
    "    return avg"
   ]
  },
  {
   "cell_type": "code",
   "execution_count": 6,
   "id": "791acd80",
   "metadata": {},
   "outputs": [],
   "source": [
    "def calculate_variance(i0, i1, src, quantity, avg):\n",
    "    var = 0.\n",
    "    for i in range(i0, i1):\n",
    "        dump = pyharm.load_dump(fname(i, src))\n",
    "        quant = dump[quantity]\n",
    "        var += (quant - avg)**2\n",
    "        del dump\n",
    "    var /= i1-i0\n",
    "    return var"
   ]
  },
  {
   "cell_type": "markdown",
   "id": "01e258c7",
   "metadata": {},
   "source": [
    "for Te\n",
    "\n",
    "eqn 27 of https://arxiv.org/pdf/2202.11721.pdf: $Te = \\frac{m_{p}u(\\gamma_{e}-1)(\\gamma_{i}-1)}{k \\rho (y(\\gamma_{i}-1)+Rz(\\gamma_{e}-1))}$ where: <br> y and z are the number of electrons and nucleons per unionized atom, respectively <br> eqn 22 $R = \\frac{R_{low}}{1+\\widetilde{\\beta}^{2}}+ \\frac{R_{high}\\widetilde{\\beta}^{2}}{1+\\widetilde{\\beta}^{2}}$ and $\\widetilde{\\beta} = \\frac{\\beta}{\\beta_{crit}}$, assume $\\beta_{crit}=1$."
   ]
  },
  {
   "cell_type": "code",
   "execution_count": 7,
   "id": "20d0fed7",
   "metadata": {},
   "outputs": [],
   "source": [
    "# some constants\n",
    "cl = 29979245800.0 # speed of light in cgs\n",
    "mp = 1.67262171e-24\n",
    "kb = 1.3806505e-16"
   ]
  },
  {
   "cell_type": "code",
   "execution_count": 8,
   "id": "addddb0a",
   "metadata": {},
   "outputs": [],
   "source": [
    "# R\n",
    "def R(dump, Rh, Rl):\n",
    "    beta = dump['beta']\n",
    "    return Rl/(1+beta**2)+Rh*beta**2/(1+beta**2)"
   ]
  },
  {
   "cell_type": "code",
   "execution_count": 9,
   "id": "0844bd12",
   "metadata": {},
   "outputs": [],
   "source": [
    "# electron temperature\n",
    "def Te(dump, Rh, Rl=1, gamma=4/3):\n",
    "    if gamma == 4/3:\n",
    "        y = 1\n",
    "        z = 3\n",
    "        gamma_i = 4/3\n",
    "        gamma_e = 7/3\n",
    "    if gamma == 13/9:\n",
    "        y = 1\n",
    "        z = 2\n",
    "        gamma_i = 13/9\n",
    "        gamma_e = 133/36\n",
    "    if gamma == 5/3:\n",
    "        y = 1\n",
    "        z = 1\n",
    "        gamma_i = 5/3\n",
    "        gamma_e = 5/3\n",
    "    beta = dump['beta']\n",
    "    u = dump['Pg']/(gamma-1)\n",
    "    r = R(dump, Rh, Rl)\n",
    "    numerator = mp*cl**2*u*(gamma_e-1)*(gamma_i-1)\n",
    "    denom = kb*dump['RHO']*(y*(gamma_i-1)+r*z*(gamma_e-1))\n",
    "\n",
    "    electron_T = numerator/ denom\n",
    "    dump.cache['Te'] = electron_T\n",
    "    return electron_T"
   ]
  },
  {
   "cell_type": "code",
   "execution_count": 10,
   "id": "3b39c06b",
   "metadata": {},
   "outputs": [],
   "source": [
    "def calculate_avgTe(i0, i1, src, Rh):\n",
    "    avg_Te = 0.\n",
    "    for i in range(i0, i1):\n",
    "        dump = pyharm.load_dump(fname(i, src))\n",
    "        avg_Te += Te(dump, Rh)\n",
    "        del dump\n",
    "    avg_Te /= i1-i0\n",
    "    return avg_Te"
   ]
  },
  {
   "cell_type": "code",
   "execution_count": 11,
   "id": "aef23517",
   "metadata": {},
   "outputs": [],
   "source": [
    "def calculate_varTe(i0, i1, src, Rh, avg):\n",
    "    var_Te = 0.\n",
    "    for i in range(i0, i1):\n",
    "        dump = pyharm.load_dump(fname(i, src))\n",
    "        var_Te += (Te(dump, Rh) - avg)**2\n",
    "        del dump\n",
    "    var_Te /= i1-i0\n",
    "    return var_Te"
   ]
  },
  {
   "cell_type": "code",
   "execution_count": null,
   "id": "8e6c0f1b",
   "metadata": {},
   "outputs": [],
   "source": []
  },
  {
   "cell_type": "markdown",
   "id": "e33191c2",
   "metadata": {},
   "source": [
    "check if the files are read in as expected"
   ]
  },
  {
   "cell_type": "code",
   "execution_count": 12,
   "id": "c6329004",
   "metadata": {},
   "outputs": [],
   "source": [
    "dump = pyharm.load_dump(fname(i0, src_ma_5M))"
   ]
  },
  {
   "cell_type": "code",
   "execution_count": 13,
   "id": "ad757d1c",
   "metadata": {
    "scrolled": true
   },
   "outputs": [
    {
     "data": {
      "text/plain": [
       "array([[[3.37840855e-01, 3.38207304e-01, 3.33615128e-01, ...,\n",
       "         3.21341869e-01, 3.26272757e-01, 3.33357358e-01],\n",
       "        [2.18257348e-01, 2.18143185e-01, 2.11278883e-01, ...,\n",
       "         2.05799930e-01, 2.10543641e-01, 2.16426534e-01],\n",
       "        [2.27851938e-01, 2.22700830e-01, 2.24008416e-01, ...,\n",
       "         2.38492926e-01, 2.40901885e-01, 2.37293304e-01],\n",
       "        ...,\n",
       "        [2.48669614e-01, 2.63897533e-01, 2.64173164e-01, ...,\n",
       "         2.37415037e-01, 2.30457592e-01, 2.31542296e-01],\n",
       "        [1.89720123e-01, 1.85992492e-01, 1.73059430e-01, ...,\n",
       "         1.93717207e-01, 1.92172733e-01, 1.91461074e-01],\n",
       "        [3.38480174e-01, 3.27609211e-01, 3.18920750e-01, ...,\n",
       "         3.25736972e-01, 3.29123426e-01, 3.38888227e-01]],\n",
       "\n",
       "       [[4.58709497e-01, 4.60201677e-01, 4.57535246e-01, ...,\n",
       "         4.45136062e-01, 4.45987216e-01, 4.51093858e-01],\n",
       "        [2.73672188e-01, 2.71955357e-01, 2.68177658e-01, ...,\n",
       "         2.57610540e-01, 2.72409206e-01, 2.75623622e-01],\n",
       "        [2.14274967e-01, 2.07654706e-01, 2.17952252e-01, ...,\n",
       "         2.12506578e-01, 2.24326148e-01, 2.26460250e-01],\n",
       "        ...,\n",
       "        [2.32302036e-01, 2.42208378e-01, 2.40959503e-01, ...,\n",
       "         2.17842897e-01, 2.14807037e-01, 2.23669762e-01],\n",
       "        [2.34209403e-01, 2.39176213e-01, 2.31290328e-01, ...,\n",
       "         2.48934636e-01, 2.39935476e-01, 2.26249747e-01],\n",
       "        [4.53537170e-01, 4.41767569e-01, 4.31141541e-01, ...,\n",
       "         4.39636903e-01, 4.44480372e-01, 4.55765030e-01]],\n",
       "\n",
       "       [[2.68600573e-01, 2.70135172e-01, 2.71720098e-01, ...,\n",
       "         2.52934382e-01, 2.52348707e-01, 2.61958178e-01],\n",
       "        [1.22094281e-01, 1.17641888e-01, 1.31019670e-01, ...,\n",
       "         1.10867459e-01, 1.36794440e-01, 1.40201677e-01],\n",
       "        [1.20633809e-01, 1.25243807e-01, 1.24640171e-01, ...,\n",
       "         1.14971781e-01, 1.13163517e-01, 1.23120960e-01],\n",
       "        ...,\n",
       "        [1.01202496e-01, 1.15284804e-01, 1.28153266e-01, ...,\n",
       "         1.28005406e-01, 1.09139691e-01, 1.17004248e-01],\n",
       "        [1.11499089e-01, 1.10384672e-01, 9.88438134e-02, ...,\n",
       "         1.21043710e-01, 1.08048013e-01, 1.01512609e-01],\n",
       "        [2.73118362e-01, 2.66047092e-01, 2.57922988e-01, ...,\n",
       "         2.64215503e-01, 2.62745932e-01, 2.67048807e-01]],\n",
       "\n",
       "       ...,\n",
       "\n",
       "       [[2.80068014e-09, 3.94028889e-09, 2.00276025e-09, ...,\n",
       "         2.19831211e-10, 2.28710066e-09, 1.90350301e-09],\n",
       "        [1.03425976e-08, 2.34888543e-08, 4.65375847e-08, ...,\n",
       "         6.86613990e-09, 2.98856670e-09, 1.08134205e-08],\n",
       "        [3.61067875e-08, 3.25528623e-08, 2.74640906e-08, ...,\n",
       "         2.13043994e-08, 1.40100319e-08, 3.00287968e-08],\n",
       "        ...,\n",
       "        [3.31799204e-08, 2.33716291e-08, 8.79773714e-09, ...,\n",
       "         5.93025338e-08, 4.08431777e-08, 2.98241868e-08],\n",
       "        [1.68162903e-08, 2.83100608e-09, 1.29735189e-09, ...,\n",
       "         6.62720700e-08, 4.75686617e-08, 2.80410342e-08],\n",
       "        [1.54822548e-09, 8.15124708e-10, 6.85931366e-10, ...,\n",
       "         1.26477712e-08, 9.61014721e-09, 3.15458248e-09]],\n",
       "\n",
       "       [[3.12110470e-09, 8.21873658e-09, 1.06643808e-08, ...,\n",
       "         2.43766348e-09, 1.26192900e-09, 8.50539469e-09],\n",
       "        [3.65600967e-08, 4.25683264e-08, 4.66469276e-08, ...,\n",
       "         7.37070941e-09, 1.42065737e-08, 3.37067068e-08],\n",
       "        [3.75986297e-08, 3.76910688e-08, 3.12738275e-08, ...,\n",
       "         4.31912254e-08, 2.91808952e-08, 3.14394311e-08],\n",
       "        ...,\n",
       "        [3.18927120e-08, 2.02657646e-08, 1.51991630e-08, ...,\n",
       "         5.63429699e-08, 4.41086015e-08, 3.82532829e-08],\n",
       "        [9.69080202e-09, 2.19137289e-09, 5.24013826e-10, ...,\n",
       "         6.59641210e-08, 7.03479048e-08, 4.04271459e-08],\n",
       "        [2.26580246e-09, 2.52197921e-09, 4.74268483e-10, ...,\n",
       "         1.42516813e-08, 5.34039123e-09, 2.36719237e-09]],\n",
       "\n",
       "       [[4.30931126e-09, 2.23255369e-09, 2.59166373e-10, ...,\n",
       "         1.28454704e-09, 3.38900716e-09, 4.47252195e-10],\n",
       "        [1.21741180e-08, 1.71469446e-08, 1.23189857e-08, ...,\n",
       "         5.33565369e-09, 1.05943249e-08, 1.13248225e-08],\n",
       "        [3.25775205e-08, 3.54511609e-08, 3.03834899e-08, ...,\n",
       "         4.11352863e-08, 2.11896777e-08, 2.40572595e-08],\n",
       "        ...,\n",
       "        [5.80900043e-10, 2.70911674e-09, 5.17935280e-09, ...,\n",
       "         1.75261195e-08, 5.93614164e-09, 1.27905002e-08],\n",
       "        [6.33172051e-09, 1.19192788e-09, 9.41961344e-10, ...,\n",
       "         4.79187221e-08, 3.33680412e-08, 8.06706132e-09],\n",
       "        [1.42816253e-09, 1.18418268e-10, 1.02964700e-10, ...,\n",
       "         6.73342604e-09, 9.32187202e-09, 6.74854519e-09]]])"
      ]
     },
     "execution_count": 13,
     "metadata": {},
     "output_type": "execute_result"
    }
   ],
   "source": [
    "dump['Pg']"
   ]
  },
  {
   "cell_type": "markdown",
   "id": "4d9338e0",
   "metadata": {},
   "source": [
    "works well for 100 files ($\\Delta t$=500M) <br> works for 150 files ($\\Delta t$=750M) <br> works for 200 files ($\\Delta t$=1000M) <br> works for 300 files ($\\Delta t$=1500M)"
   ]
  },
  {
   "cell_type": "markdown",
   "id": "342f33d8",
   "metadata": {},
   "source": [
    "**Pg (MAD)**"
   ]
  },
  {
   "cell_type": "code",
   "execution_count": 15,
   "id": "d57a14c0",
   "metadata": {},
   "outputs": [],
   "source": [
    "avg_Pg = calculate_average(i0, i1, src_ma_5M, 'Pg')"
   ]
  },
  {
   "cell_type": "code",
   "execution_count": 16,
   "id": "378ad453",
   "metadata": {},
   "outputs": [],
   "source": [
    "np.save(\"ma_avgPg.npy\", avg_Pg)"
   ]
  },
  {
   "cell_type": "code",
   "execution_count": 17,
   "id": "bd5d27e3",
   "metadata": {},
   "outputs": [],
   "source": [
    "var_Pg = calculate_variance(i0, i1, src_ma_5M, 'Pg', avg_Pg)"
   ]
  },
  {
   "cell_type": "code",
   "execution_count": 18,
   "id": "0496f7dc",
   "metadata": {},
   "outputs": [],
   "source": [
    "np.save(\"ma_varPg.npy\", var_Pg)"
   ]
  },
  {
   "cell_type": "markdown",
   "id": "6501402d",
   "metadata": {},
   "source": [
    "**RHO (MAD)**"
   ]
  },
  {
   "cell_type": "code",
   "execution_count": 19,
   "id": "50175c48",
   "metadata": {},
   "outputs": [],
   "source": [
    "avg_RHO = calculate_average(i0, i1, src_ma_5M, 'RHO')"
   ]
  },
  {
   "cell_type": "code",
   "execution_count": 20,
   "id": "6c9517ec",
   "metadata": {},
   "outputs": [],
   "source": [
    "np.save(\"ma_avgRHO.npy\", avg_RHO)"
   ]
  },
  {
   "cell_type": "code",
   "execution_count": 21,
   "id": "e1a530b7",
   "metadata": {},
   "outputs": [],
   "source": [
    "var_RHO = calculate_variance(i0, i1, src_ma_5M, 'RHO', avg_RHO)"
   ]
  },
  {
   "cell_type": "code",
   "execution_count": 22,
   "id": "36606183",
   "metadata": {},
   "outputs": [],
   "source": [
    "np.save(\"ma_varRHO.npy\", var_RHO)"
   ]
  },
  {
   "cell_type": "markdown",
   "id": "f3419413",
   "metadata": {},
   "source": [
    "**bsq (MAD)**"
   ]
  },
  {
   "cell_type": "code",
   "execution_count": 12,
   "id": "e70f16aa",
   "metadata": {},
   "outputs": [],
   "source": [
    "avg_bsq = calculate_average(i0, i1, src_ma_5M, 'bsq')"
   ]
  },
  {
   "cell_type": "code",
   "execution_count": 13,
   "id": "f81d2e1a",
   "metadata": {},
   "outputs": [],
   "source": [
    "np.save(\"ma_avgbsq.npy\", avg_bsq)"
   ]
  },
  {
   "cell_type": "code",
   "execution_count": 14,
   "id": "2c32a24d",
   "metadata": {},
   "outputs": [],
   "source": [
    "var_bsq = calculate_variance(i0, i1, src_ma_5M, 'bsq', avg_bsq)"
   ]
  },
  {
   "cell_type": "code",
   "execution_count": 15,
   "id": "009f6db3",
   "metadata": {},
   "outputs": [],
   "source": [
    "np.save(\"ma_varbsq.npy\", var_bsq)"
   ]
  },
  {
   "cell_type": "markdown",
   "id": "a9837387",
   "metadata": {},
   "source": [
    "**Cross Terms (MAD)**"
   ]
  },
  {
   "cell_type": "code",
   "execution_count": 12,
   "id": "6ff1250d",
   "metadata": {},
   "outputs": [],
   "source": [
    "# <RHO*Pg>\n",
    "rhoPg_Ma_avg = 0.\n",
    "for i in range(i0, i1):\n",
    "    dump = pyharm.load_dump(fname(i, src_ma_5M))\n",
    "    quant = dump['RHO'] * dump['Pg']\n",
    "    rhoPg_Ma_avg += quant\n",
    "    del dump\n",
    "rhoPg_Ma_avg /= i1-i0"
   ]
  },
  {
   "cell_type": "code",
   "execution_count": 13,
   "id": "6c285b28",
   "metadata": {},
   "outputs": [
    {
     "data": {
      "text/plain": [
       "(288, 128, 128)"
      ]
     },
     "execution_count": 13,
     "metadata": {},
     "output_type": "execute_result"
    }
   ],
   "source": [
    "rhoPg_Ma_avg.shape"
   ]
  },
  {
   "cell_type": "code",
   "execution_count": 14,
   "id": "c3d4d61b",
   "metadata": {},
   "outputs": [],
   "source": [
    "np.save(\"ma_avgRHOPg.npy\", rhoPg_Ma_avg)"
   ]
  },
  {
   "cell_type": "code",
   "execution_count": 16,
   "id": "74f3c05a",
   "metadata": {},
   "outputs": [],
   "source": [
    "# <bsq*Pg>\n",
    "bsqPg_Ma_avg = 0.\n",
    "for i in range(i0, i1):\n",
    "    dump = pyharm.load_dump(fname(i, src_ma_5M))\n",
    "    quant = dump['bsq'] * dump['Pg']\n",
    "    bsqPg_Ma_avg += quant\n",
    "    del dump\n",
    "bsqPg_Ma_avg /= i1-i0\n",
    "np.save(\"ma_avgBsqPg.npy\", bsqPg_Ma_avg)"
   ]
  },
  {
   "cell_type": "code",
   "execution_count": 17,
   "id": "49f2b396",
   "metadata": {},
   "outputs": [],
   "source": [
    "# <bsq*RHO>\n",
    "bsqRHO_Ma_avg = 0.\n",
    "for i in range(i0, i1):\n",
    "    dump = pyharm.load_dump(fname(i, src_ma_5M))\n",
    "    quant = dump['bsq'] * dump['RHO']\n",
    "    bsqRHO_Ma_avg += quant\n",
    "    del dump\n",
    "bsqRHO_Ma_avg /= i1-i0\n",
    "np.save(\"ma_avgBsqRHO.npy\", bsqRHO_Ma_avg)"
   ]
  },
  {
   "cell_type": "markdown",
   "id": "b82aebc5",
   "metadata": {},
   "source": [
    "**Te (MAD, Rh=1)**"
   ]
  },
  {
   "cell_type": "code",
   "execution_count": 23,
   "id": "f1c1fcf7",
   "metadata": {},
   "outputs": [
    {
     "name": "stderr",
     "output_type": "stream",
     "text": [
      "/home/u12/limengjiang/.local/lib/python3.8/site-packages/pyharm/variables.py:84: RuntimeWarning: divide by zero encountered in true_divide\n",
      "  'beta': lambda dump: dump['Pg'] / dump['Pb'],\n",
      "/home/u12/limengjiang/.local/lib/python3.8/site-packages/pyharm/variables.py:84: RuntimeWarning: invalid value encountered in true_divide\n",
      "  'beta': lambda dump: dump['Pg'] / dump['Pb'],\n",
      "/tmp/ipykernel_9996/216038254.py:4: RuntimeWarning: invalid value encountered in true_divide\n",
      "  return Rl/(1+beta**2)+Rh*beta**2/(1+beta**2)\n",
      "/tmp/ipykernel_9996/1916344453.py:24: RuntimeWarning: invalid value encountered in true_divide\n",
      "  electron_T = numerator/ denom\n"
     ]
    }
   ],
   "source": [
    "avg_Te = calculate_avgTe(i0, i1, src_ma_5M, 1.)"
   ]
  },
  {
   "cell_type": "code",
   "execution_count": 24,
   "id": "26b06d49",
   "metadata": {},
   "outputs": [],
   "source": [
    "np.save(\"ma_rh1_avgTe.npy\", avg_Te)"
   ]
  },
  {
   "cell_type": "code",
   "execution_count": 25,
   "id": "37319d9b",
   "metadata": {},
   "outputs": [
    {
     "name": "stderr",
     "output_type": "stream",
     "text": [
      "/tmp/ipykernel_9996/216038254.py:4: RuntimeWarning: invalid value encountered in true_divide\n",
      "  return Rl/(1+beta**2)+Rh*beta**2/(1+beta**2)\n",
      "/tmp/ipykernel_9996/1916344453.py:24: RuntimeWarning: invalid value encountered in true_divide\n",
      "  electron_T = numerator/ denom\n"
     ]
    }
   ],
   "source": [
    "var_Te = calculate_varTe(i0, i1, src_ma_5M, 1., avg_Te)"
   ]
  },
  {
   "cell_type": "code",
   "execution_count": 26,
   "id": "6d71c158",
   "metadata": {},
   "outputs": [],
   "source": [
    "np.save(\"ma_rh1_varTe.npy\", var_Te)"
   ]
  },
  {
   "cell_type": "markdown",
   "id": "021291ba",
   "metadata": {},
   "source": [
    "**Te (MAD, Rh=160)**"
   ]
  },
  {
   "cell_type": "code",
   "execution_count": 27,
   "id": "19aac2d8",
   "metadata": {},
   "outputs": [
    {
     "name": "stderr",
     "output_type": "stream",
     "text": [
      "/tmp/ipykernel_9996/216038254.py:4: RuntimeWarning: invalid value encountered in true_divide\n",
      "  return Rl/(1+beta**2)+Rh*beta**2/(1+beta**2)\n",
      "/tmp/ipykernel_9996/1916344453.py:24: RuntimeWarning: invalid value encountered in true_divide\n",
      "  electron_T = numerator/ denom\n"
     ]
    }
   ],
   "source": [
    "avg_Te_rh160 = calculate_avgTe(i0, i1, src_ma_5M, 160.)"
   ]
  },
  {
   "cell_type": "code",
   "execution_count": 28,
   "id": "7b76095b",
   "metadata": {},
   "outputs": [],
   "source": [
    "np.save(\"ma_rh160_avgTe.npy\", avg_Te_rh160)"
   ]
  },
  {
   "cell_type": "code",
   "execution_count": 13,
   "id": "aced8d01",
   "metadata": {},
   "outputs": [
    {
     "name": "stderr",
     "output_type": "stream",
     "text": [
      "/home/u12/limengjiang/.local/lib/python3.8/site-packages/pyharm/variables.py:84: RuntimeWarning: divide by zero encountered in true_divide\n",
      "  'beta': lambda dump: dump['Pg'] / dump['Pb'],\n",
      "/home/u12/limengjiang/.local/lib/python3.8/site-packages/pyharm/variables.py:84: RuntimeWarning: invalid value encountered in true_divide\n",
      "  'beta': lambda dump: dump['Pg'] / dump['Pb'],\n",
      "/tmp/ipykernel_76615/216038254.py:4: RuntimeWarning: invalid value encountered in true_divide\n",
      "  return Rl/(1+beta**2)+Rh*beta**2/(1+beta**2)\n",
      "/tmp/ipykernel_76615/1916344453.py:24: RuntimeWarning: invalid value encountered in true_divide\n",
      "  electron_T = numerator/ denom\n"
     ]
    }
   ],
   "source": [
    "var_Te_rh160 = calculate_varTe(i0, i1, src_ma_5M, 160., avg_Te_rh160)"
   ]
  },
  {
   "cell_type": "code",
   "execution_count": 14,
   "id": "a0c692ce",
   "metadata": {},
   "outputs": [],
   "source": [
    "np.save(\"ma_rh160_varTe.npy\", var_Te_rh160)"
   ]
  },
  {
   "cell_type": "markdown",
   "id": "46eb1239",
   "metadata": {},
   "source": [
    "**R (MAD, Rh=1)**"
   ]
  },
  {
   "cell_type": "code",
   "execution_count": 12,
   "id": "04c95135",
   "metadata": {},
   "outputs": [
    {
     "name": "stderr",
     "output_type": "stream",
     "text": [
      "/home/u12/limengjiang/.local/lib/python3.8/site-packages/pyharm/variables.py:84: RuntimeWarning: divide by zero encountered in true_divide\n",
      "  'beta': lambda dump: dump['Pg'] / dump['Pb'],\n",
      "/home/u12/limengjiang/.local/lib/python3.8/site-packages/pyharm/variables.py:84: RuntimeWarning: invalid value encountered in true_divide\n",
      "  'beta': lambda dump: dump['Pg'] / dump['Pb'],\n",
      "/tmp/ipykernel_42706/216038254.py:4: RuntimeWarning: invalid value encountered in true_divide\n",
      "  return Rl/(1+beta**2)+Rh*beta**2/(1+beta**2)\n"
     ]
    }
   ],
   "source": [
    "avg_R = 0.\n",
    "for i in range(i0, i1):\n",
    "    dump = pyharm.load_dump(fname(i, src_ma_5M))\n",
    "    avg_R += R(dump, 1., 1.)\n",
    "    del dump\n",
    "avg_R /= i1-i0"
   ]
  },
  {
   "cell_type": "code",
   "execution_count": 13,
   "id": "a20ff58d",
   "metadata": {},
   "outputs": [],
   "source": [
    "np.save('ma_avgR1.npy', avg_R)"
   ]
  },
  {
   "cell_type": "markdown",
   "id": "2dd99934",
   "metadata": {},
   "source": [
    "**R (MAD, Rh=160)**"
   ]
  },
  {
   "cell_type": "code",
   "execution_count": 14,
   "id": "1caa8eae",
   "metadata": {},
   "outputs": [
    {
     "name": "stderr",
     "output_type": "stream",
     "text": [
      "/home/u12/limengjiang/.local/lib/python3.8/site-packages/pyharm/variables.py:84: RuntimeWarning: divide by zero encountered in true_divide\n",
      "  'beta': lambda dump: dump['Pg'] / dump['Pb'],\n",
      "/home/u12/limengjiang/.local/lib/python3.8/site-packages/pyharm/variables.py:84: RuntimeWarning: invalid value encountered in true_divide\n",
      "  'beta': lambda dump: dump['Pg'] / dump['Pb'],\n",
      "/tmp/ipykernel_91783/216038254.py:4: RuntimeWarning: invalid value encountered in true_divide\n",
      "  return Rl/(1+beta**2)+Rh*beta**2/(1+beta**2)\n"
     ]
    }
   ],
   "source": [
    "avg_R_rh160 = 0.\n",
    "for i in range(i0, i1):\n",
    "    dump = pyharm.load_dump(fname(i, src_ma_5M))\n",
    "    avg_R_rh160 += R(dump, 160., 1.)\n",
    "    del dump\n",
    "avg_R_rh160 /= i1-i0"
   ]
  },
  {
   "cell_type": "code",
   "execution_count": 15,
   "id": "cb247be2",
   "metadata": {},
   "outputs": [],
   "source": [
    "np.save('ma_avgR160.npy', avg_R_rh160)"
   ]
  },
  {
   "cell_type": "code",
   "execution_count": null,
   "id": "bbb6511f",
   "metadata": {},
   "outputs": [],
   "source": []
  },
  {
   "cell_type": "markdown",
   "id": "eb2bb1c0",
   "metadata": {},
   "source": [
    "**Pg (SANE)**"
   ]
  },
  {
   "cell_type": "code",
   "execution_count": 12,
   "id": "9c7ce574",
   "metadata": {},
   "outputs": [],
   "source": [
    "avg_Pg = calculate_average(i0, i1, src_sa_5M, 'Pg')"
   ]
  },
  {
   "cell_type": "code",
   "execution_count": 13,
   "id": "e8cca206",
   "metadata": {},
   "outputs": [],
   "source": [
    "np.save(\"sa_avgPg.npy\", avg_Pg)"
   ]
  },
  {
   "cell_type": "code",
   "execution_count": 14,
   "id": "05f3fc7b",
   "metadata": {},
   "outputs": [],
   "source": [
    "var_Pg = calculate_variance(i0, i1, src_sa_5M, 'Pg', avg_Pg)"
   ]
  },
  {
   "cell_type": "code",
   "execution_count": 15,
   "id": "e30c52fe",
   "metadata": {},
   "outputs": [],
   "source": [
    "np.save(\"sa_varPg.npy\", var_Pg)"
   ]
  },
  {
   "cell_type": "markdown",
   "id": "3e269ad2",
   "metadata": {},
   "source": [
    "**RHO (SANE)**"
   ]
  },
  {
   "cell_type": "code",
   "execution_count": 16,
   "id": "9a97a3dc",
   "metadata": {},
   "outputs": [],
   "source": [
    "avg_RHO = calculate_average(i0, i1, src_sa_5M, 'RHO')"
   ]
  },
  {
   "cell_type": "code",
   "execution_count": 17,
   "id": "4ac4567d",
   "metadata": {},
   "outputs": [],
   "source": [
    "np.save(\"sa_avgRHO.npy\", avg_RHO)"
   ]
  },
  {
   "cell_type": "code",
   "execution_count": 18,
   "id": "dee46892",
   "metadata": {},
   "outputs": [],
   "source": [
    "var_RHO = calculate_variance(i0, i1, src_sa_5M, 'RHO', avg_RHO)"
   ]
  },
  {
   "cell_type": "code",
   "execution_count": 19,
   "id": "7477384b",
   "metadata": {},
   "outputs": [],
   "source": [
    "np.save(\"sa_varRHO.npy\", var_RHO)"
   ]
  },
  {
   "cell_type": "markdown",
   "id": "430301ff",
   "metadata": {},
   "source": [
    "**bsq (SANE)**"
   ]
  },
  {
   "cell_type": "code",
   "execution_count": 12,
   "id": "1b2a1619",
   "metadata": {},
   "outputs": [],
   "source": [
    "avg_bsq = calculate_average(i0, i1, src_sa_5M, 'bsq')"
   ]
  },
  {
   "cell_type": "code",
   "execution_count": 13,
   "id": "2245a90d",
   "metadata": {},
   "outputs": [],
   "source": [
    "np.save(\"sa_avgbsq.npy\", avg_bsq)"
   ]
  },
  {
   "cell_type": "code",
   "execution_count": 14,
   "id": "80d71089",
   "metadata": {},
   "outputs": [],
   "source": [
    "var_bsq = calculate_variance(i0, i1, src_sa_5M, 'bsq', avg_bsq)"
   ]
  },
  {
   "cell_type": "code",
   "execution_count": 15,
   "id": "a0f75216",
   "metadata": {},
   "outputs": [],
   "source": [
    "np.save(\"sa_varbsq.npy\", var_bsq)"
   ]
  },
  {
   "cell_type": "markdown",
   "id": "0172b452",
   "metadata": {},
   "source": [
    "**Cross Terms (SANE)**"
   ]
  },
  {
   "cell_type": "code",
   "execution_count": 16,
   "id": "66d6a7e5",
   "metadata": {},
   "outputs": [],
   "source": [
    "# <RHO*Pg>\n",
    "rhoPg_sa_avg = 0.\n",
    "for i in range(i0, i1):\n",
    "    dump = pyharm.load_dump(fname(i, src_sa_5M))\n",
    "    quant = dump['RHO'] * dump['Pg']\n",
    "    rhoPg_sa_avg += quant\n",
    "    del dump\n",
    "rhoPg_sa_avg /= i1-i0"
   ]
  },
  {
   "cell_type": "code",
   "execution_count": 17,
   "id": "2646bc53",
   "metadata": {},
   "outputs": [
    {
     "data": {
      "text/plain": [
       "(288, 128, 128)"
      ]
     },
     "execution_count": 17,
     "metadata": {},
     "output_type": "execute_result"
    }
   ],
   "source": [
    "rhoPg_sa_avg.shape"
   ]
  },
  {
   "cell_type": "code",
   "execution_count": 18,
   "id": "da302fc7",
   "metadata": {},
   "outputs": [],
   "source": [
    "np.save(\"sa_avgRHOPg.npy\", rhoPg_sa_avg)"
   ]
  },
  {
   "cell_type": "code",
   "execution_count": 19,
   "id": "54309148",
   "metadata": {},
   "outputs": [],
   "source": [
    "# <bsq*Pg>\n",
    "bsqPg_sa_avg = 0.\n",
    "for i in range(i0, i1):\n",
    "    dump = pyharm.load_dump(fname(i, src_sa_5M))\n",
    "    quant = dump['bsq'] * dump['Pg']\n",
    "    bsqPg_sa_avg += quant\n",
    "    del dump\n",
    "bsqPg_sa_avg /= i1-i0"
   ]
  },
  {
   "cell_type": "code",
   "execution_count": 20,
   "id": "3e5648df",
   "metadata": {},
   "outputs": [],
   "source": [
    "np.save(\"sa_avgBsqPg.npy\", bsqPg_sa_avg)"
   ]
  },
  {
   "cell_type": "code",
   "execution_count": 21,
   "id": "2941356e",
   "metadata": {},
   "outputs": [],
   "source": [
    "# <bsq*RHO>\n",
    "bsqRHO_sa_avg = 0.\n",
    "for i in range(i0, i1):\n",
    "    dump = pyharm.load_dump(fname(i, src_sa_5M))\n",
    "    quant = dump['bsq'] * dump['RHO']\n",
    "    bsqRHO_sa_avg += quant\n",
    "    del dump\n",
    "bsqRHO_sa_avg /= i1-i0"
   ]
  },
  {
   "cell_type": "code",
   "execution_count": 22,
   "id": "63af0da7",
   "metadata": {},
   "outputs": [],
   "source": [
    "np.save(\"sa_avgBsqRHO.npy\", bsqRHO_sa_avg)"
   ]
  },
  {
   "cell_type": "markdown",
   "id": "d6fd800e",
   "metadata": {},
   "source": [
    "**Te (SANE, Rh=1)**"
   ]
  },
  {
   "cell_type": "code",
   "execution_count": 20,
   "id": "d2f3a8ca",
   "metadata": {},
   "outputs": [],
   "source": [
    "avg_Te = calculate_avgTe(i0, i1, src_sa_5M, 1.)"
   ]
  },
  {
   "cell_type": "code",
   "execution_count": 21,
   "id": "baf859c8",
   "metadata": {},
   "outputs": [],
   "source": [
    "np.save(\"sa_rh1_avgTe.npy\", avg_Te)"
   ]
  },
  {
   "cell_type": "code",
   "execution_count": 22,
   "id": "9589747d",
   "metadata": {},
   "outputs": [],
   "source": [
    "var_Te = calculate_varTe(i0, i1, src_sa_5M, 1., avg_Te)"
   ]
  },
  {
   "cell_type": "code",
   "execution_count": 23,
   "id": "5317faaa",
   "metadata": {},
   "outputs": [],
   "source": [
    "np.save(\"sa_rh1_varTe.npy\", var_Te)"
   ]
  },
  {
   "cell_type": "markdown",
   "id": "c1d14459",
   "metadata": {},
   "source": [
    "**Te (SANE, Rh=160)**"
   ]
  },
  {
   "cell_type": "code",
   "execution_count": 12,
   "id": "4db86310",
   "metadata": {},
   "outputs": [],
   "source": [
    "avg_Te_rh160 = calculate_avgTe(i0, i1, src_sa_5M, 160.)"
   ]
  },
  {
   "cell_type": "code",
   "execution_count": 13,
   "id": "5fcd0945",
   "metadata": {},
   "outputs": [],
   "source": [
    "np.save(\"sa_rh160_avgTe.npy\", avg_Te_rh160)"
   ]
  },
  {
   "cell_type": "code",
   "execution_count": 14,
   "id": "654ac1fc",
   "metadata": {},
   "outputs": [],
   "source": [
    "var_Te_rh160 = calculate_varTe(i0, i1, src_sa_5M, 160., avg_Te_rh160)"
   ]
  },
  {
   "cell_type": "code",
   "execution_count": 15,
   "id": "b3d37f02",
   "metadata": {},
   "outputs": [],
   "source": [
    "np.save(\"sa_rh160_varTe.npy\", var_Te_rh160)"
   ]
  },
  {
   "cell_type": "markdown",
   "id": "2f752c74",
   "metadata": {},
   "source": [
    "**R (SANE, Rh=1)**"
   ]
  },
  {
   "cell_type": "code",
   "execution_count": 16,
   "id": "ec0253d3",
   "metadata": {},
   "outputs": [],
   "source": [
    "avg_R = 0.\n",
    "for i in range(i0, i1):\n",
    "    dump = pyharm.load_dump(fname(i, src_sa_5M))\n",
    "    avg_R += R(dump, 1., 1.)\n",
    "    del dump\n",
    "avg_R /= i1-i0"
   ]
  },
  {
   "cell_type": "code",
   "execution_count": 17,
   "id": "c88d830f",
   "metadata": {},
   "outputs": [],
   "source": [
    "np.save('sa_avgR1.npy', avg_R)"
   ]
  },
  {
   "cell_type": "markdown",
   "id": "71677fc6",
   "metadata": {},
   "source": [
    "**R (SANE, Rh=160)**"
   ]
  },
  {
   "cell_type": "code",
   "execution_count": 18,
   "id": "bf949131",
   "metadata": {},
   "outputs": [],
   "source": [
    "avg_R_rh160 = 0.\n",
    "for i in range(i0, i1):\n",
    "    dump = pyharm.load_dump(fname(i, src_sa_5M))\n",
    "    avg_R_rh160 += R(dump, 160., 1.)\n",
    "    del dump\n",
    "avg_R_rh160 /= i1-i0"
   ]
  },
  {
   "cell_type": "code",
   "execution_count": 19,
   "id": "9f5ee126",
   "metadata": {},
   "outputs": [],
   "source": [
    "np.save('sa_avgR160.npy', avg_R_rh160)"
   ]
  },
  {
   "cell_type": "code",
   "execution_count": null,
   "id": "6afac86a",
   "metadata": {},
   "outputs": [],
   "source": []
  }
 ],
 "metadata": {
  "kernelspec": {
   "display_name": "Python 3 (ipykernel)",
   "language": "python",
   "name": "python3"
  },
  "language_info": {
   "codemirror_mode": {
    "name": "ipython",
    "version": 3
   },
   "file_extension": ".py",
   "mimetype": "text/x-python",
   "name": "python",
   "nbconvert_exporter": "python",
   "pygments_lexer": "ipython3",
   "version": "3.8.12"
  }
 },
 "nbformat": 4,
 "nbformat_minor": 5
}
