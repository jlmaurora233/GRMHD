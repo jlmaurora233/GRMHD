{
 "cells": [
  {
   "cell_type": "markdown",
   "id": "56680c41",
   "metadata": {},
   "source": [
    "### Newly derived coefficients<br>\n",
    "$a = y(\\gamma_{i} - 1)$ <br>\n",
    "$b = z(\\gamma_{e} - 1)$ <br>\n",
    "$c = \\frac{m_{p}(\\gamma_{i} - 1)(\\gamma_{e}-1)}{k_{B}(\\gamma - 1)}$ <br>\n",
    "$C[Pg -> Te] = A = \\frac{<Te>}{<Pg>}-\\frac{2b<Te><Pg>(R_{h} - <R>)}{(<P_{mag}>^{2}+<Pg>^{2})(a+b<R>)}$ <br>\n",
    "$C[\\rho -> Te] = B = -\\frac{<Te>}{<\\rho>}$ <br>\n",
    "$C[B^{2} -> Te] = C = \\frac{b<Te><Pg>}{2\\mu_{0}(<P_{mag}>^{2}+<Pg>^{2})(a+b<R>)}$"
   ]
  },
  {
   "cell_type": "code",
   "execution_count": 7,
   "id": "3a7e8b0f",
   "metadata": {},
   "outputs": [],
   "source": [
    "# some constants\n",
    "cl = 29979245800.0 # speed of light in cgs\n",
    "mp = 1.67262171e-24\n",
    "kb = 1.3806505e-16\n",
    "mu = 1."
   ]
  },
  {
   "cell_type": "code",
   "execution_count": 8,
   "id": "a998f78e",
   "metadata": {},
   "outputs": [],
   "source": [
    "# constants used for the functions\n",
    "y = 1.\n",
    "z = 3.\n",
    "gamma = 4/3\n",
    "gamma_i = 4/3\n",
    "gamma_e = 7/3\n",
    "a = y*(gamma_i - 1)\n",
    "b = z*(gamma_e - 1)\n",
    "c = mp*(gamma_e - 1)*(gamma_i - 1)/(kb*(gamma - 1))"
   ]
  },
  {
   "cell_type": "code",
   "execution_count": 9,
   "id": "1e916e9a",
   "metadata": {},
   "outputs": [],
   "source": [
    "def CPg(avgTe, avgPg, avgPmag, avgR, Rh):\n",
    "    term1 = avgTe/avgPg\n",
    "    term2 = 2*b*avgTe*avgPg*(Rh-avgR)/((avgPmag**2+avgPg**2)*(a+b*avgR))\n",
    "    return term1-term2"
   ]
  },
  {
   "cell_type": "code",
   "execution_count": 10,
   "id": "33d81a6f",
   "metadata": {},
   "outputs": [],
   "source": [
    "def Crho(avgTe, avgrho):\n",
    "    return -avgTe/avgrho"
   ]
  },
  {
   "cell_type": "code",
   "execution_count": 11,
   "id": "292673f6",
   "metadata": {},
   "outputs": [],
   "source": [
    "def Cbsq(avgTe, avgPg, avgPmag, avgR):\n",
    "    nume = b*avgTe*avgPg\n",
    "    denom = 2*mu*(avgPmag**2+avgPg**2)*(a+b*avgR)\n",
    "    return nume/denom"
   ]
  },
  {
   "cell_type": "code",
   "execution_count": null,
   "id": "5663ea78",
   "metadata": {},
   "outputs": [],
   "source": []
  },
  {
   "cell_type": "markdown",
   "id": "a8726cb0",
   "metadata": {},
   "source": [
    "## Test:\n",
    "<h3>Check if coeffs are working properly: Use Te's long equation to get a list of Te values and calculate varTe</h3> <br>\n",
    "var(Te) = $(\\delta Te)^{2}$ = $A^{2}$var(Pg) + $B^{2}$var($\\rho$) + $C^{2}$var(bsq) + 2$AB$cov(Pg, $\\rho$) + 2$AC$ cov(Pg, bsq) + 2$BC$ cov($\\rho$, bsq)"
   ]
  },
  {
   "cell_type": "code",
   "execution_count": 21,
   "id": "552c9e5b",
   "metadata": {},
   "outputs": [],
   "source": [
    "# cross terms\n",
    "macov_rhoPg = np.load(\"ma_avgRHOPg.npy\", allow_pickle=True).item()['rhoPg'] - maPg_avg * maRHO_avg\n",
    "macov_PgPmag = np.load(\"ma_avgPgPmag.npy\", allow_pickle=True).item()['PgPmag']\n",
    "macov_rhoPmag = np.load(\"ma_avgRHOPmag.npy\", allow_pickle=True).item()['rhoPmag']\n",
    "\n",
    "sacov_rhoPg = np.load(\"sa_avgRHOPg.npy\", allow_pickle=True).item()['rhoPg']- saPg_avg * saRHO_avg\n",
    "sacov_PgPmag = np.load(\"sa_avgPgPmag.npy\", allow_pickle=True).item()['PgPmag']\n",
    "sacov_rhoPmag = np.load(\"sa_avgRHOPmag.npy\", allow_pickle=True).item()['rhoPmag']"
   ]
  },
  {
   "cell_type": "code",
   "execution_count": 22,
   "id": "7cfbfa15",
   "metadata": {},
   "outputs": [],
   "source": [
    "# change cross terms\n",
    "macov_Pgbsq = 2*mu*macov_PgPmag - maPg_avg*mabsq_avg\n",
    "macov_rhobsq = 2*mu*macov_rhoPmag - maRHO_avg*mabsq_avg\n",
    "\n",
    "sacov_Pgbsq = 2*mu*sacov_PgPmag - saPg_avg*sabsq_avg\n",
    "sacov_rhobsq = 2*mu*sacov_rhoPmag - saRHO_avg*sabsq_avg"
   ]
  },
  {
   "cell_type": "code",
   "execution_count": 23,
   "id": "e3585da8",
   "metadata": {},
   "outputs": [],
   "source": [
    "# R\n",
    "def R(beta, Rh=1., Rl=1.):\n",
    "    return Rl/(1+beta**2)+Rh*beta**2/(1+beta**2)"
   ]
  },
  {
   "cell_type": "code",
   "execution_count": 24,
   "id": "f95434c4",
   "metadata": {},
   "outputs": [],
   "source": [
    "def Te(beta, Pg, rho, Rh=1., Rl=1., gamma=4/3):\n",
    "    if gamma == 4/3:\n",
    "        y = 1\n",
    "        z = 3\n",
    "        gamma_i = 4/3\n",
    "        gamma_e = 7/3\n",
    "    if gamma == 13/9:\n",
    "        y = 1\n",
    "        z = 2\n",
    "        gamma_i = 13/9\n",
    "        gamma_e = 133/36\n",
    "    if gamma == 5/3:\n",
    "        y = 1\n",
    "        z = 1\n",
    "        gamma_i = 5/3\n",
    "        gamma_e = 5/3\n",
    "    u = Pg/(gamma-1)\n",
    "    r = R(beta, Rh, Rl)\n",
    "    numerator = mp*cl**2*u*(gamma_e-1)*(gamma_i-1)\n",
    "    denom = kb*rho*(y*(gamma_i-1)+r*z*(gamma_e-1))\n",
    "\n",
    "    electron_T = numerator/ denom\n",
    "    return electron_T"
   ]
  },
  {
   "cell_type": "markdown",
   "id": "7faebe20",
   "metadata": {},
   "source": [
    "<h5>test: generate a list of different random number grids and then calculate their variance by 1) direct calculations from Te OR 2) summation of variance terms </h5>"
   ]
  },
  {
   "cell_type": "markdown",
   "id": "caf1b9b9",
   "metadata": {},
   "source": [
    "1) direct calculations from Te"
   ]
  },
  {
   "cell_type": "code",
   "execution_count": 25,
   "id": "9983ecbd",
   "metadata": {},
   "outputs": [],
   "source": [
    "# test: read in coeffs\n",
    "# MAD, Rh=1\n",
    "ma_CPg1 = np.load('ma_CPg1.npy')\n",
    "ma_Crho1 = np.load('ma_Crho1.npy')\n",
    "ma_Cbsq1 = np.load('ma_Cbsq1.npy')"
   ]
  },
  {
   "cell_type": "code",
   "execution_count": 26,
   "id": "7131a0a2",
   "metadata": {},
   "outputs": [
    {
     "data": {
      "text/plain": [
       "(288, 128, 128)"
      ]
     },
     "execution_count": 26,
     "metadata": {},
     "output_type": "execute_result"
    }
   ],
   "source": [
    "ma_CPg1.shape"
   ]
  },
  {
   "cell_type": "code",
   "execution_count": 27,
   "id": "35a65bfd",
   "metadata": {},
   "outputs": [],
   "source": [
    "pg_lst = []\n",
    "rho_lst = []\n",
    "bsq_lst = []\n",
    "beta_lst = []\n",
    "Te_calc_lst = []\n",
    "for i in range(0, 5):\n",
    "    pg = np.random.random(ma_CPg1.shape)\n",
    "    pg_lst.append(pg)\n",
    "    rho = np.random.random(ma_Crho1.shape)\n",
    "    rho_lst.append(rho)\n",
    "    bsq = np.random.random(ma_Cbsq1.shape)\n",
    "    bsq_lst.append(bsq)\n",
    "    beta = np.random.random(ma_CPg1.shape)\n",
    "    beta_lst.append(beta)\n",
    "    Te_calc = Te(beta, pg, rho)\n",
    "    Te_calc_lst.append(Te_calc)"
   ]
  },
  {
   "cell_type": "code",
   "execution_count": 28,
   "id": "93572946",
   "metadata": {},
   "outputs": [],
   "source": [
    "pg_values = np.array(pg_lst)\n",
    "rho_values = np.array(rho_lst)\n",
    "bsq_values = np.array(bsq_lst)\n",
    "beta_values = np.array(beta_lst)\n",
    "Te_calc_values = np.array(Te_calc_lst)"
   ]
  },
  {
   "cell_type": "code",
   "execution_count": 29,
   "id": "56e15047",
   "metadata": {},
   "outputs": [
    {
     "data": {
      "text/plain": [
       "(288, 128, 128)"
      ]
     },
     "execution_count": 29,
     "metadata": {},
     "output_type": "execute_result"
    }
   ],
   "source": [
    "var_pg = np.var(pg_values, axis=0)\n",
    "var_pg.shape"
   ]
  },
  {
   "cell_type": "code",
   "execution_count": 30,
   "id": "3dbcf37b",
   "metadata": {},
   "outputs": [],
   "source": [
    "var_rho = np.var(rho_values, axis=0)\n",
    "var_bsq = np.var(bsq_values, axis=0)\n",
    "var_beta = np.var(beta_values, axis=0)\n",
    "varTe_calc = np.var(Te_calc_values, axis=0)"
   ]
  },
  {
   "cell_type": "markdown",
   "id": "7168d1ef",
   "metadata": {},
   "source": [
    "2) summation of variance terms"
   ]
  },
  {
   "cell_type": "code",
   "execution_count": 31,
   "id": "f1b39789",
   "metadata": {},
   "outputs": [],
   "source": [
    "def cov(arr1, arr2):\n",
    "    arr1_mean = np.mean(arr1, axis=0)\n",
    "    arr2_mean = np.mean(arr2, axis=0)\n",
    "    products = []\n",
    "    for i in range(0, 5):\n",
    "        prod = arr1[i] * arr2[i]\n",
    "        products.append(prod)\n",
    "    product_mean = np.mean(np.array(products), axis=0)\n",
    "    return product_mean-arr1_mean*arr2_mean"
   ]
  },
  {
   "cell_type": "code",
   "execution_count": 32,
   "id": "7264e4b2",
   "metadata": {},
   "outputs": [
    {
     "data": {
      "text/plain": [
       "(288, 128, 128)"
      ]
     },
     "execution_count": 32,
     "metadata": {},
     "output_type": "execute_result"
    }
   ],
   "source": [
    "cov_pgrho = cov(pg_values, rho_values)\n",
    "cov_pgrho.shape"
   ]
  },
  {
   "cell_type": "code",
   "execution_count": 33,
   "id": "c7101b6e",
   "metadata": {},
   "outputs": [],
   "source": [
    "cov_pgbsq = cov(pg_values, bsq_values)\n",
    "cov_rhobsq = cov(rho_values, bsq_values)"
   ]
  },
  {
   "cell_type": "code",
   "execution_count": 52,
   "id": "8b21853c",
   "metadata": {},
   "outputs": [],
   "source": [
    "varTe_coeff = np.square(ma_CPg1)*var_pg + np.square(ma_Crho1)*var_rho + np.square(ma_Cbsq1) * var_bsq + \\\n",
    "            2*ma_CPg1*ma_Crho1*cov_pgrho + 2*ma_CPg1*ma_Cbsq1*cov_pgbsq + 2*ma_Crho1*ma_Cbsq1 * cov_rhobsq"
   ]
  },
  {
   "cell_type": "code",
   "execution_count": 56,
   "id": "8ea2a602",
   "metadata": {},
   "outputs": [
    {
     "data": {
      "text/plain": [
       "array([[7.56779355e+26, 9.13187591e+26, 9.11147929e+26, ...,\n",
       "        8.15204399e+26, 1.05567007e+27, 1.10641422e+27],\n",
       "       [8.51881981e+26, 1.37074007e+27, 8.07030692e+26, ...,\n",
       "        3.81984020e+26, 5.18733877e+26, 1.64341092e+27],\n",
       "       [1.42603553e+27, 1.13035896e+27, 2.40888270e+26, ...,\n",
       "        1.78108909e+27, 2.63258944e+26, 9.99446084e+26],\n",
       "       ...,\n",
       "       [1.54860761e+27, 1.15190702e+27, 8.55709455e+26, ...,\n",
       "        1.23902496e+27, 3.34467932e+26, 6.91819297e+26],\n",
       "       [1.08821336e+27, 2.99705971e+26, 4.96709007e+26, ...,\n",
       "        1.11886690e+27, 7.91749452e+26, 1.73237315e+27],\n",
       "       [4.17886291e+26, 1.80755705e+27, 4.70202532e+27, ...,\n",
       "        6.35930457e+26, 1.31806152e+27, 4.18474058e+27]])"
      ]
     },
     "execution_count": 56,
     "metadata": {},
     "output_type": "execute_result"
    }
   ],
   "source": [
    "varTe_coeff"
   ]
  },
  {
   "cell_type": "code",
   "execution_count": 63,
   "id": "04630138",
   "metadata": {
    "collapsed": true
   },
   "outputs": [
    {
     "data": {
      "text/plain": [
       "array([[[1.16541606e+26, 5.16901152e+25, 2.13976051e+25, ...,\n",
       "         6.91665325e+23, 9.91488801e+24, 1.99206437e+26],\n",
       "        [7.51242720e+24, 1.01690118e+25, 5.28743938e+25, ...,\n",
       "         6.70917227e+24, 4.09541150e+25, 7.31534340e+25],\n",
       "        [2.31637835e+26, 4.97975489e+26, 2.89393315e+25, ...,\n",
       "         4.37156456e+24, 2.50741422e+23, 1.26746784e+26],\n",
       "        ...,\n",
       "        [3.12866520e+25, 3.60315038e+25, 1.75869353e+24, ...,\n",
       "         6.55937167e+25, 2.35343323e+24, 1.49409244e+27],\n",
       "        [9.66492305e+26, 7.42509029e+25, 9.14634846e+24, ...,\n",
       "         3.51897184e+24, 4.84290530e+24, 5.01438094e+25],\n",
       "        [2.80328568e+24, 8.49370067e+26, 3.02293084e+25, ...,\n",
       "         1.05310345e+26, 4.38121730e+24, 1.25025054e+26]],\n",
       "\n",
       "       [[2.31587799e+24, 5.78941049e+26, 1.06100395e+23, ...,\n",
       "         1.95136841e+25, 8.06401407e+23, 2.97582891e+24],\n",
       "        [1.78807952e+25, 5.20551700e+25, 4.71850973e+26, ...,\n",
       "         5.55046909e+23, 3.94836136e+26, 1.63502802e+26],\n",
       "        [2.74703938e+28, 2.47178170e+25, 2.39559929e+27, ...,\n",
       "         7.63727052e+24, 1.48493399e+25, 1.79129153e+28],\n",
       "        ...,\n",
       "        [5.06370387e+24, 9.06598514e+24, 1.11340105e+25, ...,\n",
       "         1.00485396e+25, 1.06777318e+25, 1.45420149e+26],\n",
       "        [9.77676775e+25, 7.35181782e+24, 6.57201071e+25, ...,\n",
       "         8.08706761e+24, 2.21612696e+26, 3.77711695e+25],\n",
       "        [8.94707134e+25, 4.64595755e+25, 1.31226729e+25, ...,\n",
       "         4.83634479e+25, 6.17798536e+25, 1.70917034e+25]],\n",
       "\n",
       "       [[3.10164624e+27, 1.49431421e+26, 5.52126688e+26, ...,\n",
       "         1.79656855e+25, 2.07410385e+26, 1.50156151e+26],\n",
       "        [1.44856295e+24, 2.98855034e+24, 9.20625246e+24, ...,\n",
       "         5.38604555e+26, 6.75610757e+25, 3.57471779e+25],\n",
       "        [3.13406602e+24, 3.78855908e+25, 4.68513449e+25, ...,\n",
       "         2.93365116e+28, 1.29361602e+25, 8.14337278e+25],\n",
       "        ...,\n",
       "        [9.52241604e+26, 3.67223662e+24, 4.61974625e+27, ...,\n",
       "         5.72513741e+28, 6.37659209e+25, 1.71778863e+25],\n",
       "        [1.88026582e+25, 8.88497291e+26, 6.19076211e+24, ...,\n",
       "         1.61624855e+26, 6.76119518e+25, 1.16136776e+25],\n",
       "        [1.52402063e+25, 9.08264486e+23, 1.87313384e+24, ...,\n",
       "         3.38084703e+25, 1.55480792e+23, 1.09812709e+24]],\n",
       "\n",
       "       ...,\n",
       "\n",
       "       [[4.52757774e+24, 8.13074468e+24, 2.33641448e+25, ...,\n",
       "         3.42009188e+28, 3.63947700e+25, 5.62656622e+25],\n",
       "        [1.73423091e+26, 6.28001073e+25, 9.14956002e+24, ...,\n",
       "         6.17776961e+24, 6.29958382e+25, 3.13439237e+26],\n",
       "        [2.08021848e+24, 1.98559720e+24, 3.22814229e+25, ...,\n",
       "         2.53626923e+24, 1.70035268e+25, 4.04482699e+23],\n",
       "        ...,\n",
       "        [6.58713118e+24, 1.79428580e+25, 8.12783274e+25, ...,\n",
       "         5.37776259e+24, 9.52070841e+24, 1.64565157e+25],\n",
       "        [2.17486642e+24, 4.55748123e+24, 2.17403645e+27, ...,\n",
       "         2.09119936e+26, 8.14190867e+25, 5.04740424e+24],\n",
       "        [4.85390745e+24, 7.81267533e+25, 3.46952736e+25, ...,\n",
       "         5.26155738e+25, 2.57381049e+25, 6.80211474e+25]],\n",
       "\n",
       "       [[6.47883125e+24, 2.35164108e+25, 9.96023430e+25, ...,\n",
       "         1.81606572e+24, 4.14355359e+24, 4.37641504e+24],\n",
       "        [1.49818813e+25, 8.11965311e+25, 2.50822303e+27, ...,\n",
       "         1.03860016e+25, 3.67317094e+25, 2.04933606e+25],\n",
       "        [1.36626627e+26, 3.03020449e+24, 3.90236514e+24, ...,\n",
       "         1.73083281e+24, 1.61309352e+23, 7.28545092e+25],\n",
       "        ...,\n",
       "        [1.64236129e+25, 3.15548117e+26, 3.54295856e+25, ...,\n",
       "         1.16663837e+25, 4.66796287e+25, 9.60264317e+26],\n",
       "        [2.99308809e+25, 4.37619125e+25, 5.90786083e+24, ...,\n",
       "         2.42931388e+27, 9.67605398e+24, 1.47381720e+25],\n",
       "        [4.99020600e+27, 1.26129278e+26, 1.19572504e+25, ...,\n",
       "         2.91310205e+26, 2.32416919e+27, 1.81722575e+25]],\n",
       "\n",
       "       [[4.80332212e+26, 9.98748681e+24, 1.70579927e+26, ...,\n",
       "         5.78270309e+24, 1.48317216e+24, 3.42358238e+23],\n",
       "        [5.16455305e+24, 1.42205203e+24, 1.55358906e+25, ...,\n",
       "         1.56513830e+27, 1.08449025e+24, 1.97867600e+26],\n",
       "        [1.36243487e+26, 2.95635394e+26, 4.97622876e+27, ...,\n",
       "         2.49169691e+24, 1.32113788e+24, 6.03674665e+25],\n",
       "        ...,\n",
       "        [2.85723286e+24, 1.01425810e+25, 1.42720633e+24, ...,\n",
       "         1.17116025e+25, 1.43257626e+25, 3.16106834e+24],\n",
       "        [8.11652020e+24, 8.44391977e+25, 1.30823262e+26, ...,\n",
       "         4.76528871e+24, 3.41885735e+24, 2.69378822e+26],\n",
       "        [7.82347915e+25, 7.07861012e+26, 1.43698875e+26, ...,\n",
       "         4.92350437e+24, 4.24815325e+24, 3.18817874e+24]]])"
      ]
     },
     "execution_count": 63,
     "metadata": {},
     "output_type": "execute_result"
    }
   ],
   "source": [
    "varTe_calc"
   ]
  },
  {
   "cell_type": "code",
   "execution_count": 62,
   "id": "8411b17c",
   "metadata": {
    "collapsed": true
   },
   "outputs": [
    {
     "data": {
      "text/plain": [
       "array([[[0.03630905, 0.03927567, 0.01753879, ..., 0.06408724,\n",
       "         0.04435208, 0.10044517],\n",
       "        [0.03071065, 0.04741271, 0.06384511, ..., 0.08975612,\n",
       "         0.06669829, 0.07849137],\n",
       "        [0.0992089 , 0.08228761, 0.07194008, ..., 0.14804604,\n",
       "         0.07037098, 0.10068701],\n",
       "        ...,\n",
       "        [0.06609619, 0.00864754, 0.14593886, ..., 0.01907966,\n",
       "         0.08663158, 0.03786457],\n",
       "        [0.02806297, 0.04633568, 0.03797351, ..., 0.11510928,\n",
       "         0.06398439, 0.08716834],\n",
       "        [0.05132408, 0.06401046, 0.08182374, ..., 0.02609758,\n",
       "         0.04006474, 0.06575918]],\n",
       "\n",
       "       [[0.05110258, 0.03014889, 0.06079196, ..., 0.06062891,\n",
       "         0.11658748, 0.0272259 ],\n",
       "        [0.07374927, 0.10102529, 0.03490835, ..., 0.05387479,\n",
       "         0.14348988, 0.04836635],\n",
       "        [0.08095779, 0.04279491, 0.0780639 , ..., 0.10591892,\n",
       "         0.06528233, 0.05490951],\n",
       "        ...,\n",
       "        [0.00447805, 0.08693298, 0.04193807, ..., 0.11311389,\n",
       "         0.04382613, 0.09560696],\n",
       "        [0.05051571, 0.09996907, 0.10358631, ..., 0.05978481,\n",
       "         0.09440139, 0.08415754],\n",
       "        [0.13442496, 0.01035462, 0.05070695, ..., 0.07425069,\n",
       "         0.04519691, 0.08529135]],\n",
       "\n",
       "       [[0.07089425, 0.04697767, 0.11586722, ..., 0.00900953,\n",
       "         0.10387616, 0.09820645],\n",
       "        [0.03630105, 0.10035658, 0.07665976, ..., 0.04733567,\n",
       "         0.00514176, 0.05706598],\n",
       "        [0.00611724, 0.02623889, 0.05943112, ..., 0.09897671,\n",
       "         0.10905692, 0.07703818],\n",
       "        ...,\n",
       "        [0.04789431, 0.03475415, 0.04911598, ..., 0.01562413,\n",
       "         0.10593549, 0.07645946],\n",
       "        [0.02994043, 0.04568936, 0.07765473, ..., 0.04662153,\n",
       "         0.0967736 , 0.06938614],\n",
       "        [0.09962609, 0.10470007, 0.0473532 , ..., 0.07606558,\n",
       "         0.05781103, 0.05281525]],\n",
       "\n",
       "       ...,\n",
       "\n",
       "       [[0.07221968, 0.04910849, 0.05292814, ..., 0.02825727,\n",
       "         0.07632594, 0.03665505],\n",
       "        [0.13341767, 0.09650424, 0.05526346, ..., 0.04936452,\n",
       "         0.09522743, 0.0384953 ],\n",
       "        [0.043651  , 0.12556261, 0.04795309, ..., 0.05215443,\n",
       "         0.02025408, 0.07183149],\n",
       "        ...,\n",
       "        [0.05133605, 0.06524106, 0.04482526, ..., 0.04325984,\n",
       "         0.07040318, 0.03779577],\n",
       "        [0.08234065, 0.01903166, 0.0869373 , ..., 0.01780864,\n",
       "         0.03346651, 0.10089718],\n",
       "        [0.08145605, 0.08903964, 0.05357296, ..., 0.08423771,\n",
       "         0.0924667 , 0.04659452]],\n",
       "\n",
       "       [[0.07813896, 0.10642039, 0.03731153, ..., 0.00489964,\n",
       "         0.07949907, 0.04434261],\n",
       "        [0.05304875, 0.11606253, 0.03569862, ..., 0.03783903,\n",
       "         0.0494784 , 0.03464874],\n",
       "        [0.0744628 , 0.02959372, 0.04598176, ..., 0.02923348,\n",
       "         0.04004592, 0.03022051],\n",
       "        ...,\n",
       "        [0.09844456, 0.13233802, 0.03638349, ..., 0.09662975,\n",
       "         0.087464  , 0.08739542],\n",
       "        [0.01016178, 0.02292317, 0.08593915, ..., 0.03175769,\n",
       "         0.03955289, 0.04407463],\n",
       "        [0.08548279, 0.01647559, 0.05276527, ..., 0.0623743 ,\n",
       "         0.09959954, 0.01276283]],\n",
       "\n",
       "       [[0.14176219, 0.08891412, 0.04250971, ..., 0.06609979,\n",
       "         0.13580674, 0.05776325],\n",
       "        [0.02157385, 0.09213412, 0.07092679, ..., 0.07582732,\n",
       "         0.06730222, 0.06878354],\n",
       "        [0.15059438, 0.03976181, 0.03448315, ..., 0.07634764,\n",
       "         0.07135911, 0.13250643],\n",
       "        ...,\n",
       "        [0.07249847, 0.09113662, 0.04064819, ..., 0.05525112,\n",
       "         0.07615826, 0.06847977],\n",
       "        [0.05685828, 0.07002068, 0.05831569, ..., 0.06022677,\n",
       "         0.0255942 , 0.07098231],\n",
       "        [0.01462896, 0.01414704, 0.04364554, ..., 0.06817115,\n",
       "         0.01591732, 0.03998723]]])"
      ]
     },
     "execution_count": 62,
     "metadata": {},
     "output_type": "execute_result"
    }
   ],
   "source": [
    "var_bsq"
   ]
  },
  {
   "cell_type": "markdown",
   "id": "425c6b1a",
   "metadata": {},
   "source": [
    "Equation: var(Te) = $(\\delta Te)^{2}$ = $A^{2}$var(Pg) + $B^{2}$var($\\rho$) + $C^{2}$var(bsq) + 2$AB$cov(Pg, $\\rho$) + 2$AC$ cov(Pg, bsq) + 2$BC$ cov($\\rho$, bsq) <br>\n",
    "\n",
    "Order of magnitude (following the grid's order; upper and lower limits taken from [10%, 90%]): <br>\n",
    "coefficients: <br>\n",
    "C[Pg->Te]: $10^{13}$ -> $10^{16}$ <br>\n",
    "C[$\\rho$->Te]: $-10^{11}$ -> $-10^{15}$ <br>\n",
    "C[bsq->Te]: $10^{9}$ -> $10^{15}$ <br>\n",
    "\n",
    "generated, independent values: <br>\n",
    "var_Pg: $10^{-2}$ -> $10^{-1}$ <br> \n",
    "var_rho: $10^{-2}$ -> $10^{-1}$ <br> \n",
    "var_bsq: $10^{-2}$ -> $10^{-1}$ <br> \n",
    "=> In this case, Te is expected to be $10^{23}$ to $10^{26}$ while Te (coeff) ranges from $10^{23}$ to $10^{36}$. The order of mag is off by (up to) $10^{10}$. It's caused by the fact that the randomly generated Pg, rho, and bsq values are constrained to be between 0 and 1. They do not follow the real trend of Pg, rho, and bsq values.\n",
    "\n",
    "real values: <br>\n",
    "var_Te: $10^{22}$ -> $10^{15}$ <br>\n",
    "var_Pg: $10^{-4}$ -> $10^{-15}$ <br>\n",
    "var_rho: $10^{-2}$ -> $10^{-11}$ <br>\n",
    "var_bsq: $10^{-2}$ -> $10^{-17}$ <br>\n",
    "cov_PgRHO: $10^{-3}$ -> $10^{-14}$ <br>\n",
    "`The transition from positive to negative values and the extremely small values contained in this process mess up with the np.percentile function, so the following ranges are estimations:` <br>\n",
    "cov_Pgbsq:  $10^{-3}$->$-10^{-13}$<br>\n",
    "cov_RHObsq: $10^{-3}$->$-10^{-11}$ <br>\n",
    "Following the equation, at the beginning part of the grid, RHS of the quation yields $10^{26}\\times 10^{-4} + 10^{22}\\times 10^{-2} + 10^{18}\\times 10^{-2} + 2\\times 10^{13}\\times (-10^{11})\\times 10^{-3} + 2\\times 10^{13} \\times 10^{9} \\times 10^{-3} + 2\\times (-10^{11}) \\times 10^{9} \\times 10^{-3} \\approx 10^{22}$; <br> at the end part of the grid, RHS of the equation yields $10^{32}\\times 10^{-15} + 10^{30}\\times 10^{-11} + 10^{30}\\times 10^{-17} + 2\\times 10^{16} \\times (-10^{15})\\times 10^{-14} + 2\\times 10^{16} \\times 10^{15} \\times (-10^{-13}) + 2\\times (-10^{15})\\times 10^{15} \\times 10^{-11} \\approx 10^{18}$ <br> The lower limit is close to 40% percentile of varTe, which may be caused by the estimations of covariances"
   ]
  },
  {
   "cell_type": "code",
   "execution_count": null,
   "id": "d4beb1c3",
   "metadata": {},
   "outputs": [],
   "source": []
  },
  {
   "cell_type": "code",
   "execution_count": null,
   "id": "65b893cf",
   "metadata": {},
   "outputs": [],
   "source": []
  },
  {
   "cell_type": "code",
   "execution_count": null,
   "id": "16c26512",
   "metadata": {},
   "outputs": [],
   "source": []
  },
  {
   "cell_type": "markdown",
   "id": "34f0aed2",
   "metadata": {},
   "source": [
    "If they are: Do the var(Te) [two versions: 1) calculated from error propagation and 2) directly calculated] VS theta ([0, pi]) plots at different radius (i.e. different index slices of that (288, 128, 128) array). Say, radius r=2, then choose the slice varTe[2, :, 0] so that you got a 1D var(Te) at radius r=2 along theta"
   ]
  },
  {
   "cell_type": "code",
   "execution_count": null,
   "id": "b901f3a6",
   "metadata": {},
   "outputs": [],
   "source": []
  }
 ],
 "metadata": {
  "kernelspec": {
   "display_name": "Python 3 (ipykernel)",
   "language": "python",
   "name": "python3"
  },
  "language_info": {
   "codemirror_mode": {
    "name": "ipython",
    "version": 3
   },
   "file_extension": ".py",
   "mimetype": "text/x-python",
   "name": "python",
   "nbconvert_exporter": "python",
   "pygments_lexer": "ipython3",
   "version": "3.8.12"
  }
 },
 "nbformat": 4,
 "nbformat_minor": 5
}
